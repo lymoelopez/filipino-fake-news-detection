{
  "nbformat": 4,
  "nbformat_minor": 0,
  "metadata": {
    "colab": {
      "provenance": [],
      "collapsed_sections": [
        "UVEagCP8_d30",
        "qKR3cfsGAs0g",
        "kLZgiKJ3d3eD",
        "aMACB_A-j3mL",
        "zYJGyj7Kmj4Q",
        "YHfpePN1yGrt",
        "xfOXLQTf4A8h",
        "evLDqvNO4Des",
        "0OlbHLZBGRcs",
        "nYrbtctqGYmc",
        "x7ma83WDOYNY",
        "qAIo6XTbQkaG"
      ],
      "authorship_tag": "ABX9TyPj9Siu6b7WQmE0qn+CefTE",
      "include_colab_link": true
    },
    "kernelspec": {
      "name": "python3",
      "display_name": "Python 3"
    },
    "language_info": {
      "name": "python"
    }
  },
  "cells": [
    {
      "cell_type": "markdown",
      "metadata": {
        "id": "view-in-github",
        "colab_type": "text"
      },
      "source": [
        "<a href=\"https://colab.research.google.com/github/lymoelopez/filipino-fake-news-detection/blob/main/fakeNewsDetection.ipynb\" target=\"_parent\"><img src=\"https://colab.research.google.com/assets/colab-badge.svg\" alt=\"Open In Colab\"/></a>"
      ]
    },
    {
      "cell_type": "markdown",
      "source": [
        "# Import Libraries"
      ],
      "metadata": {
        "id": "sTwu31-sbCGx"
      }
    },
    {
      "cell_type": "code",
      "execution_count": null,
      "metadata": {
        "id": "nDst6tLRLZEW"
      },
      "outputs": [],
      "source": [
        "import numpy as np\n",
        "import pandas as pd\n",
        "import itertools\n",
        "\n",
        "from sklearn.model_selection import train_test_split\n",
        "from sklearn.feature_extraction.text import TfidfVectorizer\n",
        "from sklearn.linear_model import PassiveAggressiveClassifier, LogisticRegression\n",
        "from sklearn.metrics import accuracy_score, confusion_matrix\n",
        "from sklearn.naive_bayes import MultinomialNB\n",
        "from sklearn.ensemble import RandomForestClassifier, VotingClassifier, ExtraTreesClassifier, AdaBoostClassifier\n",
        "from sklearn.svm import SVC\n",
        "from sklearn.linear_model import SGDClassifier\n",
        "from sklearn.metrics import ConfusionMatrixDisplay\n",
        "from sklearn.tree import DecisionTreeClassifier\n",
        "import xgboost as xgb\n",
        "\n",
        "from google.colab import files\n",
        "import io\n",
        "import matplotlib.pyplot as plt\n",
        "\n",
        "import re\n",
        "import string\n",
        "\n",
        "from sklearn.metrics import precision_recall_fscore_support\n",
        "import pickle\n"
      ]
    },
    {
      "cell_type": "markdown",
      "source": [
        "# Data Preparation\n",
        "\n",
        "\n"
      ],
      "metadata": {
        "id": "wFv-JIReXSOp"
      }
    },
    {
      "cell_type": "code",
      "source": [
        "# import from local files\n",
        "uploaded = files.upload()"
      ],
      "metadata": {
        "colab": {
          "base_uri": "https://localhost:8080/",
          "height": 82
        },
        "id": "CuUGLJeiWgdy",
        "outputId": "c5a6b707-bafb-4842-9dfb-2e04e21d45b3"
      },
      "execution_count": null,
      "outputs": [
        {
          "output_type": "display_data",
          "data": {
            "text/plain": [
              "<IPython.core.display.HTML object>"
            ],
            "text/html": [
              "\n",
              "     <input type=\"file\" id=\"files-6ba41752-c639-43c5-8d53-f5af282e250a\" name=\"files[]\" multiple disabled\n",
              "        style=\"border:none\" />\n",
              "     <output id=\"result-6ba41752-c639-43c5-8d53-f5af282e250a\">\n",
              "      Upload widget is only available when the cell has been executed in the\n",
              "      current browser session. Please rerun this cell to enable.\n",
              "      </output>\n",
              "      <script>// Copyright 2017 Google LLC\n",
              "//\n",
              "// Licensed under the Apache License, Version 2.0 (the \"License\");\n",
              "// you may not use this file except in compliance with the License.\n",
              "// You may obtain a copy of the License at\n",
              "//\n",
              "//      http://www.apache.org/licenses/LICENSE-2.0\n",
              "//\n",
              "// Unless required by applicable law or agreed to in writing, software\n",
              "// distributed under the License is distributed on an \"AS IS\" BASIS,\n",
              "// WITHOUT WARRANTIES OR CONDITIONS OF ANY KIND, either express or implied.\n",
              "// See the License for the specific language governing permissions and\n",
              "// limitations under the License.\n",
              "\n",
              "/**\n",
              " * @fileoverview Helpers for google.colab Python module.\n",
              " */\n",
              "(function(scope) {\n",
              "function span(text, styleAttributes = {}) {\n",
              "  const element = document.createElement('span');\n",
              "  element.textContent = text;\n",
              "  for (const key of Object.keys(styleAttributes)) {\n",
              "    element.style[key] = styleAttributes[key];\n",
              "  }\n",
              "  return element;\n",
              "}\n",
              "\n",
              "// Max number of bytes which will be uploaded at a time.\n",
              "const MAX_PAYLOAD_SIZE = 100 * 1024;\n",
              "\n",
              "function _uploadFiles(inputId, outputId) {\n",
              "  const steps = uploadFilesStep(inputId, outputId);\n",
              "  const outputElement = document.getElementById(outputId);\n",
              "  // Cache steps on the outputElement to make it available for the next call\n",
              "  // to uploadFilesContinue from Python.\n",
              "  outputElement.steps = steps;\n",
              "\n",
              "  return _uploadFilesContinue(outputId);\n",
              "}\n",
              "\n",
              "// This is roughly an async generator (not supported in the browser yet),\n",
              "// where there are multiple asynchronous steps and the Python side is going\n",
              "// to poll for completion of each step.\n",
              "// This uses a Promise to block the python side on completion of each step,\n",
              "// then passes the result of the previous step as the input to the next step.\n",
              "function _uploadFilesContinue(outputId) {\n",
              "  const outputElement = document.getElementById(outputId);\n",
              "  const steps = outputElement.steps;\n",
              "\n",
              "  const next = steps.next(outputElement.lastPromiseValue);\n",
              "  return Promise.resolve(next.value.promise).then((value) => {\n",
              "    // Cache the last promise value to make it available to the next\n",
              "    // step of the generator.\n",
              "    outputElement.lastPromiseValue = value;\n",
              "    return next.value.response;\n",
              "  });\n",
              "}\n",
              "\n",
              "/**\n",
              " * Generator function which is called between each async step of the upload\n",
              " * process.\n",
              " * @param {string} inputId Element ID of the input file picker element.\n",
              " * @param {string} outputId Element ID of the output display.\n",
              " * @return {!Iterable<!Object>} Iterable of next steps.\n",
              " */\n",
              "function* uploadFilesStep(inputId, outputId) {\n",
              "  const inputElement = document.getElementById(inputId);\n",
              "  inputElement.disabled = false;\n",
              "\n",
              "  const outputElement = document.getElementById(outputId);\n",
              "  outputElement.innerHTML = '';\n",
              "\n",
              "  const pickedPromise = new Promise((resolve) => {\n",
              "    inputElement.addEventListener('change', (e) => {\n",
              "      resolve(e.target.files);\n",
              "    });\n",
              "  });\n",
              "\n",
              "  const cancel = document.createElement('button');\n",
              "  inputElement.parentElement.appendChild(cancel);\n",
              "  cancel.textContent = 'Cancel upload';\n",
              "  const cancelPromise = new Promise((resolve) => {\n",
              "    cancel.onclick = () => {\n",
              "      resolve(null);\n",
              "    };\n",
              "  });\n",
              "\n",
              "  // Wait for the user to pick the files.\n",
              "  const files = yield {\n",
              "    promise: Promise.race([pickedPromise, cancelPromise]),\n",
              "    response: {\n",
              "      action: 'starting',\n",
              "    }\n",
              "  };\n",
              "\n",
              "  cancel.remove();\n",
              "\n",
              "  // Disable the input element since further picks are not allowed.\n",
              "  inputElement.disabled = true;\n",
              "\n",
              "  if (!files) {\n",
              "    return {\n",
              "      response: {\n",
              "        action: 'complete',\n",
              "      }\n",
              "    };\n",
              "  }\n",
              "\n",
              "  for (const file of files) {\n",
              "    const li = document.createElement('li');\n",
              "    li.append(span(file.name, {fontWeight: 'bold'}));\n",
              "    li.append(span(\n",
              "        `(${file.type || 'n/a'}) - ${file.size} bytes, ` +\n",
              "        `last modified: ${\n",
              "            file.lastModifiedDate ? file.lastModifiedDate.toLocaleDateString() :\n",
              "                                    'n/a'} - `));\n",
              "    const percent = span('0% done');\n",
              "    li.appendChild(percent);\n",
              "\n",
              "    outputElement.appendChild(li);\n",
              "\n",
              "    const fileDataPromise = new Promise((resolve) => {\n",
              "      const reader = new FileReader();\n",
              "      reader.onload = (e) => {\n",
              "        resolve(e.target.result);\n",
              "      };\n",
              "      reader.readAsArrayBuffer(file);\n",
              "    });\n",
              "    // Wait for the data to be ready.\n",
              "    let fileData = yield {\n",
              "      promise: fileDataPromise,\n",
              "      response: {\n",
              "        action: 'continue',\n",
              "      }\n",
              "    };\n",
              "\n",
              "    // Use a chunked sending to avoid message size limits. See b/62115660.\n",
              "    let position = 0;\n",
              "    do {\n",
              "      const length = Math.min(fileData.byteLength - position, MAX_PAYLOAD_SIZE);\n",
              "      const chunk = new Uint8Array(fileData, position, length);\n",
              "      position += length;\n",
              "\n",
              "      const base64 = btoa(String.fromCharCode.apply(null, chunk));\n",
              "      yield {\n",
              "        response: {\n",
              "          action: 'append',\n",
              "          file: file.name,\n",
              "          data: base64,\n",
              "        },\n",
              "      };\n",
              "\n",
              "      let percentDone = fileData.byteLength === 0 ?\n",
              "          100 :\n",
              "          Math.round((position / fileData.byteLength) * 100);\n",
              "      percent.textContent = `${percentDone}% done`;\n",
              "\n",
              "    } while (position < fileData.byteLength);\n",
              "  }\n",
              "\n",
              "  // All done.\n",
              "  yield {\n",
              "    response: {\n",
              "      action: 'complete',\n",
              "    }\n",
              "  };\n",
              "}\n",
              "\n",
              "scope.google = scope.google || {};\n",
              "scope.google.colab = scope.google.colab || {};\n",
              "scope.google.colab._files = {\n",
              "  _uploadFiles,\n",
              "  _uploadFilesContinue,\n",
              "};\n",
              "})(self);\n",
              "</script> "
            ]
          },
          "metadata": {}
        },
        {
          "output_type": "stream",
          "name": "stdout",
          "text": [
            "Saving full.csv to full.csv\n"
          ]
        }
      ]
    },
    {
      "cell_type": "code",
      "source": [
        "#Read dataset\n",
        "df = pd.read_csv(io.BytesIO(uploaded['full.csv']))\n",
        "# Dataset is now stored in a Pandas Dataframe"
      ],
      "metadata": {
        "id": "15-KAfeAWnkc"
      },
      "execution_count": null,
      "outputs": []
    },
    {
      "cell_type": "code",
      "source": [
        "#Get shape\n",
        "df.shape\n",
        "\n",
        "# output first 5 records\n",
        "df.head()  "
      ],
      "metadata": {
        "colab": {
          "base_uri": "https://localhost:8080/",
          "height": 221
        },
        "id": "97TjFHlwcAhk",
        "outputId": "88f2b282-dc08-41ae-94ba-7ecd974bf50f"
      },
      "execution_count": null,
      "outputs": [
        {
          "output_type": "execute_result",
          "data": {
            "text/plain": [
              "   label                                            article\n",
              "0      0  Ayon sa TheWrap.com, naghain ng kaso si Krupa,...\n",
              "1      0  Kilala rin ang singer sa pagkumpas ng kanyang ...\n",
              "2      0  BLANTYRE, Malawi (AP) -- Bumiyahe patungong Ma...\n",
              "3      0  Kasama sa programa ang pananalangin, bulaklak ...\n",
              "4      0  Linisin ang Friendship Department dahil dadala..."
            ],
            "text/html": [
              "\n",
              "  <div id=\"df-1cff7c3b-951f-4fab-80e9-af4b9b81b111\">\n",
              "    <div class=\"colab-df-container\">\n",
              "      <div>\n",
              "<style scoped>\n",
              "    .dataframe tbody tr th:only-of-type {\n",
              "        vertical-align: middle;\n",
              "    }\n",
              "\n",
              "    .dataframe tbody tr th {\n",
              "        vertical-align: top;\n",
              "    }\n",
              "\n",
              "    .dataframe thead th {\n",
              "        text-align: right;\n",
              "    }\n",
              "</style>\n",
              "<table border=\"1\" class=\"dataframe\">\n",
              "  <thead>\n",
              "    <tr style=\"text-align: right;\">\n",
              "      <th></th>\n",
              "      <th>label</th>\n",
              "      <th>article</th>\n",
              "    </tr>\n",
              "  </thead>\n",
              "  <tbody>\n",
              "    <tr>\n",
              "      <th>0</th>\n",
              "      <td>0</td>\n",
              "      <td>Ayon sa TheWrap.com, naghain ng kaso si Krupa,...</td>\n",
              "    </tr>\n",
              "    <tr>\n",
              "      <th>1</th>\n",
              "      <td>0</td>\n",
              "      <td>Kilala rin ang singer sa pagkumpas ng kanyang ...</td>\n",
              "    </tr>\n",
              "    <tr>\n",
              "      <th>2</th>\n",
              "      <td>0</td>\n",
              "      <td>BLANTYRE, Malawi (AP) -- Bumiyahe patungong Ma...</td>\n",
              "    </tr>\n",
              "    <tr>\n",
              "      <th>3</th>\n",
              "      <td>0</td>\n",
              "      <td>Kasama sa programa ang pananalangin, bulaklak ...</td>\n",
              "    </tr>\n",
              "    <tr>\n",
              "      <th>4</th>\n",
              "      <td>0</td>\n",
              "      <td>Linisin ang Friendship Department dahil dadala...</td>\n",
              "    </tr>\n",
              "  </tbody>\n",
              "</table>\n",
              "</div>\n",
              "      <button class=\"colab-df-convert\" onclick=\"convertToInteractive('df-1cff7c3b-951f-4fab-80e9-af4b9b81b111')\"\n",
              "              title=\"Convert this dataframe to an interactive table.\"\n",
              "              style=\"display:none;\">\n",
              "        \n",
              "  <svg xmlns=\"http://www.w3.org/2000/svg\" height=\"24px\"viewBox=\"0 0 24 24\"\n",
              "       width=\"24px\">\n",
              "    <path d=\"M0 0h24v24H0V0z\" fill=\"none\"/>\n",
              "    <path d=\"M18.56 5.44l.94 2.06.94-2.06 2.06-.94-2.06-.94-.94-2.06-.94 2.06-2.06.94zm-11 1L8.5 8.5l.94-2.06 2.06-.94-2.06-.94L8.5 2.5l-.94 2.06-2.06.94zm10 10l.94 2.06.94-2.06 2.06-.94-2.06-.94-.94-2.06-.94 2.06-2.06.94z\"/><path d=\"M17.41 7.96l-1.37-1.37c-.4-.4-.92-.59-1.43-.59-.52 0-1.04.2-1.43.59L10.3 9.45l-7.72 7.72c-.78.78-.78 2.05 0 2.83L4 21.41c.39.39.9.59 1.41.59.51 0 1.02-.2 1.41-.59l7.78-7.78 2.81-2.81c.8-.78.8-2.07 0-2.86zM5.41 20L4 18.59l7.72-7.72 1.47 1.35L5.41 20z\"/>\n",
              "  </svg>\n",
              "      </button>\n",
              "      \n",
              "  <style>\n",
              "    .colab-df-container {\n",
              "      display:flex;\n",
              "      flex-wrap:wrap;\n",
              "      gap: 12px;\n",
              "    }\n",
              "\n",
              "    .colab-df-convert {\n",
              "      background-color: #E8F0FE;\n",
              "      border: none;\n",
              "      border-radius: 50%;\n",
              "      cursor: pointer;\n",
              "      display: none;\n",
              "      fill: #1967D2;\n",
              "      height: 32px;\n",
              "      padding: 0 0 0 0;\n",
              "      width: 32px;\n",
              "    }\n",
              "\n",
              "    .colab-df-convert:hover {\n",
              "      background-color: #E2EBFA;\n",
              "      box-shadow: 0px 1px 2px rgba(60, 64, 67, 0.3), 0px 1px 3px 1px rgba(60, 64, 67, 0.15);\n",
              "      fill: #174EA6;\n",
              "    }\n",
              "\n",
              "    [theme=dark] .colab-df-convert {\n",
              "      background-color: #3B4455;\n",
              "      fill: #D2E3FC;\n",
              "    }\n",
              "\n",
              "    [theme=dark] .colab-df-convert:hover {\n",
              "      background-color: #434B5C;\n",
              "      box-shadow: 0px 1px 3px 1px rgba(0, 0, 0, 0.15);\n",
              "      filter: drop-shadow(0px 1px 2px rgba(0, 0, 0, 0.3));\n",
              "      fill: #FFFFFF;\n",
              "    }\n",
              "  </style>\n",
              "\n",
              "      <script>\n",
              "        const buttonEl =\n",
              "          document.querySelector('#df-1cff7c3b-951f-4fab-80e9-af4b9b81b111 button.colab-df-convert');\n",
              "        buttonEl.style.display =\n",
              "          google.colab.kernel.accessAllowed ? 'block' : 'none';\n",
              "\n",
              "        async function convertToInteractive(key) {\n",
              "          const element = document.querySelector('#df-1cff7c3b-951f-4fab-80e9-af4b9b81b111');\n",
              "          const dataTable =\n",
              "            await google.colab.kernel.invokeFunction('convertToInteractive',\n",
              "                                                     [key], {});\n",
              "          if (!dataTable) return;\n",
              "\n",
              "          const docLinkHtml = 'Like what you see? Visit the ' +\n",
              "            '<a target=\"_blank\" href=https://colab.research.google.com/notebooks/data_table.ipynb>data table notebook</a>'\n",
              "            + ' to learn more about interactive tables.';\n",
              "          element.innerHTML = '';\n",
              "          dataTable['output_type'] = 'display_data';\n",
              "          await google.colab.output.renderOutput(dataTable, element);\n",
              "          const docLink = document.createElement('div');\n",
              "          docLink.innerHTML = docLinkHtml;\n",
              "          element.appendChild(docLink);\n",
              "        }\n",
              "      </script>\n",
              "    </div>\n",
              "  </div>\n",
              "  "
            ]
          },
          "metadata": {},
          "execution_count": 4
        }
      ]
    },
    {
      "cell_type": "code",
      "source": [
        "# Get dataFrame (df) labels\n",
        "labels=df.label\n",
        "labels.head() # 1 = fake, 0 = true"
      ],
      "metadata": {
        "colab": {
          "base_uri": "https://localhost:8080/"
        },
        "id": "-DUEcjLBcH5N",
        "outputId": "7f5cf497-cf7b-41b9-b25d-9ce116ad2b34"
      },
      "execution_count": null,
      "outputs": [
        {
          "output_type": "execute_result",
          "data": {
            "text/plain": [
              "0    0\n",
              "1    0\n",
              "2    0\n",
              "3    0\n",
              "4    0\n",
              "Name: label, dtype: int64"
            ]
          },
          "metadata": {},
          "execution_count": 5
        }
      ]
    },
    {
      "cell_type": "code",
      "source": [
        "# dataset distribution [pie chart]\n",
        "fakeNewsCategory = pd.get_dummies(df.label)[1]  # 1 = fake, 0 = real\n",
        "fakeNewsSize = fakeNewsCategory.sum()\n",
        "realNewsSize = len(fakeNewsCategory)- fakeNewsSize\n",
        "\n",
        "datasetSize = [fakeNewsSize, realNewsSize]\n",
        "\n",
        "plt.pie(datasetSize,explode=[0.1,0.1],colors=['firebrick','navy'],startangle=90,shadow=True,labels=['Fake','True'],autopct='%1.1f%%')"
      ],
      "metadata": {
        "colab": {
          "base_uri": "https://localhost:8080/",
          "height": 376
        },
        "id": "ZvLW9bAktrO3",
        "outputId": "6383e737-7113-4b00-db55-6085e4c783a1"
      },
      "execution_count": null,
      "outputs": [
        {
          "output_type": "execute_result",
          "data": {
            "text/plain": [
              "([<matplotlib.patches.Wedge at 0x7faeaa9470d0>,\n",
              "  <matplotlib.patches.Wedge at 0x7faeaa9477c0>],\n",
              " [Text(-1.2000000000000002, 1.469576158976824e-16, 'Fake'),\n",
              "  Text(1.2000000000000002, -2.939152317953648e-16, 'True')],\n",
              " [Text(-0.7, 8.572527594031472e-17, '50.0%'),\n",
              "  Text(0.7, -1.7145055188062944e-16, '50.0%')])"
            ]
          },
          "metadata": {},
          "execution_count": 6
        },
        {
          "output_type": "display_data",
          "data": {
            "text/plain": [
              "<Figure size 432x288 with 1 Axes>"
            ],
            "image/png": "[encoded data removed]"
          },
          "metadata": {}
        }
      ]
    },
    {
      "cell_type": "markdown",
      "source": [
        "# Data Augmentation (w/ Back Translation)"
      ],
      "metadata": {
        "id": "7Ags8ymSPfdw"
      }
    },
    {
      "cell_type": "code",
      "source": [
        "# import from local files\n",
        "uploadedBT = files.upload()"
      ],
      "metadata": {
        "colab": {
          "base_uri": "https://localhost:8080/",
          "height": 82
        },
        "id": "ZgS8EnY3Pekc",
        "outputId": "3e189026-e99f-4000-8207-744908a44b37"
      },
      "execution_count": null,
      "outputs": [
        {
          "output_type": "display_data",
          "data": {
            "text/plain": [
              "<IPython.core.display.HTML object>"
            ],
            "text/html": [
              "\n",
              "     <input type=\"file\" id=\"files-869e0a19-67cd-4bd0-a814-b1eeaee01e86\" name=\"files[]\" multiple disabled\n",
              "        style=\"border:none\" />\n",
              "     <output id=\"result-869e0a19-67cd-4bd0-a814-b1eeaee01e86\">\n",
              "      Upload widget is only available when the cell has been executed in the\n",
              "      current browser session. Please rerun this cell to enable.\n",
              "      </output>\n",
              "      <script>// Copyright 2017 Google LLC\n",
              "//\n",
              "// Licensed under the Apache License, Version 2.0 (the \"License\");\n",
              "// you may not use this file except in compliance with the License.\n",
              "// You may obtain a copy of the License at\n",
              "//\n",
              "//      http://www.apache.org/licenses/LICENSE-2.0\n",
              "//\n",
              "// Unless required by applicable law or agreed to in writing, software\n",
              "// distributed under the License is distributed on an \"AS IS\" BASIS,\n",
              "// WITHOUT WARRANTIES OR CONDITIONS OF ANY KIND, either express or implied.\n",
              "// See the License for the specific language governing permissions and\n",
              "// limitations under the License.\n",
              "\n",
              "/**\n",
              " * @fileoverview Helpers for google.colab Python module.\n",
              " */\n",
              "(function(scope) {\n",
              "function span(text, styleAttributes = {}) {\n",
              "  const element = document.createElement('span');\n",
              "  element.textContent = text;\n",
              "  for (const key of Object.keys(styleAttributes)) {\n",
              "    element.style[key] = styleAttributes[key];\n",
              "  }\n",
              "  return element;\n",
              "}\n",
              "\n",
              "// Max number of bytes which will be uploaded at a time.\n",
              "const MAX_PAYLOAD_SIZE = 100 * 1024;\n",
              "\n",
              "function _uploadFiles(inputId, outputId) {\n",
              "  const steps = uploadFilesStep(inputId, outputId);\n",
              "  const outputElement = document.getElementById(outputId);\n",
              "  // Cache steps on the outputElement to make it available for the next call\n",
              "  // to uploadFilesContinue from Python.\n",
              "  outputElement.steps = steps;\n",
              "\n",
              "  return _uploadFilesContinue(outputId);\n",
              "}\n",
              "\n",
              "// This is roughly an async generator (not supported in the browser yet),\n",
              "// where there are multiple asynchronous steps and the Python side is going\n",
              "// to poll for completion of each step.\n",
              "// This uses a Promise to block the python side on completion of each step,\n",
              "// then passes the result of the previous step as the input to the next step.\n",
              "function _uploadFilesContinue(outputId) {\n",
              "  const outputElement = document.getElementById(outputId);\n",
              "  const steps = outputElement.steps;\n",
              "\n",
              "  const next = steps.next(outputElement.lastPromiseValue);\n",
              "  return Promise.resolve(next.value.promise).then((value) => {\n",
              "    // Cache the last promise value to make it available to the next\n",
              "    // step of the generator.\n",
              "    outputElement.lastPromiseValue = value;\n",
              "    return next.value.response;\n",
              "  });\n",
              "}\n",
              "\n",
              "/**\n",
              " * Generator function which is called between each async step of the upload\n",
              " * process.\n",
              " * @param {string} inputId Element ID of the input file picker element.\n",
              " * @param {string} outputId Element ID of the output display.\n",
              " * @return {!Iterable<!Object>} Iterable of next steps.\n",
              " */\n",
              "function* uploadFilesStep(inputId, outputId) {\n",
              "  const inputElement = document.getElementById(inputId);\n",
              "  inputElement.disabled = false;\n",
              "\n",
              "  const outputElement = document.getElementById(outputId);\n",
              "  outputElement.innerHTML = '';\n",
              "\n",
              "  const pickedPromise = new Promise((resolve) => {\n",
              "    inputElement.addEventListener('change', (e) => {\n",
              "      resolve(e.target.files);\n",
              "    });\n",
              "  });\n",
              "\n",
              "  const cancel = document.createElement('button');\n",
              "  inputElement.parentElement.appendChild(cancel);\n",
              "  cancel.textContent = 'Cancel upload';\n",
              "  const cancelPromise = new Promise((resolve) => {\n",
              "    cancel.onclick = () => {\n",
              "      resolve(null);\n",
              "    };\n",
              "  });\n",
              "\n",
              "  // Wait for the user to pick the files.\n",
              "  const files = yield {\n",
              "    promise: Promise.race([pickedPromise, cancelPromise]),\n",
              "    response: {\n",
              "      action: 'starting',\n",
              "    }\n",
              "  };\n",
              "\n",
              "  cancel.remove();\n",
              "\n",
              "  // Disable the input element since further picks are not allowed.\n",
              "  inputElement.disabled = true;\n",
              "\n",
              "  if (!files) {\n",
              "    return {\n",
              "      response: {\n",
              "        action: 'complete',\n",
              "      }\n",
              "    };\n",
              "  }\n",
              "\n",
              "  for (const file of files) {\n",
              "    const li = document.createElement('li');\n",
              "    li.append(span(file.name, {fontWeight: 'bold'}));\n",
              "    li.append(span(\n",
              "        `(${file.type || 'n/a'}) - ${file.size} bytes, ` +\n",
              "        `last modified: ${\n",
              "            file.lastModifiedDate ? file.lastModifiedDate.toLocaleDateString() :\n",
              "                                    'n/a'} - `));\n",
              "    const percent = span('0% done');\n",
              "    li.appendChild(percent);\n",
              "\n",
              "    outputElement.appendChild(li);\n",
              "\n",
              "    const fileDataPromise = new Promise((resolve) => {\n",
              "      const reader = new FileReader();\n",
              "      reader.onload = (e) => {\n",
              "        resolve(e.target.result);\n",
              "      };\n",
              "      reader.readAsArrayBuffer(file);\n",
              "    });\n",
              "    // Wait for the data to be ready.\n",
              "    let fileData = yield {\n",
              "      promise: fileDataPromise,\n",
              "      response: {\n",
              "        action: 'continue',\n",
              "      }\n",
              "    };\n",
              "\n",
              "    // Use a chunked sending to avoid message size limits. See b/62115660.\n",
              "    let position = 0;\n",
              "    do {\n",
              "      const length = Math.min(fileData.byteLength - position, MAX_PAYLOAD_SIZE);\n",
              "      const chunk = new Uint8Array(fileData, position, length);\n",
              "      position += length;\n",
              "\n",
              "      const base64 = btoa(String.fromCharCode.apply(null, chunk));\n",
              "      yield {\n",
              "        response: {\n",
              "          action: 'append',\n",
              "          file: file.name,\n",
              "          data: base64,\n",
              "        },\n",
              "      };\n",
              "\n",
              "      let percentDone = fileData.byteLength === 0 ?\n",
              "          100 :\n",
              "          Math.round((position / fileData.byteLength) * 100);\n",
              "      percent.textContent = `${percentDone}% done`;\n",
              "\n",
              "    } while (position < fileData.byteLength);\n",
              "  }\n",
              "\n",
              "  // All done.\n",
              "  yield {\n",
              "    response: {\n",
              "      action: 'complete',\n",
              "    }\n",
              "  };\n",
              "}\n",
              "\n",
              "scope.google = scope.google || {};\n",
              "scope.google.colab = scope.google.colab || {};\n",
              "scope.google.colab._files = {\n",
              "  _uploadFiles,\n",
              "  _uploadFilesContinue,\n",
              "};\n",
              "})(self);\n",
              "</script> "
            ]
          },
          "metadata": {}
        },
        {
          "output_type": "stream",
          "name": "stdout",
          "text": [
            "Saving backTranslated.csv to backTranslated.csv\n"
          ]
        }
      ]
    },
    {
      "cell_type": "code",
      "source": [
        "#Read dataset\n",
        "dfBT = pd.read_csv(io.BytesIO(uploadedBT['backTranslated.csv']))\n",
        "# Dataset is now stored in a Pandas Dataframe"
      ],
      "metadata": {
        "id": "ym-a6oZmXMwH"
      },
      "execution_count": null,
      "outputs": []
    },
    {
      "cell_type": "code",
      "source": [
        "#Get shape\n",
        "dfBT.shape\n",
        "\n",
        "# output first 5 records\n",
        "dfBT.head()  "
      ],
      "metadata": {
        "colab": {
          "base_uri": "https://localhost:8080/",
          "height": 221
        },
        "id": "UEwlUyEuXVci",
        "outputId": "483afdbc-2889-42d3-f1b8-0da2249e9289"
      },
      "execution_count": null,
      "outputs": [
        {
          "output_type": "execute_result",
          "data": {
            "text/plain": [
              "   label                                            article\n",
              "0      0  Ayon sa TheWrap.com, si Krupa, 35, ay nagsampa...\n",
              "1      0  Kilala rin ang mang-aawit sa pagkumpas ng kany...\n",
              "2      0  BLANTYRE, Malawi (AP) -- Naglakbay si Madonna ...\n",
              "3      0   Kasama sa programa ang panalangin, bulaklak a...\n",
              "4      0   Linisin ang Friendship Department dahil bibis..."
            ],
            "text/html": [
              "\n",
              "  <div id=\"df-192d31cf-5825-4f8e-bb68-2ce4f882214c\">\n",
              "    <div class=\"colab-df-container\">\n",
              "      <div>\n",
              "<style scoped>\n",
              "    .dataframe tbody tr th:only-of-type {\n",
              "        vertical-align: middle;\n",
              "    }\n",
              "\n",
              "    .dataframe tbody tr th {\n",
              "        vertical-align: top;\n",
              "    }\n",
              "\n",
              "    .dataframe thead th {\n",
              "        text-align: right;\n",
              "    }\n",
              "</style>\n",
              "<table border=\"1\" class=\"dataframe\">\n",
              "  <thead>\n",
              "    <tr style=\"text-align: right;\">\n",
              "      <th></th>\n",
              "      <th>label</th>\n",
              "      <th>article</th>\n",
              "    </tr>\n",
              "  </thead>\n",
              "  <tbody>\n",
              "    <tr>\n",
              "      <th>0</th>\n",
              "      <td>0</td>\n",
              "      <td>Ayon sa TheWrap.com, si Krupa, 35, ay nagsampa...</td>\n",
              "    </tr>\n",
              "    <tr>\n",
              "      <th>1</th>\n",
              "      <td>0</td>\n",
              "      <td>Kilala rin ang mang-aawit sa pagkumpas ng kany...</td>\n",
              "    </tr>\n",
              "    <tr>\n",
              "      <th>2</th>\n",
              "      <td>0</td>\n",
              "      <td>BLANTYRE, Malawi (AP) -- Naglakbay si Madonna ...</td>\n",
              "    </tr>\n",
              "    <tr>\n",
              "      <th>3</th>\n",
              "      <td>0</td>\n",
              "      <td>Kasama sa programa ang panalangin, bulaklak a...</td>\n",
              "    </tr>\n",
              "    <tr>\n",
              "      <th>4</th>\n",
              "      <td>0</td>\n",
              "      <td>Linisin ang Friendship Department dahil bibis...</td>\n",
              "    </tr>\n",
              "  </tbody>\n",
              "</table>\n",
              "</div>\n",
              "      <button class=\"colab-df-convert\" onclick=\"convertToInteractive('df-192d31cf-5825-4f8e-bb68-2ce4f882214c')\"\n",
              "              title=\"Convert this dataframe to an interactive table.\"\n",
              "              style=\"display:none;\">\n",
              "        \n",
              "  <svg xmlns=\"http://www.w3.org/2000/svg\" height=\"24px\"viewBox=\"0 0 24 24\"\n",
              "       width=\"24px\">\n",
              "    <path d=\"M0 0h24v24H0V0z\" fill=\"none\"/>\n",
              "    <path d=\"M18.56 5.44l.94 2.06.94-2.06 2.06-.94-2.06-.94-.94-2.06-.94 2.06-2.06.94zm-11 1L8.5 8.5l.94-2.06 2.06-.94-2.06-.94L8.5 2.5l-.94 2.06-2.06.94zm10 10l.94 2.06.94-2.06 2.06-.94-2.06-.94-.94-2.06-.94 2.06-2.06.94z\"/><path d=\"M17.41 7.96l-1.37-1.37c-.4-.4-.92-.59-1.43-.59-.52 0-1.04.2-1.43.59L10.3 9.45l-7.72 7.72c-.78.78-.78 2.05 0 2.83L4 21.41c.39.39.9.59 1.41.59.51 0 1.02-.2 1.41-.59l7.78-7.78 2.81-2.81c.8-.78.8-2.07 0-2.86zM5.41 20L4 18.59l7.72-7.72 1.47 1.35L5.41 20z\"/>\n",
              "  </svg>\n",
              "      </button>\n",
              "      \n",
              "  <style>\n",
              "    .colab-df-container {\n",
              "      display:flex;\n",
              "      flex-wrap:wrap;\n",
              "      gap: 12px;\n",
              "    }\n",
              "\n",
              "    .colab-df-convert {\n",
              "      background-color: #E8F0FE;\n",
              "      border: none;\n",
              "      border-radius: 50%;\n",
              "      cursor: pointer;\n",
              "      display: none;\n",
              "      fill: #1967D2;\n",
              "      height: 32px;\n",
              "      padding: 0 0 0 0;\n",
              "      width: 32px;\n",
              "    }\n",
              "\n",
              "    .colab-df-convert:hover {\n",
              "      background-color: #E2EBFA;\n",
              "      box-shadow: 0px 1px 2px rgba(60, 64, 67, 0.3), 0px 1px 3px 1px rgba(60, 64, 67, 0.15);\n",
              "      fill: #174EA6;\n",
              "    }\n",
              "\n",
              "    [theme=dark] .colab-df-convert {\n",
              "      background-color: #3B4455;\n",
              "      fill: #D2E3FC;\n",
              "    }\n",
              "\n",
              "    [theme=dark] .colab-df-convert:hover {\n",
              "      background-color: #434B5C;\n",
              "      box-shadow: 0px 1px 3px 1px rgba(0, 0, 0, 0.15);\n",
              "      filter: drop-shadow(0px 1px 2px rgba(0, 0, 0, 0.3));\n",
              "      fill: #FFFFFF;\n",
              "    }\n",
              "  </style>\n",
              "\n",
              "      <script>\n",
              "        const buttonEl =\n",
              "          document.querySelector('#df-192d31cf-5825-4f8e-bb68-2ce4f882214c button.colab-df-convert');\n",
              "        buttonEl.style.display =\n",
              "          google.colab.kernel.accessAllowed ? 'block' : 'none';\n",
              "\n",
              "        async function convertToInteractive(key) {\n",
              "          const element = document.querySelector('#df-192d31cf-5825-4f8e-bb68-2ce4f882214c');\n",
              "          const dataTable =\n",
              "            await google.colab.kernel.invokeFunction('convertToInteractive',\n",
              "                                                     [key], {});\n",
              "          if (!dataTable) return;\n",
              "\n",
              "          const docLinkHtml = 'Like what you see? Visit the ' +\n",
              "            '<a target=\"_blank\" href=https://colab.research.google.com/notebooks/data_table.ipynb>data table notebook</a>'\n",
              "            + ' to learn more about interactive tables.';\n",
              "          element.innerHTML = '';\n",
              "          dataTable['output_type'] = 'display_data';\n",
              "          await google.colab.output.renderOutput(dataTable, element);\n",
              "          const docLink = document.createElement('div');\n",
              "          docLink.innerHTML = docLinkHtml;\n",
              "          element.appendChild(docLink);\n",
              "        }\n",
              "      </script>\n",
              "    </div>\n",
              "  </div>\n",
              "  "
            ]
          },
          "metadata": {},
          "execution_count": 9
        }
      ]
    },
    {
      "cell_type": "code",
      "source": [
        "# Get dataFrame (df) labels\n",
        "labelsBT=dfBT.label\n",
        "labelsBT.head()           # 1 = fake, 0 = true"
      ],
      "metadata": {
        "colab": {
          "base_uri": "https://localhost:8080/"
        },
        "id": "nXbHF_IdXYqr",
        "outputId": "1b70105c-1720-4e43-e07d-6d744ef4084f"
      },
      "execution_count": null,
      "outputs": [
        {
          "output_type": "execute_result",
          "data": {
            "text/plain": [
              "0    0\n",
              "1    0\n",
              "2    0\n",
              "3    0\n",
              "4    0\n",
              "Name: label, dtype: int64"
            ]
          },
          "metadata": {},
          "execution_count": 10
        }
      ]
    },
    {
      "cell_type": "code",
      "source": [
        "# dataset distribution [pie chart]\n",
        "fakeNewsCategoryBT = pd.get_dummies(dfBT.label)[1]  # 1 = fake, 0 = real\n",
        "fakeNewsSizeBT = fakeNewsCategoryBT.sum()\n",
        "realNewsSizeBT = len(fakeNewsCategoryBT)- fakeNewsSizeBT\n",
        "\n",
        "datasetSizeBT = [fakeNewsSizeBT, realNewsSizeBT]\n",
        "\n",
        "plt.pie(datasetSizeBT,explode=[0.1,0.1],colors=['firebrick','navy'],startangle=90,shadow=True,labels=['Fake','True'],autopct='%1.1f%%')"
      ],
      "metadata": {
        "colab": {
          "base_uri": "https://localhost:8080/",
          "height": 376
        },
        "id": "zSWA6Gn_XbgX",
        "outputId": "8b4861ba-b169-452e-f8cb-3ea9eacb6421"
      },
      "execution_count": null,
      "outputs": [
        {
          "output_type": "execute_result",
          "data": {
            "text/plain": [
              "([<matplotlib.patches.Wedge at 0x7faeaa4333d0>,\n",
              "  <matplotlib.patches.Wedge at 0x7faeaa433ac0>],\n",
              " [Text(-1.2000000000000002, 1.469576158976824e-16, 'Fake'),\n",
              "  Text(1.2000000000000002, -2.939152317953648e-16, 'True')],\n",
              " [Text(-0.7, 8.572527594031472e-17, '50.0%'),\n",
              "  Text(0.7, -1.7145055188062944e-16, '50.0%')])"
            ]
          },
          "metadata": {},
          "execution_count": 11
        },
        {
          "output_type": "display_data",
          "data": {
            "text/plain": [
              "<Figure size 432x288 with 1 Axes>"
            ],
            "image/png": "[encoded data removed]"
          },
          "metadata": {}
        }
      ]
    },
    {
      "cell_type": "markdown",
      "source": [
        "# Preprocessing"
      ],
      "metadata": {
        "id": "DjjZKbeEHkYk"
      }
    },
    {
      "cell_type": "code",
      "source": [
        "# convert the text in lowercase, remove the extra space, special chr., ulr and links.\n",
        "def removeCharactersAndLowercase(text):\n",
        "    text = text.lower()                                                 # lower case\n",
        "    text = re.sub('https?://\\S+|www\\.\\S+', '', text)                    # remove url and links\n",
        "    text = re.sub('\\[.*?\\]', '', text)\n",
        "    text = re.sub(\"\\\\W\",\" \",text) \n",
        "    text = re.sub('<.*?>+', '', text)\n",
        "    text = re.sub('[%s]' % re.escape(string.punctuation), '', text)\n",
        "    text = re.sub('\\n', '', text)                                       # Removing line or tab character (\\n, \\r, \\t..)\n",
        "    text = re.sub('\\w*\\d\\w*', '', text)\n",
        "    text = re.sub('\\s+',' ',text)                                       # remove extra space\n",
        "    text = re.sub('(\\\\b[A-Za-z] \\\\b|\\\\b [A-Za-z]\\\\b)', '', text)        # remove single characters\n",
        "    text = text.strip()                                                 # remove whitespaces at begin and end of the text\n",
        "\n",
        "    return text\n",
        "\n",
        "df_preprocess = df.copy()\n",
        "dfBT_preprocess = dfBT.copy()\n",
        "\n",
        "df_preprocess['article'] = df_preprocess['article'].apply(removeCharactersAndLowercase)\n",
        "dfBT_preprocess['article'] = dfBT_preprocess['article'].apply(removeCharactersAndLowercase)"
      ],
      "metadata": {
        "id": "ST6_LYiPHmy6"
      },
      "execution_count": null,
      "outputs": []
    },
    {
      "cell_type": "markdown",
      "source": [
        "#### Byte Pair encoding"
      ],
      "metadata": {
        "id": "k_jZWadWV9ul"
      }
    },
    {
      "cell_type": "code",
      "source": [
        "!pip install bpemb -force-reinstall"
      ],
      "metadata": {
        "colab": {
          "base_uri": "https://localhost:8080/"
        },
        "id": "t_Cn09TxV7Zt",
        "outputId": "3c3eed90-4841-463e-bb6c-96f81ffd4d0e"
      },
      "execution_count": null,
      "outputs": [
        {
          "output_type": "stream",
          "name": "stdout",
          "text": [
            "Looking in indexes: https://pypi.org/simple, https://us-python.pkg.dev/colab-wheels/public/simple/\n",
            "Looking in links: orce-reinstall\n",
            "\u001b[33mWARNING: Location 'orce-reinstall' is ignored: it is either a non-existing path or lacks a specific scheme.\u001b[0m\n",
            "Collecting bpemb\n",
            "  Downloading bpemb-0.3.4-py3-none-any.whl (19 kB)\n",
            "\u001b[33mWARNING: Location 'orce-reinstall' is ignored: it is either a non-existing path or lacks a specific scheme.\u001b[0m\n",
            "Collecting sentencepiece\n",
            "  Downloading sentencepiece-0.1.97-cp38-cp38-manylinux_2_17_x86_64.manylinux2014_x86_64.whl (1.3 MB)\n",
            "\u001b[K     |████████████████████████████████| 1.3 MB 23.8 MB/s \n",
            "\u001b[?25hRequirement already satisfied: gensim in /usr/local/lib/python3.8/dist-packages (from bpemb) (3.6.0)\n",
            "Requirement already satisfied: numpy in /usr/local/lib/python3.8/dist-packages (from bpemb) (1.21.6)\n",
            "Requirement already satisfied: requests in /usr/local/lib/python3.8/dist-packages (from bpemb) (2.23.0)\n",
            "Requirement already satisfied: tqdm in /usr/local/lib/python3.8/dist-packages (from bpemb) (4.64.1)\n",
            "Requirement already satisfied: six>=1.5.0 in /usr/local/lib/python3.8/dist-packages (from gensim->bpemb) (1.15.0)\n",
            "Requirement already satisfied: smart-open>=1.2.1 in /usr/local/lib/python3.8/dist-packages (from gensim->bpemb) (5.2.1)\n",
            "Requirement already satisfied: scipy>=0.18.1 in /usr/local/lib/python3.8/dist-packages (from gensim->bpemb) (1.7.3)\n",
            "Requirement already satisfied: certifi>=2017.4.17 in /usr/local/lib/python3.8/dist-packages (from requests->bpemb) (2022.9.24)\n",
            "Requirement already satisfied: chardet<4,>=3.0.2 in /usr/local/lib/python3.8/dist-packages (from requests->bpemb) (3.0.4)\n",
            "Requirement already satisfied: idna<3,>=2.5 in /usr/local/lib/python3.8/dist-packages (from requests->bpemb) (2.10)\n",
            "Requirement already satisfied: urllib3!=1.25.0,!=1.25.1,<1.26,>=1.21.1 in /usr/local/lib/python3.8/dist-packages (from requests->bpemb) (1.24.3)\n",
            "Installing collected packages: sentencepiece, bpemb\n",
            "Successfully installed bpemb-0.3.4 sentencepiece-0.1.97\n"
          ]
        }
      ]
    },
    {
      "cell_type": "code",
      "source": [
        "from bpemb import BPEmb\n",
        "bpemb_tl = BPEmb(lang=\"tl\", dim=50)"
      ],
      "metadata": {
        "id": "Q80AUolWWYu2",
        "colab": {
          "base_uri": "https://localhost:8080/"
        },
        "outputId": "afe98580-6082-4301-a677-4d0f8f42b6d5"
      },
      "execution_count": null,
      "outputs": [
        {
          "output_type": "stream",
          "name": "stdout",
          "text": [
            "downloading https://nlp.h-its.org/bpemb/tl/tl.wiki.bpe.vs10000.model\n"
          ]
        },
        {
          "output_type": "stream",
          "name": "stderr",
          "text": [
            "100%|██████████| 397105/397105 [00:00<00:00, 9965888.96B/s]\n"
          ]
        },
        {
          "output_type": "stream",
          "name": "stdout",
          "text": [
            "downloading https://nlp.h-its.org/bpemb/tl/tl.wiki.bpe.vs10000.d50.w2v.bin.tar.gz\n"
          ]
        },
        {
          "output_type": "stream",
          "name": "stderr",
          "text": [
            "100%|██████████| 1920249/1920249 [00:00<00:00, 31019573.04B/s]\n"
          ]
        }
      ]
    },
    {
      "cell_type": "code",
      "source": [
        "def findBPE (text):\n",
        "  BPE = bpemb_tl.encode(text)\n",
        "  text = \" \".join(BPE)\n",
        "  return text\n",
        "\n",
        "df_BPE = df_preprocess.copy()\n",
        "dfBT_BPE = dfBT_preprocess.copy()\n",
        "\n",
        "df_BPE['article'] = df_BPE['article'].apply(findBPE)\n",
        "dfBT_BPE['article'] = dfBT_BPE['article'].apply(findBPE)\n",
        "\n",
        "df_BPE.head()\n"
      ],
      "metadata": {
        "id": "hujwYgjCWVhV",
        "colab": {
          "base_uri": "https://localhost:8080/",
          "height": 221
        },
        "outputId": "817e4666-9bfb-4939-89c1-5380de54e54e"
      },
      "execution_count": null,
      "outputs": [
        {
          "output_type": "execute_result",
          "data": {
            "text/plain": [
              "   label                                            article\n",
              "0      0  ▁ayon ▁sa ▁the w rap ▁com ▁nagha in ▁ng ▁kaso ...\n",
              "1      0  ▁kilala ▁rin ▁ang ▁sing er ▁sa ▁pag kum pas ▁n...\n",
              "2      0  ▁blan ty re ▁mala wi ▁ap ▁b umi ya he ▁patungo...\n",
              "3      0  ▁kasama ▁sa ▁programa ▁ang ▁panana langin ▁bul...\n",
              "4      0  ▁lin isin ▁ang ▁fri ends hip ▁department ▁dahi..."
            ],
            "text/html": [
              "\n",
              "  <div id=\"df-050b81ea-12a8-4cb7-bb57-2baff112a4f1\">\n",
              "    <div class=\"colab-df-container\">\n",
              "      <div>\n",
              "<style scoped>\n",
              "    .dataframe tbody tr th:only-of-type {\n",
              "        vertical-align: middle;\n",
              "    }\n",
              "\n",
              "    .dataframe tbody tr th {\n",
              "        vertical-align: top;\n",
              "    }\n",
              "\n",
              "    .dataframe thead th {\n",
              "        text-align: right;\n",
              "    }\n",
              "</style>\n",
              "<table border=\"1\" class=\"dataframe\">\n",
              "  <thead>\n",
              "    <tr style=\"text-align: right;\">\n",
              "      <th></th>\n",
              "      <th>label</th>\n",
              "      <th>article</th>\n",
              "    </tr>\n",
              "  </thead>\n",
              "  <tbody>\n",
              "    <tr>\n",
              "      <th>0</th>\n",
              "      <td>0</td>\n",
              "      <td>▁ayon ▁sa ▁the w rap ▁com ▁nagha in ▁ng ▁kaso ...</td>\n",
              "    </tr>\n",
              "    <tr>\n",
              "      <th>1</th>\n",
              "      <td>0</td>\n",
              "      <td>▁kilala ▁rin ▁ang ▁sing er ▁sa ▁pag kum pas ▁n...</td>\n",
              "    </tr>\n",
              "    <tr>\n",
              "      <th>2</th>\n",
              "      <td>0</td>\n",
              "      <td>▁blan ty re ▁mala wi ▁ap ▁b umi ya he ▁patungo...</td>\n",
              "    </tr>\n",
              "    <tr>\n",
              "      <th>3</th>\n",
              "      <td>0</td>\n",
              "      <td>▁kasama ▁sa ▁programa ▁ang ▁panana langin ▁bul...</td>\n",
              "    </tr>\n",
              "    <tr>\n",
              "      <th>4</th>\n",
              "      <td>0</td>\n",
              "      <td>▁lin isin ▁ang ▁fri ends hip ▁department ▁dahi...</td>\n",
              "    </tr>\n",
              "  </tbody>\n",
              "</table>\n",
              "</div>\n",
              "      <button class=\"colab-df-convert\" onclick=\"convertToInteractive('df-050b81ea-12a8-4cb7-bb57-2baff112a4f1')\"\n",
              "              title=\"Convert this dataframe to an interactive table.\"\n",
              "              style=\"display:none;\">\n",
              "        \n",
              "  <svg xmlns=\"http://www.w3.org/2000/svg\" height=\"24px\"viewBox=\"0 0 24 24\"\n",
              "       width=\"24px\">\n",
              "    <path d=\"M0 0h24v24H0V0z\" fill=\"none\"/>\n",
              "    <path d=\"M18.56 5.44l.94 2.06.94-2.06 2.06-.94-2.06-.94-.94-2.06-.94 2.06-2.06.94zm-11 1L8.5 8.5l.94-2.06 2.06-.94-2.06-.94L8.5 2.5l-.94 2.06-2.06.94zm10 10l.94 2.06.94-2.06 2.06-.94-2.06-.94-.94-2.06-.94 2.06-2.06.94z\"/><path d=\"M17.41 7.96l-1.37-1.37c-.4-.4-.92-.59-1.43-.59-.52 0-1.04.2-1.43.59L10.3 9.45l-7.72 7.72c-.78.78-.78 2.05 0 2.83L4 21.41c.39.39.9.59 1.41.59.51 0 1.02-.2 1.41-.59l7.78-7.78 2.81-2.81c.8-.78.8-2.07 0-2.86zM5.41 20L4 18.59l7.72-7.72 1.47 1.35L5.41 20z\"/>\n",
              "  </svg>\n",
              "      </button>\n",
              "      \n",
              "  <style>\n",
              "    .colab-df-container {\n",
              "      display:flex;\n",
              "      flex-wrap:wrap;\n",
              "      gap: 12px;\n",
              "    }\n",
              "\n",
              "    .colab-df-convert {\n",
              "      background-color: #E8F0FE;\n",
              "      border: none;\n",
              "      border-radius: 50%;\n",
              "      cursor: pointer;\n",
              "      display: none;\n",
              "      fill: #1967D2;\n",
              "      height: 32px;\n",
              "      padding: 0 0 0 0;\n",
              "      width: 32px;\n",
              "    }\n",
              "\n",
              "    .colab-df-convert:hover {\n",
              "      background-color: #E2EBFA;\n",
              "      box-shadow: 0px 1px 2px rgba(60, 64, 67, 0.3), 0px 1px 3px 1px rgba(60, 64, 67, 0.15);\n",
              "      fill: #174EA6;\n",
              "    }\n",
              "\n",
              "    [theme=dark] .colab-df-convert {\n",
              "      background-color: #3B4455;\n",
              "      fill: #D2E3FC;\n",
              "    }\n",
              "\n",
              "    [theme=dark] .colab-df-convert:hover {\n",
              "      background-color: #434B5C;\n",
              "      box-shadow: 0px 1px 3px 1px rgba(0, 0, 0, 0.15);\n",
              "      filter: drop-shadow(0px 1px 2px rgba(0, 0, 0, 0.3));\n",
              "      fill: #FFFFFF;\n",
              "    }\n",
              "  </style>\n",
              "\n",
              "      <script>\n",
              "        const buttonEl =\n",
              "          document.querySelector('#df-050b81ea-12a8-4cb7-bb57-2baff112a4f1 button.colab-df-convert');\n",
              "        buttonEl.style.display =\n",
              "          google.colab.kernel.accessAllowed ? 'block' : 'none';\n",
              "\n",
              "        async function convertToInteractive(key) {\n",
              "          const element = document.querySelector('#df-050b81ea-12a8-4cb7-bb57-2baff112a4f1');\n",
              "          const dataTable =\n",
              "            await google.colab.kernel.invokeFunction('convertToInteractive',\n",
              "                                                     [key], {});\n",
              "          if (!dataTable) return;\n",
              "\n",
              "          const docLinkHtml = 'Like what you see? Visit the ' +\n",
              "            '<a target=\"_blank\" href=https://colab.research.google.com/notebooks/data_table.ipynb>data table notebook</a>'\n",
              "            + ' to learn more about interactive tables.';\n",
              "          element.innerHTML = '';\n",
              "          dataTable['output_type'] = 'display_data';\n",
              "          await google.colab.output.renderOutput(dataTable, element);\n",
              "          const docLink = document.createElement('div');\n",
              "          docLink.innerHTML = docLinkHtml;\n",
              "          element.appendChild(docLink);\n",
              "        }\n",
              "      </script>\n",
              "    </div>\n",
              "  </div>\n",
              "  "
            ]
          },
          "metadata": {},
          "execution_count": 153
        }
      ]
    },
    {
      "cell_type": "markdown",
      "source": [
        "#### Stemming"
      ],
      "metadata": {
        "id": "FuzDK8_CK3HA"
      }
    },
    {
      "cell_type": "code",
      "source": [
        "# change to default directory\n",
        "%cd /content \n",
        "# remove TagalogStemmerPython, if another instance exist\n",
        "!rm -r TagalogStemmerPython\n",
        "!git clone https://github.com/lymoelopez/TagalogStemmerPython.git\n",
        "\n",
        "# Change directory to cloned repo\n",
        "%cd TagalogStemmerPython"
      ],
      "metadata": {
        "colab": {
          "base_uri": "https://localhost:8080/"
        },
        "id": "Zt884709E3e3",
        "outputId": "9f573df4-6dd5-4ee4-eeca-67dc25cd4ba1"
      },
      "execution_count": null,
      "outputs": [
        {
          "output_type": "stream",
          "name": "stdout",
          "text": [
            "/content\n",
            "rm: cannot remove 'TagalogStemmerPython': No such file or directory\n",
            "Cloning into 'TagalogStemmerPython'...\n",
            "remote: Enumerating objects: 151, done.\u001b[K\n",
            "remote: Counting objects: 100% (30/30), done.\u001b[K\n",
            "remote: Compressing objects: 100% (30/30), done.\u001b[K\n",
            "remote: Total 151 (delta 14), reused 0 (delta 0), pack-reused 121\u001b[K\n",
            "Receiving objects: 100% (151/151), 804.87 KiB | 6.54 MiB/s, done.\n",
            "Resolving deltas: 100% (76/76), done.\n",
            "/content/TagalogStemmerPython\n"
          ]
        }
      ]
    },
    {
      "cell_type": "code",
      "source": [
        "from TglStemmer import stemmer"
      ],
      "metadata": {
        "id": "I57-Tf-UQANw"
      },
      "execution_count": null,
      "outputs": []
    },
    {
      "cell_type": "code",
      "source": [
        "def findStemmed(text):\n",
        "  stemmed, root_only = stemmer(\"2\", text, \"3\")\n",
        "  text = \" \".join(root_only)\n",
        "  return text\n",
        "\n",
        "\n",
        "df_stemmed = df_preprocess.copy()\n",
        "dfBT_stemmed = dfBT_preprocess.copy()\n",
        "\n",
        "df_stemmed['article'] = df_stemmed['article'].apply(findStemmed)\n",
        "dfBT_stemmed['article'] = dfBT_stemmed['article'].apply(findStemmed)\n",
        "\n",
        "df_stemmed.head()\n"
      ],
      "metadata": {
        "id": "-shjGXirQR05",
        "colab": {
          "base_uri": "https://localhost:8080/",
          "height": 221
        },
        "outputId": "10a71e57-ba9c-43c5-8fb4-f7fe4e35f612"
      },
      "execution_count": null,
      "outputs": [
        {
          "output_type": "execute_result",
          "data": {
            "text/plain": [
              "   label                                            article\n",
              "0      0  ayon sa hewrap com hain ng kaso si rupa noo hu...\n",
              "1      0  kilala rin ang singed sa kumpas ng kanya kamay...\n",
              "2      0  lantyre lawi ap biyahe tungon lawi si donna sa...\n",
              "3      0  sama sa programa ang analang bulaklak at sindi...\n",
              "4      0  lisin ang riendship department dahil dalaw ka ..."
            ],
            "text/html": [
              "\n",
              "  <div id=\"df-e9035e06-e23b-485d-987a-32d4eb945bfb\">\n",
              "    <div class=\"colab-df-container\">\n",
              "      <div>\n",
              "<style scoped>\n",
              "    .dataframe tbody tr th:only-of-type {\n",
              "        vertical-align: middle;\n",
              "    }\n",
              "\n",
              "    .dataframe tbody tr th {\n",
              "        vertical-align: top;\n",
              "    }\n",
              "\n",
              "    .dataframe thead th {\n",
              "        text-align: right;\n",
              "    }\n",
              "</style>\n",
              "<table border=\"1\" class=\"dataframe\">\n",
              "  <thead>\n",
              "    <tr style=\"text-align: right;\">\n",
              "      <th></th>\n",
              "      <th>label</th>\n",
              "      <th>article</th>\n",
              "    </tr>\n",
              "  </thead>\n",
              "  <tbody>\n",
              "    <tr>\n",
              "      <th>0</th>\n",
              "      <td>0</td>\n",
              "      <td>ayon sa hewrap com hain ng kaso si rupa noo hu...</td>\n",
              "    </tr>\n",
              "    <tr>\n",
              "      <th>1</th>\n",
              "      <td>0</td>\n",
              "      <td>kilala rin ang singed sa kumpas ng kanya kamay...</td>\n",
              "    </tr>\n",
              "    <tr>\n",
              "      <th>2</th>\n",
              "      <td>0</td>\n",
              "      <td>lantyre lawi ap biyahe tungon lawi si donna sa...</td>\n",
              "    </tr>\n",
              "    <tr>\n",
              "      <th>3</th>\n",
              "      <td>0</td>\n",
              "      <td>sama sa programa ang analang bulaklak at sindi...</td>\n",
              "    </tr>\n",
              "    <tr>\n",
              "      <th>4</th>\n",
              "      <td>0</td>\n",
              "      <td>lisin ang riendship department dahil dalaw ka ...</td>\n",
              "    </tr>\n",
              "  </tbody>\n",
              "</table>\n",
              "</div>\n",
              "      <button class=\"colab-df-convert\" onclick=\"convertToInteractive('df-e9035e06-e23b-485d-987a-32d4eb945bfb')\"\n",
              "              title=\"Convert this dataframe to an interactive table.\"\n",
              "              style=\"display:none;\">\n",
              "        \n",
              "  <svg xmlns=\"http://www.w3.org/2000/svg\" height=\"24px\"viewBox=\"0 0 24 24\"\n",
              "       width=\"24px\">\n",
              "    <path d=\"M0 0h24v24H0V0z\" fill=\"none\"/>\n",
              "    <path d=\"M18.56 5.44l.94 2.06.94-2.06 2.06-.94-2.06-.94-.94-2.06-.94 2.06-2.06.94zm-11 1L8.5 8.5l.94-2.06 2.06-.94-2.06-.94L8.5 2.5l-.94 2.06-2.06.94zm10 10l.94 2.06.94-2.06 2.06-.94-2.06-.94-.94-2.06-.94 2.06-2.06.94z\"/><path d=\"M17.41 7.96l-1.37-1.37c-.4-.4-.92-.59-1.43-.59-.52 0-1.04.2-1.43.59L10.3 9.45l-7.72 7.72c-.78.78-.78 2.05 0 2.83L4 21.41c.39.39.9.59 1.41.59.51 0 1.02-.2 1.41-.59l7.78-7.78 2.81-2.81c.8-.78.8-2.07 0-2.86zM5.41 20L4 18.59l7.72-7.72 1.47 1.35L5.41 20z\"/>\n",
              "  </svg>\n",
              "      </button>\n",
              "      \n",
              "  <style>\n",
              "    .colab-df-container {\n",
              "      display:flex;\n",
              "      flex-wrap:wrap;\n",
              "      gap: 12px;\n",
              "    }\n",
              "\n",
              "    .colab-df-convert {\n",
              "      background-color: #E8F0FE;\n",
              "      border: none;\n",
              "      border-radius: 50%;\n",
              "      cursor: pointer;\n",
              "      display: none;\n",
              "      fill: #1967D2;\n",
              "      height: 32px;\n",
              "      padding: 0 0 0 0;\n",
              "      width: 32px;\n",
              "    }\n",
              "\n",
              "    .colab-df-convert:hover {\n",
              "      background-color: #E2EBFA;\n",
              "      box-shadow: 0px 1px 2px rgba(60, 64, 67, 0.3), 0px 1px 3px 1px rgba(60, 64, 67, 0.15);\n",
              "      fill: #174EA6;\n",
              "    }\n",
              "\n",
              "    [theme=dark] .colab-df-convert {\n",
              "      background-color: #3B4455;\n",
              "      fill: #D2E3FC;\n",
              "    }\n",
              "\n",
              "    [theme=dark] .colab-df-convert:hover {\n",
              "      background-color: #434B5C;\n",
              "      box-shadow: 0px 1px 3px 1px rgba(0, 0, 0, 0.15);\n",
              "      filter: drop-shadow(0px 1px 2px rgba(0, 0, 0, 0.3));\n",
              "      fill: #FFFFFF;\n",
              "    }\n",
              "  </style>\n",
              "\n",
              "      <script>\n",
              "        const buttonEl =\n",
              "          document.querySelector('#df-e9035e06-e23b-485d-987a-32d4eb945bfb button.colab-df-convert');\n",
              "        buttonEl.style.display =\n",
              "          google.colab.kernel.accessAllowed ? 'block' : 'none';\n",
              "\n",
              "        async function convertToInteractive(key) {\n",
              "          const element = document.querySelector('#df-e9035e06-e23b-485d-987a-32d4eb945bfb');\n",
              "          const dataTable =\n",
              "            await google.colab.kernel.invokeFunction('convertToInteractive',\n",
              "                                                     [key], {});\n",
              "          if (!dataTable) return;\n",
              "\n",
              "          const docLinkHtml = 'Like what you see? Visit the ' +\n",
              "            '<a target=\"_blank\" href=https://colab.research.google.com/notebooks/data_table.ipynb>data table notebook</a>'\n",
              "            + ' to learn more about interactive tables.';\n",
              "          element.innerHTML = '';\n",
              "          dataTable['output_type'] = 'display_data';\n",
              "          await google.colab.output.renderOutput(dataTable, element);\n",
              "          const docLink = document.createElement('div');\n",
              "          docLink.innerHTML = docLinkHtml;\n",
              "          element.appendChild(docLink);\n",
              "        }\n",
              "      </script>\n",
              "    </div>\n",
              "  </div>\n",
              "  "
            ]
          },
          "metadata": {},
          "execution_count": 21
        }
      ]
    },
    {
      "cell_type": "markdown",
      "source": [
        "#Train-Test Split"
      ],
      "metadata": {
        "id": "53l0l9HZU_bN"
      }
    },
    {
      "cell_type": "code",
      "source": [
        "# 70 - 30 train test split\n",
        "x_train1,x_test,y_train1,y_test=train_test_split(df['article'], labels, test_size=0.3, random_state=7)"
      ],
      "metadata": {
        "id": "FDBixXe-cQ_i"
      },
      "execution_count": null,
      "outputs": []
    },
    {
      "cell_type": "code",
      "source": [
        "# use same random_state to split back translated dataset the same way\n",
        "# we are only intrested in train split\n",
        "# 70 - 30 train test split\n",
        "x_trainBT,x_testBT,y_trainBT,y_testBT = train_test_split(dfBT['article'], labelsBT, test_size=0.3, random_state=7)"
      ],
      "metadata": {
        "id": "YDjUPxOnXg8b"
      },
      "execution_count": null,
      "outputs": []
    },
    {
      "cell_type": "code",
      "source": [
        "x_train = x_train1.append(x_trainBT, ignore_index = True)\n",
        "y_train = y_train1.append(y_trainBT, ignore_index = True)\n",
        "print(x_train)"
      ],
      "metadata": {
        "id": "gn6mzO1Haq6r",
        "colab": {
          "base_uri": "https://localhost:8080/"
        },
        "outputId": "d9e48ead-eb8c-40b3-d2bf-1aa2b64d7d96"
      },
      "execution_count": null,
      "outputs": [
        {
          "output_type": "stream",
          "name": "stdout",
          "text": [
            "0       Ang Social Security Act of 2019, na nilikha ng...\n",
            "1       Dismayado aniya ang mga pamilya ng mga biktima...\n",
            "2       Hindi pa man nakakaupo bilang senador si ex-Ph...\n",
            "3       Hindi na nagkapagpigil ang isa nating kababaya...\n",
            "4       Ipinag-utos ni Pangulong Rodrigo Duterte sa Co...\n",
            "                              ...                        \n",
            "4483    ibinunyag ng pinuno ng tribo ang mga kalupitan...\n",
            "4484    Good agricultural and livelihood news para sa ...\n",
            "4485    \"Ang akusado na si Juan Ponce Enrile, sa pamam...\n",
            "4486    Sinabi ni Mendoza na binaril si Guliman matapo...\n",
            "4487    Ito ang sinabi kahapon ni Bohol 2nd District R...\n",
            "Name: article, Length: 4488, dtype: object\n"
          ]
        }
      ]
    },
    {
      "cell_type": "markdown",
      "source": [
        "#### BPE"
      ],
      "metadata": {
        "id": "UVEagCP8_d30"
      }
    },
    {
      "cell_type": "code",
      "source": [
        "x_train1_BPE,x_test_BPE,y_train1_BPE,y_test_BPE = train_test_split(df_BPE['article'], labels, test_size=0.3, random_state=7)\n",
        "x_trainBT_BPE, x_testBT_BPE, y_trainBT_BPE, y_testBT_BPE = train_test_split(dfBT_BPE['article'], labelsBT, test_size=0.3, random_state=7)\n",
        "\n",
        "x_train_BPE = x_train1_BPE.append(x_trainBT_BPE, ignore_index = True)\n",
        "y_train_BPE = y_train1_BPE.append(y_trainBT_BPE, ignore_index = True)\n",
        "print(x_train_BPE)\n"
      ],
      "metadata": {
        "colab": {
          "base_uri": "https://localhost:8080/"
        },
        "id": "Fednc__x_gqI",
        "outputId": "9c1f1427-8a91-42b8-ba8f-e17beadbc357"
      },
      "execution_count": null,
      "outputs": [
        {
          "output_type": "stream",
          "name": "stdout",
          "text": [
            "0       ▁ang ▁social ▁se cu rity ▁act ▁of ▁na ▁nilikha...\n",
            "1       ▁dis ma yado ▁ani ya ▁ang ▁mga ▁pamilya ▁ng ▁m...\n",
            "2       ▁hindi ▁pa ▁man ▁nakaka u po ▁bilang ▁senador ...\n",
            "3       ▁hindi ▁na ▁nagka pag pigil ▁ang ▁isa ▁nating ...\n",
            "4       ▁ipinag ▁utos ▁ni ▁pangulong ▁rodri go ▁du ter...\n",
            "                              ...                        \n",
            "4483    ▁ibin un yag ▁ng ▁pinuno ▁ng ▁tribo ▁ang ▁mga ...\n",
            "4484    ▁good ▁agri cul tural ▁and ▁live li ho od ▁new...\n",
            "4485    ▁ang ▁a kusa do ▁na ▁si ▁juan ▁pon ce ▁enri le...\n",
            "4486    ▁sinabi ▁ni ▁mendoza ▁na ▁bina ril ▁si ▁gu lim...\n",
            "4487    ▁ito ▁ang ▁sinabi ▁kaha pon ▁ni ▁bohol ▁distri...\n",
            "Name: article, Length: 4488, dtype: object\n"
          ]
        }
      ]
    },
    {
      "cell_type": "markdown",
      "source": [
        "#### Stemming"
      ],
      "metadata": {
        "id": "BSPKSEQxMBMW"
      }
    },
    {
      "cell_type": "code",
      "source": [
        "x_train1_stemmed,x_test_stemmed,y_train1_stemmed,y_test_stemmed = train_test_split(df_stemmed['article'], labels, test_size=0.3, random_state=7)\n",
        "x_trainBT_stemmed, x_testBT_stemmed, y_trainBT_stemmed, y_testBT_stemmed = train_test_split(dfBT_stemmed['article'], labelsBT, test_size=0.3, random_state=7)\n",
        "\n",
        "x_train_stemmed = x_train1_stemmed.append(x_trainBT_stemmed, ignore_index = True)\n",
        "y_train_stemmed = y_train1_stemmed.append(y_trainBT_stemmed, ignore_index = True)\n",
        "print(x_train_stemmed)\n"
      ],
      "metadata": {
        "colab": {
          "base_uri": "https://localhost:8080/"
        },
        "id": "p93sk-E2MA1I",
        "outputId": "fe5e939a-e184-4364-8a3f-0715a2e84265"
      },
      "execution_count": null,
      "outputs": [
        {
          "output_type": "stream",
          "name": "stdout",
          "text": [
            "0       ang social security act of na likha ng sena na...\n",
            "1       dismayado aniya ang mga pamilya ng mga biktima...\n",
            "2       hindi pa man kaupo bilang sena si e hilippine ...\n",
            "3       hindi na pigil ang isa natin bayan at labas na...\n",
            "4       pina utos ni ulo rodrigo duterte sa commission...\n",
            "                              ...                        \n",
            "4483    bunyag ng pinuno ng tribo ang mga lupit na gaw...\n",
            "4484    good agricultural and livelihood news para sa ...\n",
            "4485    ang akusado na si uan ponce enrile sa amagit n...\n",
            "4486    sabi ni mendoza na baril si gulim tapos siya h...\n",
            "4487    ito ang sabi hapon ni bohol district rep erico...\n",
            "Name: article, Length: 4488, dtype: object\n"
          ]
        }
      ]
    },
    {
      "cell_type": "markdown",
      "source": [
        "# Feature Extraction"
      ],
      "metadata": {
        "id": "ohfV5qSPtJxC"
      }
    },
    {
      "cell_type": "code",
      "source": [
        "# Initialize a TfidfVectorizer\n",
        "tfidf_vectorizer=TfidfVectorizer(max_df=0.7, min_df=5)\n",
        "\n",
        "# Fit and transform train set, transform test set\n",
        "tfidf_train=tfidf_vectorizer.fit_transform(x_train) \n",
        "tfidf_test=tfidf_vectorizer.transform(x_test)"
      ],
      "metadata": {
        "id": "qJHrShfAcgBZ"
      },
      "execution_count": null,
      "outputs": []
    },
    {
      "cell_type": "markdown",
      "source": [
        "#### BPE + TFIDF"
      ],
      "metadata": {
        "id": "qKR3cfsGAs0g"
      }
    },
    {
      "cell_type": "code",
      "source": [
        "tfidf_vectorizer_BPE=TfidfVectorizer(max_df=0.7, min_df=5)\n",
        "\n",
        "tfidf_train_BPE = tfidf_vectorizer_BPE.fit_transform(x_train_BPE) \n",
        "tfidf_test_BPE = tfidf_vectorizer_BPE.transform(x_test_BPE)\n"
      ],
      "metadata": {
        "id": "GS6owB83AsRt"
      },
      "execution_count": null,
      "outputs": []
    },
    {
      "cell_type": "markdown",
      "source": [
        "#### stemming + TFIDF"
      ],
      "metadata": {
        "id": "5erhJJeXNL1t"
      }
    },
    {
      "cell_type": "code",
      "source": [
        "tfidf_vectorizer_stemmed = TfidfVectorizer(max_df=0.7, min_df=5)\n",
        "\n",
        "tfidf_train_stemmed = tfidf_vectorizer_stemmed.fit_transform(x_train_stemmed) \n",
        "tfidf_test_stemmed = tfidf_vectorizer_stemmed.transform(x_test_stemmed)\n"
      ],
      "metadata": {
        "id": "qiUXcdRBNLhg"
      },
      "execution_count": null,
      "outputs": []
    },
    {
      "cell_type": "markdown",
      "source": [
        "# Classification Algorithms"
      ],
      "metadata": {
        "id": "KnEhcqPhtCGG"
      }
    },
    {
      "cell_type": "code",
      "source": [
        "def findPrecisionRecallF1score(confusionMatrix, fake_is_1):\n",
        "  if fake_is_1:\n",
        "    tn, fp, fn, tp = confusionMatrix.ravel()\n",
        "  else:\n",
        "    tp, fn, fp, tn = confusionMatrix.ravel()\n",
        "\n",
        "# when fake news is 1 -> true positive   -> default\n",
        "# when fake news is 0 -> true negative\n",
        "  precision = tp/(tp + fp)\n",
        "  recall = tp/(tp + fn)\n",
        "  f1score = 2 * (recall * precision)/(recall + precision)\n",
        "  \n",
        "  print(f'Precision: {round(precision*100,2)}%')\n",
        "  print(f'Recall: {round(recall*100,2)}%')\n",
        "  print(f'F1-Score: {round(f1score*100,2)}%')\n"
      ],
      "metadata": {
        "id": "sTJ9-DHpw5TT"
      },
      "execution_count": null,
      "outputs": []
    },
    {
      "cell_type": "markdown",
      "source": [
        "#### Passive Agressive Classifier"
      ],
      "metadata": {
        "id": "kLZgiKJ3d3eD"
      }
    },
    {
      "cell_type": "code",
      "source": [
        "def findPAC(tfidf_train, y_train, tfidf_test, y_test):\n",
        "  pac=PassiveAggressiveClassifier(random_state=False)\n",
        "  pac.fit(tfidf_train,y_train)\n",
        "\n",
        "  y_pred=pac.predict(tfidf_test)\n",
        "  score=accuracy_score(y_test,y_pred)\n",
        "  print(f'Passive Agressive Accuracy: {round(score*100,2)}%')\n",
        "\n",
        "  pac_cm = confusion_matrix(y_test,y_pred)\n",
        "\n",
        "  print(\"Fake:\")\n",
        "  findPrecisionRecallF1score(pac_cm, 1)\n",
        "  print(\"Real:\")\n",
        "  findPrecisionRecallF1score(pac_cm, 0)\n",
        "\n",
        "  pac_cm_display = ConfusionMatrixDisplay(pac_cm).plot()\n",
        "  return pac"
      ],
      "metadata": {
        "id": "5oZtZ6qGcfyW"
      },
      "execution_count": null,
      "outputs": []
    },
    {
      "cell_type": "markdown",
      "source": [
        "###### BPE + TFIDF"
      ],
      "metadata": {
        "id": "xQrqlMYJHZVR"
      }
    },
    {
      "cell_type": "code",
      "source": [
        "pac_BPE = findPAC(tfidf_train_BPE, y_train_BPE, tfidf_test_BPE, y_test_BPE)"
      ],
      "metadata": {
        "colab": {
          "base_uri": "https://localhost:8080/",
          "height": 471
        },
        "id": "Jl5tMXTyOWrL",
        "outputId": "7f8871da-47eb-4536-c859-da61e2ce7414"
      },
      "execution_count": null,
      "outputs": [
        {
          "output_type": "stream",
          "name": "stdout",
          "text": [
            "Passive Agressive Accuracy: 94.18%\n",
            "Fake:\n",
            "Precision: 93.92%\n",
            "Recall: 94.32%\n",
            "F1-Score: 94.12%\n",
            "Real:\n",
            "Precision: 94.43%\n",
            "Recall: 94.05%\n",
            "F1-Score: 94.24%\n"
          ]
        },
        {
          "output_type": "display_data",
          "data": {
            "text/plain": [
              "<Figure size 432x288 with 2 Axes>"
            ],
            "image/png": "[encoded data removed]"
          },
          "metadata": {
            "needs_background": "light"
          }
        }
      ]
    },
    {
      "cell_type": "markdown",
      "source": [
        "###### stemming + TFIDF"
      ],
      "metadata": {
        "id": "1KlWHh1lPvop"
      }
    },
    {
      "cell_type": "code",
      "source": [
        "pac_stemmed = findPAC(tfidf_train_stemmed, y_train_stemmed, tfidf_test_stemmed, y_test_stemmed)"
      ],
      "metadata": {
        "colab": {
          "base_uri": "https://localhost:8080/",
          "height": 471
        },
        "id": "BRmCDsl6PvVQ",
        "outputId": "464f462d-15ad-4664-a1df-b8244a3b86d8"
      },
      "execution_count": null,
      "outputs": [
        {
          "output_type": "stream",
          "name": "stdout",
          "text": [
            "Passive Agressive Accuracy: 94.7%\n",
            "Fake:\n",
            "Precision: 94.35%\n",
            "Recall: 94.95%\n",
            "F1-Score: 94.65%\n",
            "Real:\n",
            "Precision: 95.04%\n",
            "Recall: 94.46%\n",
            "F1-Score: 94.75%\n"
          ]
        },
        {
          "output_type": "display_data",
          "data": {
            "text/plain": [
              "<Figure size 432x288 with 2 Axes>"
            ],
            "image/png": "[encoded data removed]"
          },
          "metadata": {
            "needs_background": "light"
          }
        }
      ]
    },
    {
      "cell_type": "markdown",
      "source": [
        "#### Multinomial Naive Bayes"
      ],
      "metadata": {
        "id": "aMACB_A-j3mL"
      }
    },
    {
      "cell_type": "code",
      "source": [
        "def findMultNB(tfidf_train, y_train, tfidf_test, y_test):\n",
        "  MultNB = MultinomialNB()\n",
        "  MultNB.fit(tfidf_train,y_train)\n",
        "  MultNB_pred=MultNB.predict(tfidf_test)\n",
        "\n",
        "  score1=accuracy_score(y_test,MultNB_pred)\n",
        "  print(f'Multinomial Naive Bayes Accuracy: {round(score1*100,2)}%')\n",
        "\n",
        "  MultNB_cm = confusion_matrix(y_test,MultNB_pred)\n",
        "\n",
        "  print(\"Fake:\")\n",
        "  findPrecisionRecallF1score(MultNB_cm, 1)\n",
        "  print(\"Real:\")\n",
        "  findPrecisionRecallF1score(MultNB_cm, 0)\n",
        "\n",
        "  MultNB_cm_display = ConfusionMatrixDisplay(MultNB_cm).plot()\n",
        "  return MultNB"
      ],
      "metadata": {
        "id": "dVY_2P4FQVvt"
      },
      "execution_count": null,
      "outputs": []
    },
    {
      "cell_type": "markdown",
      "source": [
        "###### BPE + TFIDF"
      ],
      "metadata": {
        "id": "Mp6g9j9UTrKQ"
      }
    },
    {
      "cell_type": "code",
      "source": [
        "MultNB_BPE = findMultNB(tfidf_train_BPE, y_train_BPE, tfidf_test_BPE, y_test_BPE)"
      ],
      "metadata": {
        "colab": {
          "base_uri": "https://localhost:8080/",
          "height": 471
        },
        "id": "ujm9K5QlTsOG",
        "outputId": "5e609a8f-9ff1-480c-f431-8d89b44bc9ed"
      },
      "execution_count": null,
      "outputs": [
        {
          "output_type": "stream",
          "name": "stdout",
          "text": [
            "Multinomial Naive Bayes Accuracy: 87.53%\n",
            "Fake:\n",
            "Precision: 83.68%\n",
            "Recall: 92.84%\n",
            "F1-Score: 88.02%\n",
            "Real:\n",
            "Precision: 92.18%\n",
            "Recall: 82.34%\n",
            "F1-Score: 86.98%\n"
          ]
        },
        {
          "output_type": "display_data",
          "data": {
            "text/plain": [
              "<Figure size 432x288 with 2 Axes>"
            ],
            "image/png": "[encoded data removed]"
          },
          "metadata": {
            "needs_background": "light"
          }
        }
      ]
    },
    {
      "cell_type": "markdown",
      "source": [
        "###### stemming + TFIDF"
      ],
      "metadata": {
        "id": "MpYQqAXuQkxT"
      }
    },
    {
      "cell_type": "code",
      "source": [
        "MultNB_stemmed = findMultNB(tfidf_train_stemmed, y_train_stemmed, tfidf_test_stemmed, y_test_stemmed)"
      ],
      "metadata": {
        "colab": {
          "base_uri": "https://localhost:8080/",
          "height": 475
        },
        "id": "XkX0lPpdQlRK",
        "outputId": "3631bf2a-13fe-41e2-9751-ecaaac116097"
      },
      "execution_count": null,
      "outputs": [
        {
          "output_type": "stream",
          "name": "stdout",
          "text": [
            "Multinomial Naive Bayes Accuracy: 89.19%\n",
            "Fake:\n",
            "Precision: 85.07%\n",
            "Recall: 94.74%\n",
            "F1-Score: 89.64%\n",
            "Real:\n",
            "Precision: 94.23%\n",
            "Recall: 83.78%\n",
            "F1-Score: 88.7%\n"
          ]
        },
        {
          "output_type": "display_data",
          "data": {
            "text/plain": [
              "<Figure size 432x288 with 2 Axes>"
            ],
            "image/png": "[encoded data removed]"
          },
          "metadata": {
            "needs_background": "light"
          }
        }
      ]
    },
    {
      "cell_type": "markdown",
      "source": [
        "#### Random Forest"
      ],
      "metadata": {
        "id": "zYJGyj7Kmj4Q"
      }
    },
    {
      "cell_type": "code",
      "source": [
        "def findRFC(tfidf_train, y_train, tfidf_test, y_test):\n",
        "  rfc=RandomForestClassifier(random_state=False)\n",
        "  rfc.fit(tfidf_train,y_train)\n",
        "  rfc_pred = rfc.predict(tfidf_test)\n",
        "\n",
        "  score2=accuracy_score(y_test,rfc_pred)\n",
        "  print(f'Random Forest Accuracy: {round(score2*100,2)}%')\n",
        "\n",
        "  rfc_cm = confusion_matrix(y_test,rfc_pred)\n",
        "\n",
        "  print(\"Fake:\")\n",
        "  findPrecisionRecallF1score(rfc_cm, 1)\n",
        "  print(\"Real:\")\n",
        "  findPrecisionRecallF1score(rfc_cm, 0)\n",
        "\n",
        "  rfc_cm_display = ConfusionMatrixDisplay(rfc_cm).plot()\n",
        "  return rfc"
      ],
      "metadata": {
        "id": "m9_YO8Gxml30"
      },
      "execution_count": null,
      "outputs": []
    },
    {
      "cell_type": "markdown",
      "source": [
        "###### BPE + TFIDF"
      ],
      "metadata": {
        "id": "RXcNQ9k7UsVD"
      }
    },
    {
      "cell_type": "code",
      "source": [
        "rfc_BPE = findRFC(tfidf_train_BPE, y_train_BPE, tfidf_test_BPE, y_test_BPE)"
      ],
      "metadata": {
        "colab": {
          "base_uri": "https://localhost:8080/",
          "height": 471
        },
        "id": "EvCsIQC-mpbo",
        "outputId": "8073f720-aee3-492f-d4e7-05c2154cf930"
      },
      "execution_count": null,
      "outputs": [
        {
          "output_type": "stream",
          "name": "stdout",
          "text": [
            "Random Forest Accuracy: 92.0%\n",
            "Fake:\n",
            "Precision: 91.12%\n",
            "Recall: 92.84%\n",
            "F1-Score: 91.97%\n",
            "Real:\n",
            "Precision: 92.89%\n",
            "Recall: 91.17%\n",
            "F1-Score: 92.02%\n"
          ]
        },
        {
          "output_type": "display_data",
          "data": {
            "text/plain": [
              "<Figure size 432x288 with 2 Axes>"
            ],
            "image/png": "[encoded data removed]"
          },
          "metadata": {
            "needs_background": "light"
          }
        }
      ]
    },
    {
      "cell_type": "markdown",
      "source": [
        "###### stemming + TFIDF"
      ],
      "metadata": {
        "id": "h324TjJURnfu"
      }
    },
    {
      "cell_type": "code",
      "source": [
        "rfc_stemmed = findRFC(tfidf_train_stemmed, y_train_stemmed, tfidf_test_stemmed, y_test_stemmed)"
      ],
      "metadata": {
        "colab": {
          "base_uri": "https://localhost:8080/",
          "height": 471
        },
        "id": "CLOmS2UmRnQf",
        "outputId": "61d0e103-42ba-4fc0-953f-e9b88017e683"
      },
      "execution_count": null,
      "outputs": [
        {
          "output_type": "stream",
          "name": "stdout",
          "text": [
            "Random Forest Accuracy: 91.16%\n",
            "Fake:\n",
            "Precision: 89.8%\n",
            "Recall: 92.63%\n",
            "F1-Score: 91.19%\n",
            "Real:\n",
            "Precision: 92.58%\n",
            "Recall: 89.73%\n",
            "F1-Score: 91.14%\n"
          ]
        },
        {
          "output_type": "display_data",
          "data": {
            "text/plain": [
              "<Figure size 432x288 with 2 Axes>"
            ],
            "image/png": "[encoded data removed]"
          },
          "metadata": {
            "needs_background": "light"
          }
        }
      ]
    },
    {
      "cell_type": "markdown",
      "source": [
        "#### SVM"
      ],
      "metadata": {
        "id": "YHfpePN1yGrt"
      }
    },
    {
      "cell_type": "code",
      "source": [
        "def findSVC(tfidf_train, y_train, tfidf_test, y_test):\n",
        "  svc = SVC()\n",
        "  svc.fit(tfidf_train,y_train)\n",
        "  svc_pred = svc.predict(tfidf_test)\n",
        "\n",
        "  SVCscore=accuracy_score(y_test,svc_pred)\n",
        "  print(f'SVC Accuracy: {round(SVCscore*100,2)}%')\n",
        "\n",
        "  svc_cm = confusion_matrix(y_test,svc_pred)\n",
        "\n",
        "  print(\"Fake:\")\n",
        "  findPrecisionRecallF1score(svc_cm, 1)\n",
        "  print(\"Real:\")\n",
        "  findPrecisionRecallF1score(svc_cm, 0)\n",
        "\n",
        "  svc_cm_display = ConfusionMatrixDisplay(svc_cm).plot()\n",
        "  return svc"
      ],
      "metadata": {
        "id": "TmLdTJcW0dTT"
      },
      "execution_count": null,
      "outputs": []
    },
    {
      "cell_type": "markdown",
      "source": [
        "###### BPE + TFIDF"
      ],
      "metadata": {
        "id": "eiaviT0DWJqd"
      }
    },
    {
      "cell_type": "code",
      "source": [
        "svc_BPE = findSVC(tfidf_train_BPE, y_train_BPE, tfidf_test_BPE, y_test_BPE)"
      ],
      "metadata": {
        "colab": {
          "base_uri": "https://localhost:8080/",
          "height": 471
        },
        "id": "JqbiwRTh0eU7",
        "outputId": "e0afaa61-376a-41cb-c6ad-b0584f1310c7"
      },
      "execution_count": null,
      "outputs": [
        {
          "output_type": "stream",
          "name": "stdout",
          "text": [
            "SVC Accuracy: 94.18%\n",
            "Fake:\n",
            "Precision: 95.44%\n",
            "Recall: 92.63%\n",
            "F1-Score: 94.02%\n",
            "Real:\n",
            "Precision: 93.01%\n",
            "Recall: 95.69%\n",
            "F1-Score: 94.33%\n"
          ]
        },
        {
          "output_type": "display_data",
          "data": {
            "text/plain": [
              "<Figure size 432x288 with 2 Axes>"
            ],
            "image/png": "[encoded data removed]"
          },
          "metadata": {
            "needs_background": "light"
          }
        }
      ]
    },
    {
      "cell_type": "markdown",
      "source": [
        "###### stemming + TFIDF"
      ],
      "metadata": {
        "id": "itID46eqSk7G"
      }
    },
    {
      "cell_type": "code",
      "source": [
        "svc_stemmed = findSVC(tfidf_train_stemmed, y_train_stemmed, tfidf_test_stemmed, y_test_stemmed)"
      ],
      "metadata": {
        "colab": {
          "base_uri": "https://localhost:8080/",
          "height": 471
        },
        "id": "DKq2LqFtSksC",
        "outputId": "8b087fd8-69d4-4ef7-81ab-2ed16378113b"
      },
      "execution_count": null,
      "outputs": [
        {
          "output_type": "stream",
          "name": "stdout",
          "text": [
            "SVC Accuracy: 94.7%\n",
            "Fake:\n",
            "Precision: 95.3%\n",
            "Recall: 93.89%\n",
            "F1-Score: 94.59%\n",
            "Real:\n",
            "Precision: 94.13%\n",
            "Recall: 95.48%\n",
            "F1-Score: 94.8%\n"
          ]
        },
        {
          "output_type": "display_data",
          "data": {
            "text/plain": [
              "<Figure size 432x288 with 2 Axes>"
            ],
            "image/png": "[encoded data removed]"
          },
          "metadata": {
            "needs_background": "light"
          }
        }
      ]
    },
    {
      "cell_type": "markdown",
      "source": [
        "#### Logistic Regression"
      ],
      "metadata": {
        "id": "xfOXLQTf4A8h"
      }
    },
    {
      "cell_type": "code",
      "source": [
        "def findLogReg(tfidf_train, y_train, tfidf_test, y_test):\n",
        "  LogReg = LogisticRegression()\n",
        "  LogReg.fit(tfidf_train,y_train)\n",
        "  LogReg_pred = LogReg.predict(tfidf_test)\n",
        "\n",
        "  LogRegscore=accuracy_score(y_test,LogReg_pred)\n",
        "  print(f'Logistic Regresion Accuracy: {round(LogRegscore*100,2)}%')\n",
        "\n",
        "  LogReg_cm = confusion_matrix(y_test,LogReg_pred)\n",
        "\n",
        "  print(\"Fake:\")\n",
        "  findPrecisionRecallF1score(LogReg_cm, 1)\n",
        "  print(\"Real:\")\n",
        "  findPrecisionRecallF1score(LogReg_cm, 0)\n",
        "\n",
        "  LogReg_cm_display = ConfusionMatrixDisplay(LogReg_cm).plot()\n",
        "  return LogReg"
      ],
      "metadata": {
        "id": "i1iB1PoM4ctm"
      },
      "execution_count": null,
      "outputs": []
    },
    {
      "cell_type": "markdown",
      "source": [
        "###### BPE + TFIDF"
      ],
      "metadata": {
        "id": "fPNwkAlPXIQU"
      }
    },
    {
      "cell_type": "code",
      "source": [
        "LogReg_BPE = findLogReg(tfidf_train_BPE, y_train_BPE, tfidf_test_BPE, y_test_BPE)"
      ],
      "metadata": {
        "colab": {
          "base_uri": "https://localhost:8080/",
          "height": 471
        },
        "id": "BJ35u9KP4cWH",
        "outputId": "3569ebf9-cf9b-443d-ac23-294b4a39665a"
      },
      "execution_count": null,
      "outputs": [
        {
          "output_type": "stream",
          "name": "stdout",
          "text": [
            "Logistic Regresion Accuracy: 93.04%\n",
            "Fake:\n",
            "Precision: 94.16%\n",
            "Recall: 91.58%\n",
            "F1-Score: 92.85%\n",
            "Real:\n",
            "Precision: 92.0%\n",
            "Recall: 94.46%\n",
            "F1-Score: 93.21%\n"
          ]
        },
        {
          "output_type": "display_data",
          "data": {
            "text/plain": [
              "<Figure size 432x288 with 2 Axes>"
            ],
            "image/png": "[encoded data removed]"
          },
          "metadata": {
            "needs_background": "light"
          }
        }
      ]
    },
    {
      "cell_type": "markdown",
      "source": [
        "###### stemming + TFIDF"
      ],
      "metadata": {
        "id": "jnzVoH1kXG-h"
      }
    },
    {
      "cell_type": "code",
      "source": [
        "LogReg_stemmed = findLogReg(tfidf_train_stemmed, y_train_stemmed, tfidf_test_stemmed, y_test_stemmed)"
      ],
      "metadata": {
        "colab": {
          "base_uri": "https://localhost:8080/",
          "height": 471
        },
        "id": "N_rvI1XkXGvF",
        "outputId": "9cb17aa3-bdd0-469e-d6f7-33f23e256499"
      },
      "execution_count": null,
      "outputs": [
        {
          "output_type": "stream",
          "name": "stdout",
          "text": [
            "Logistic Regresion Accuracy: 93.66%\n",
            "Fake:\n",
            "Precision: 94.42%\n",
            "Recall: 92.63%\n",
            "F1-Score: 93.52%\n",
            "Real:\n",
            "Precision: 92.94%\n",
            "Recall: 94.66%\n",
            "F1-Score: 93.79%\n"
          ]
        },
        {
          "output_type": "display_data",
          "data": {
            "text/plain": [
              "<Figure size 432x288 with 2 Axes>"
            ],
            "image/png": "[encoded data removed]"
          },
          "metadata": {
            "needs_background": "light"
          }
        }
      ]
    },
    {
      "cell_type": "markdown",
      "source": [
        "#### Stochastic Gradient Descent (SGD Classifier)"
      ],
      "metadata": {
        "id": "evLDqvNO4Des"
      }
    },
    {
      "cell_type": "code",
      "source": [
        "def findSGD(tfidf_train, y_train, tfidf_test, y_test):\n",
        "  sgd_clf = SGDClassifier(random_state=False)\n",
        "  sgd_clf.fit(tfidf_train,y_train)\n",
        "  sgd_pred = sgd_clf.predict(tfidf_test)\n",
        "\n",
        "  SGDscore=accuracy_score(y_test,sgd_pred)\n",
        "  print(f'SGD Accuracy: {round(SGDscore*100,2)}%')\n",
        "\n",
        "  sgd_cm = confusion_matrix(y_test,sgd_pred)\n",
        "\n",
        "  print(\"Fake:\")\n",
        "  findPrecisionRecallF1score(sgd_cm, 1)\n",
        "  print(\"Real:\")\n",
        "  findPrecisionRecallF1score(sgd_cm, 0)\n",
        "\n",
        "  sgd_cm_display = ConfusionMatrixDisplay(sgd_cm).plot()\n",
        "  return sgd_clf"
      ],
      "metadata": {
        "id": "KJH0xapC4ei3"
      },
      "execution_count": null,
      "outputs": []
    },
    {
      "cell_type": "markdown",
      "source": [
        "###### BPE + TFIDF"
      ],
      "metadata": {
        "id": "PeWEQhquX2_C"
      }
    },
    {
      "cell_type": "code",
      "source": [
        "sgd_clf_BPE = findSGD(tfidf_train_BPE, y_train_BPE, tfidf_test_BPE, y_test_BPE)"
      ],
      "metadata": {
        "colab": {
          "base_uri": "https://localhost:8080/",
          "height": 471
        },
        "id": "RwEpygvw4eVu",
        "outputId": "9751c0dd-88fc-4001-9b06-100faf44ec3e"
      },
      "execution_count": null,
      "outputs": [
        {
          "output_type": "stream",
          "name": "stdout",
          "text": [
            "SGD Accuracy: 94.18%\n",
            "Fake:\n",
            "Precision: 94.67%\n",
            "Recall: 93.47%\n",
            "F1-Score: 94.07%\n",
            "Real:\n",
            "Precision: 93.71%\n",
            "Recall: 94.87%\n",
            "F1-Score: 94.29%\n"
          ]
        },
        {
          "output_type": "display_data",
          "data": {
            "text/plain": [
              "<Figure size 432x288 with 2 Axes>"
            ],
            "image/png": "[encoded data removed]"
          },
          "metadata": {
            "needs_background": "light"
          }
        }
      ]
    },
    {
      "cell_type": "markdown",
      "source": [
        "###### stemming + TFIDF"
      ],
      "metadata": {
        "id": "J1YVR1P3X-n0"
      }
    },
    {
      "cell_type": "code",
      "source": [
        "sgd_clf_stemmed = findSGD(tfidf_train_stemmed, y_train_stemmed, tfidf_test_stemmed, y_test_stemmed)"
      ],
      "metadata": {
        "colab": {
          "base_uri": "https://localhost:8080/",
          "height": 471
        },
        "id": "S0sUNTgwX-Y2",
        "outputId": "1aef710f-4e27-4b84-b33e-bd3367456146"
      },
      "execution_count": null,
      "outputs": [
        {
          "output_type": "stream",
          "name": "stdout",
          "text": [
            "SGD Accuracy: 94.8%\n",
            "Fake:\n",
            "Precision: 95.12%\n",
            "Recall: 94.32%\n",
            "F1-Score: 94.71%\n",
            "Real:\n",
            "Precision: 94.5%\n",
            "Recall: 95.28%\n",
            "F1-Score: 94.89%\n"
          ]
        },
        {
          "output_type": "display_data",
          "data": {
            "text/plain": [
              "<Figure size 432x288 with 2 Axes>"
            ],
            "image/png": "[encoded data removed]"
          },
          "metadata": {
            "needs_background": "light"
          }
        }
      ]
    },
    {
      "cell_type": "markdown",
      "source": [
        "#### Decision Tree Classifier"
      ],
      "metadata": {
        "id": "0OlbHLZBGRcs"
      }
    },
    {
      "cell_type": "code",
      "source": [
        "def findDT(tfidf_train, y_train, tfidf_test, y_test):\n",
        "  dt_clf = DecisionTreeClassifier(random_state=False)\n",
        "  dt_clf.fit(tfidf_train,y_train)\n",
        "  dt_pred = dt_clf.predict(tfidf_test)\n",
        "\n",
        "  DTscore=accuracy_score(y_test,dt_pred)\n",
        "  print(f'SGD Accuracy: {round(DTscore*100,2)}%')\n",
        "\n",
        "  dt_cm = confusion_matrix(y_test,dt_pred)\n",
        "\n",
        "  print(\"Fake:\")\n",
        "  findPrecisionRecallF1score(dt_cm, 1)\n",
        "  print(\"Real:\")\n",
        "  findPrecisionRecallF1score(dt_cm, 0)\n",
        "\n",
        "  dt_cm_display = ConfusionMatrixDisplay(dt_cm).plot()\n",
        "  return dt_clf"
      ],
      "metadata": {
        "id": "gQ4w0gHnGUHT"
      },
      "execution_count": null,
      "outputs": []
    },
    {
      "cell_type": "markdown",
      "source": [
        "###### BPE + TFIDF"
      ],
      "metadata": {
        "id": "QtsMSgwmYMRt"
      }
    },
    {
      "cell_type": "code",
      "source": [
        "\n",
        "dt_clf_BPE = findDT(tfidf_train_BPE, y_train_BPE, tfidf_test_BPE, y_test_BPE)"
      ],
      "metadata": {
        "colab": {
          "base_uri": "https://localhost:8080/",
          "height": 471
        },
        "id": "ysmlbCNvGWuI",
        "outputId": "8f48398d-f593-402b-986c-35f64a762bcb"
      },
      "execution_count": null,
      "outputs": [
        {
          "output_type": "stream",
          "name": "stdout",
          "text": [
            "SGD Accuracy: 87.01%\n",
            "Fake:\n",
            "Precision: 85.0%\n",
            "Recall: 89.47%\n",
            "F1-Score: 87.18%\n",
            "Real:\n",
            "Precision: 89.18%\n",
            "Recall: 84.6%\n",
            "F1-Score: 86.83%\n"
          ]
        },
        {
          "output_type": "display_data",
          "data": {
            "text/plain": [
              "<Figure size 432x288 with 2 Axes>"
            ],
            "image/png": "[encoded data removed]"
          },
          "metadata": {
            "needs_background": "light"
          }
        }
      ]
    },
    {
      "cell_type": "markdown",
      "source": [
        "###### stemming + TFIDF"
      ],
      "metadata": {
        "id": "cNz_LoR1YQ1k"
      }
    },
    {
      "cell_type": "code",
      "source": [
        "dt_clf_stemmed = findDT(tfidf_train_stemmed, y_train_stemmed, tfidf_test_stemmed, y_test_stemmed)"
      ],
      "metadata": {
        "colab": {
          "base_uri": "https://localhost:8080/",
          "height": 471
        },
        "id": "_ImR-tc4YQoc",
        "outputId": "9093c703-6fb7-4db0-da72-9c068103de31"
      },
      "execution_count": null,
      "outputs": [
        {
          "output_type": "stream",
          "name": "stdout",
          "text": [
            "SGD Accuracy: 90.23%\n",
            "Fake:\n",
            "Precision: 90.27%\n",
            "Recall: 89.89%\n",
            "F1-Score: 90.08%\n",
            "Real:\n",
            "Precision: 90.18%\n",
            "Recall: 90.55%\n",
            "F1-Score: 90.37%\n"
          ]
        },
        {
          "output_type": "display_data",
          "data": {
            "text/plain": [
              "<Figure size 432x288 with 2 Axes>"
            ],
            "image/png": "[encoded data removed]"
          },
          "metadata": {
            "needs_background": "light"
          }
        }
      ]
    },
    {
      "cell_type": "markdown",
      "source": [
        "#### XGBoost"
      ],
      "metadata": {
        "id": "nYrbtctqGYmc"
      }
    },
    {
      "cell_type": "code",
      "source": [
        "def findXGB(tfidf_train, y_train, tfidf_test, y_test):\n",
        "  xgb_clf = xgb.XGBClassifier()\n",
        "  xgb_clf.fit(tfidf_train,y_train)\n",
        "  xgb_pred = xgb_clf.predict(tfidf_test)\n",
        "\n",
        "  XGBscore=accuracy_score(y_test,xgb_pred)\n",
        "  print(f'XGBoost Accuracy: {round(XGBscore*100,2)}%')\n",
        "\n",
        "  xgb_cm = confusion_matrix(y_test,xgb_pred)\n",
        "\n",
        "  print(\"Fake:\")\n",
        "  findPrecisionRecallF1score(xgb_cm, 1)\n",
        "  print(\"Real:\")\n",
        "  findPrecisionRecallF1score(xgb_cm, 0)\n",
        "\n",
        "  xgb_cm_display = ConfusionMatrixDisplay(xgb_cm).plot()\n",
        "\n",
        "  return xgb_clf"
      ],
      "metadata": {
        "id": "k-hzTMfXGVbU"
      },
      "execution_count": null,
      "outputs": []
    },
    {
      "cell_type": "markdown",
      "source": [
        "###### BPE + TFIDF"
      ],
      "metadata": {
        "id": "wjCiOYHlYewk"
      }
    },
    {
      "cell_type": "code",
      "source": [
        "xgb_BPE = findXGB(tfidf_train_BPE, y_train_BPE, tfidf_test_BPE, y_test_BPE)"
      ],
      "metadata": {
        "colab": {
          "base_uri": "https://localhost:8080/",
          "height": 471
        },
        "id": "577LuwJ9GU7U",
        "outputId": "fbf8ba28-e651-48b1-d9a7-3cdaf1de73e4"
      },
      "execution_count": null,
      "outputs": [
        {
          "output_type": "stream",
          "name": "stdout",
          "text": [
            "XGBoost Accuracy: 92.31%\n",
            "Fake:\n",
            "Precision: 94.85%\n",
            "Recall: 89.26%\n",
            "F1-Score: 91.97%\n",
            "Real:\n",
            "Precision: 90.1%\n",
            "Recall: 95.28%\n",
            "F1-Score: 92.61%\n"
          ]
        },
        {
          "output_type": "display_data",
          "data": {
            "text/plain": [
              "<Figure size 432x288 with 2 Axes>"
            ],
            "image/png": "[encoded data removed]"
          },
          "metadata": {
            "needs_background": "light"
          }
        }
      ]
    },
    {
      "cell_type": "markdown",
      "source": [
        "###### stemming + TFIDF"
      ],
      "metadata": {
        "id": "1Q44dhb2YihU"
      }
    },
    {
      "cell_type": "code",
      "source": [
        "xgb_stemmed = findXGB(tfidf_train_stemmed, y_train_stemmed, tfidf_test_stemmed, y_test_stemmed)"
      ],
      "metadata": {
        "colab": {
          "base_uri": "https://localhost:8080/",
          "height": 471
        },
        "id": "JGXYxarjYiOk",
        "outputId": "ab9fb2c0-4bb2-4809-842b-7bbade161707"
      },
      "execution_count": null,
      "outputs": [
        {
          "output_type": "stream",
          "name": "stdout",
          "text": [
            "XGBoost Accuracy: 93.76%\n",
            "Fake:\n",
            "Precision: 95.81%\n",
            "Recall: 91.37%\n",
            "F1-Score: 93.53%\n",
            "Real:\n",
            "Precision: 91.94%\n",
            "Recall: 96.1%\n",
            "F1-Score: 93.98%\n"
          ]
        },
        {
          "output_type": "display_data",
          "data": {
            "text/plain": [
              "<Figure size 432x288 with 2 Axes>"
            ],
            "image/png": "[encoded data removed]"
          },
          "metadata": {
            "needs_background": "light"
          }
        }
      ]
    },
    {
      "cell_type": "markdown",
      "source": [
        "#### Extra Trees"
      ],
      "metadata": {
        "id": "x7ma83WDOYNY"
      }
    },
    {
      "cell_type": "code",
      "source": [
        "def findET(tfidf_train, y_train, tfidf_test, y_test):\n",
        "  et = ExtraTreesClassifier(random_state=False)\n",
        "  et.fit(tfidf_train,y_train)\n",
        "  et_pred = et.predict(tfidf_test)\n",
        "\n",
        "  ETscore=accuracy_score(y_test,et_pred)\n",
        "  print(f'Extra Trees Accuracy: {round(ETscore*100,2)}%')\n",
        "\n",
        "  et_cm = confusion_matrix(y_test,et_pred)\n",
        "\n",
        "  print(\"Fake:\")\n",
        "  findPrecisionRecallF1score(et_cm, 1)\n",
        "  print(\"Real:\")\n",
        "  findPrecisionRecallF1score(et_cm, 0)\n",
        "\n",
        "  et_cm_display = ConfusionMatrixDisplay(et_cm).plot()\n",
        "  return et"
      ],
      "metadata": {
        "id": "0-iHeATtOZF3"
      },
      "execution_count": null,
      "outputs": []
    },
    {
      "cell_type": "markdown",
      "source": [
        "###### BPE + TFIDF"
      ],
      "metadata": {
        "id": "nykQ9UJOZAtV"
      }
    },
    {
      "cell_type": "code",
      "source": [
        "et_BPE = findET(tfidf_train_BPE, y_train_BPE, tfidf_test_BPE, y_test_BPE)"
      ],
      "metadata": {
        "colab": {
          "base_uri": "https://localhost:8080/",
          "height": 475
        },
        "id": "-DW0GXBFOajq",
        "outputId": "ffdf93a3-a070-41c7-dd58-ea6cd6a5ec61"
      },
      "execution_count": null,
      "outputs": [
        {
          "output_type": "stream",
          "name": "stdout",
          "text": [
            "Extra Trees Accuracy: 90.75%\n",
            "Fake:\n",
            "Precision: 87.4%\n",
            "Recall: 94.95%\n",
            "F1-Score: 91.02%\n",
            "Real:\n",
            "Precision: 94.62%\n",
            "Recall: 86.65%\n",
            "F1-Score: 90.46%\n"
          ]
        },
        {
          "output_type": "display_data",
          "data": {
            "text/plain": [
              "<Figure size 432x288 with 2 Axes>"
            ],
            "image/png": "[encoded data removed]"
          },
          "metadata": {
            "needs_background": "light"
          }
        }
      ]
    },
    {
      "cell_type": "markdown",
      "source": [
        "###### stemming + TFIDF"
      ],
      "metadata": {
        "id": "c7EgpsxzZDOV"
      }
    },
    {
      "cell_type": "code",
      "source": [
        "et_stemmed = findET(tfidf_train_stemmed, y_train_stemmed, tfidf_test_stemmed, y_test_stemmed)"
      ],
      "metadata": {
        "colab": {
          "base_uri": "https://localhost:8080/",
          "height": 474
        },
        "id": "Guu3sE86ZCrM",
        "outputId": "0db797f1-282b-4825-ea92-9220532e26f5"
      },
      "execution_count": null,
      "outputs": [
        {
          "output_type": "stream",
          "name": "stdout",
          "text": [
            "Extra Trees Accuracy: 92.41%\n",
            "Fake:\n",
            "Precision: 89.88%\n",
            "Recall: 95.37%\n",
            "F1-Score: 92.54%\n",
            "Real:\n",
            "Precision: 95.2%\n",
            "Recall: 89.53%\n",
            "F1-Score: 92.28%\n"
          ]
        },
        {
          "output_type": "display_data",
          "data": {
            "text/plain": [
              "<Figure size 432x288 with 2 Axes>"
            ],
            "image/png": "[encoded data removed]"
          },
          "metadata": {
            "needs_background": "light"
          }
        }
      ]
    },
    {
      "cell_type": "markdown",
      "source": [
        "#### AdaBoost"
      ],
      "metadata": {
        "id": "qAIo6XTbQkaG"
      }
    },
    {
      "cell_type": "code",
      "source": [
        "def findABC(tfidf_train, y_train, tfidf_test, y_test):\n",
        "  abc = AdaBoostClassifier(random_state=False)\n",
        "  abc.fit(tfidf_train,y_train)\n",
        "  abc_pred = abc.predict(tfidf_test)\n",
        "\n",
        "  ABCscore=accuracy_score(y_test,abc_pred)\n",
        "  print(f'adaBoost Accuracy: {round(ABCscore*100,2)}%')\n",
        "\n",
        "  abc_cm = confusion_matrix(y_test,abc_pred)\n",
        "\n",
        "  print(\"Fake:\")\n",
        "  findPrecisionRecallF1score(abc_cm, 1)\n",
        "  print(\"Real:\")\n",
        "  findPrecisionRecallF1score(abc_cm, 0)\n",
        "\n",
        "  abc_cm_display = ConfusionMatrixDisplay(abc_cm).plot()\n",
        "  return abc"
      ],
      "metadata": {
        "id": "tUqrEgCcOaCX"
      },
      "execution_count": null,
      "outputs": []
    },
    {
      "cell_type": "markdown",
      "source": [
        "###### BPE + TFIDF"
      ],
      "metadata": {
        "id": "KnQkVAoZZzYG"
      }
    },
    {
      "cell_type": "code",
      "source": [
        "abc_BPE = findABC(tfidf_train_BPE, y_train_BPE, tfidf_test_BPE, y_test_BPE)"
      ],
      "metadata": {
        "colab": {
          "base_uri": "https://localhost:8080/",
          "height": 473
        },
        "id": "Rg2KAiNTQluI",
        "outputId": "2b9791af-0fa1-4809-933c-d8bc3e0d24cf"
      },
      "execution_count": null,
      "outputs": [
        {
          "output_type": "stream",
          "name": "stdout",
          "text": [
            "adaBoost Accuracy: 91.89%\n",
            "Fake:\n",
            "Precision: 93.06%\n",
            "Recall: 90.32%\n",
            "F1-Score: 91.67%\n",
            "Real:\n",
            "Precision: 90.82%\n",
            "Recall: 93.43%\n",
            "F1-Score: 92.11%\n"
          ]
        },
        {
          "output_type": "display_data",
          "data": {
            "text/plain": [
              "<Figure size 432x288 with 2 Axes>"
            ],
            "image/png": "[encoded data removed]"
          },
          "metadata": {
            "needs_background": "light"
          }
        }
      ]
    },
    {
      "cell_type": "markdown",
      "source": [
        "###### stemming + TFIDF"
      ],
      "metadata": {
        "id": "F8Uu_JvuZ7ak"
      }
    },
    {
      "cell_type": "code",
      "source": [
        "abc_stemmed = findABC(tfidf_train_stemmed, y_train_stemmed, tfidf_test_stemmed, y_test_stemmed)"
      ],
      "metadata": {
        "colab": {
          "base_uri": "https://localhost:8080/",
          "height": 472
        },
        "id": "R3lqT9eRZ69P",
        "outputId": "35847e69-0f05-470c-bd7b-8dda8a981ebd"
      },
      "execution_count": null,
      "outputs": [
        {
          "output_type": "stream",
          "name": "stdout",
          "text": [
            "adaBoost Accuracy: 92.2%\n",
            "Fake:\n",
            "Precision: 93.29%\n",
            "Recall: 90.74%\n",
            "F1-Score: 92.0%\n",
            "Real:\n",
            "Precision: 91.2%\n",
            "Recall: 93.63%\n",
            "F1-Score: 92.4%\n"
          ]
        },
        {
          "output_type": "display_data",
          "data": {
            "text/plain": [
              "<Figure size 432x288 with 2 Axes>"
            ],
            "image/png": "[encoded data removed]"
          },
          "metadata": {
            "needs_background": "light"
          }
        }
      ]
    },
    {
      "cell_type": "markdown",
      "source": [
        "# Voting Classifier"
      ],
      "metadata": {
        "id": "uLSwLZKV_hvP"
      }
    },
    {
      "cell_type": "code",
      "source": [
        "def findVoting(pac, MultNB,rfc, svc, LogReg, sgd_clf, dt_clf, xgb, et, abc, tfidf_train,y_train, tfidf_test):\n",
        "  estimatorList = [('pac',pac),('MultNB',MultNB),('rfc',rfc),('svc',svc),('LogReg',LogReg),\n",
        "                  ('sgd_clf',sgd_clf),('dt_clf',dt_clf),('xgb',xgb),('et',et),('abc',abc)]\n",
        "\n",
        "\n",
        "  Ensemb = VotingClassifier(estimators = estimatorList, voting = 'hard')\n",
        "  Ensemb.fit(tfidf_train,y_train)\n",
        "  Ensemb_pred=Ensemb.predict(tfidf_test)\n",
        "\n",
        "  score4=accuracy_score(y_test,Ensemb_pred)\n",
        "  print(f'Ensemble Learning Accuracy: {round(score4*100,2)}%')\n",
        "\n",
        "  Ensemb_cm = confusion_matrix(y_test,Ensemb_pred)\n",
        "\n",
        "  print(\"Fake:\")\n",
        "  findPrecisionRecallF1score(Ensemb_cm, 1)\n",
        "  print(\"Real:\")\n",
        "  findPrecisionRecallF1score(Ensemb_cm, 0)\n",
        "\n",
        "  Encemb_cm_display = ConfusionMatrixDisplay(Ensemb_cm).plot()\n",
        "\n",
        "  return Ensemb"
      ],
      "metadata": {
        "id": "GV6dWOin_opj"
      },
      "execution_count": null,
      "outputs": []
    },
    {
      "cell_type": "code",
      "source": [
        "def findVoting_noSVM(pac, MultNB,rfc, LogReg, sgd_clf, dt_clf, xgb, et, abc, tfidf_train,y_train, tfidf_test):\n",
        "  estimatorList = [('pac',pac),('MultNB',MultNB),('rfc',rfc),('LogReg',LogReg),\n",
        "                  ('sgd_clf',sgd_clf),('dt_clf',dt_clf),('xgb',xgb),('et',et),('abc',abc)]\n",
        "\n",
        "\n",
        "  Ensemb = VotingClassifier(estimators = estimatorList, voting = 'hard')\n",
        "  Ensemb.fit(tfidf_train,y_train)\n",
        "  Ensemb_pred=Ensemb.predict(tfidf_test)\n",
        "\n",
        "  score4=accuracy_score(y_test,Ensemb_pred)\n",
        "  print(f'Ensemble Learning Accuracy: {round(score4*100,2)}%')\n",
        "\n",
        "  Ensemb_cm = confusion_matrix(y_test,Ensemb_pred)\n",
        "\n",
        "  print(\"Fake:\")\n",
        "  findPrecisionRecallF1score(Ensemb_cm, 1)\n",
        "  print(\"Real:\")\n",
        "  findPrecisionRecallF1score(Ensemb_cm, 0)\n",
        "\n",
        "  Encemb_cm_display = ConfusionMatrixDisplay(Ensemb_cm).plot()\n",
        "\n",
        "  return Ensemb"
      ],
      "metadata": {
        "id": "alKQY-McqVIb"
      },
      "execution_count": null,
      "outputs": []
    },
    {
      "cell_type": "markdown",
      "source": [
        "###### BPE + TFIDF"
      ],
      "metadata": {
        "id": "4h2ZOtzgn3RK"
      }
    },
    {
      "cell_type": "code",
      "source": [
        "Ensemb_BPE = findVoting(pac_BPE, MultNB_BPE, rfc_BPE, svc_BPE, LogReg_BPE, sgd_clf_BPE, dt_clf_BPE, xgb_BPE, et_BPE, abc_BPE, tfidf_train_BPE, y_train_BPE, tfidf_test_BPE)"
      ],
      "metadata": {
        "colab": {
          "base_uri": "https://localhost:8080/",
          "height": 471
        },
        "id": "slnfaTDlA2Q5",
        "outputId": "cbd2404b-7817-4346-c4fc-313c20c89bcf"
      },
      "execution_count": null,
      "outputs": [
        {
          "output_type": "stream",
          "name": "stdout",
          "text": [
            "Ensemble Learning Accuracy: 94.91%\n",
            "Fake:\n",
            "Precision: 95.91%\n",
            "Recall: 93.68%\n",
            "F1-Score: 94.78%\n",
            "Real:\n",
            "Precision: 93.98%\n",
            "Recall: 96.1%\n",
            "F1-Score: 95.03%\n"
          ]
        },
        {
          "output_type": "display_data",
          "data": {
            "text/plain": [
              "<Figure size 432x288 with 2 Axes>"
            ],
            "image/png": "[encoded data removed]"
          },
          "metadata": {
            "needs_background": "light"
          }
        }
      ]
    },
    {
      "cell_type": "code",
      "source": [
        "# no SVM\n",
        "Ensemb_BPE = findVoting_noSVM(pac_BPE, MultNB_BPE, rfc_BPE, LogReg_BPE, sgd_clf_BPE, dt_clf_BPE, xgb_BPE, et_BPE, abc_BPE, tfidf_train_BPE, y_train_BPE, tfidf_test_BPE)"
      ],
      "metadata": {
        "colab": {
          "base_uri": "https://localhost:8080/",
          "height": 471
        },
        "id": "LmSF_U6wqCh9",
        "outputId": "d97b4e51-5072-4ea7-bf9a-1321a8fa277f"
      },
      "execution_count": null,
      "outputs": [
        {
          "output_type": "stream",
          "name": "stdout",
          "text": [
            "Ensemble Learning Accuracy: 94.8%\n",
            "Fake:\n",
            "Precision: 95.12%\n",
            "Recall: 94.32%\n",
            "F1-Score: 94.71%\n",
            "Real:\n",
            "Precision: 94.5%\n",
            "Recall: 95.28%\n",
            "F1-Score: 94.89%\n"
          ]
        },
        {
          "output_type": "display_data",
          "data": {
            "text/plain": [
              "<Figure size 432x288 with 2 Axes>"
            ],
            "image/png": "[encoded data removed]"
          },
          "metadata": {
            "needs_background": "light"
          }
        }
      ]
    },
    {
      "cell_type": "markdown",
      "source": [
        "#### stemming + TFIDF"
      ],
      "metadata": {
        "id": "SrA0aR8ImKpF"
      }
    },
    {
      "cell_type": "code",
      "source": [
        "Ensemb_stemmed = findVoting(pac_stemmed, MultNB_stemmed, rfc_stemmed, svc_stemmed, LogReg_stemmed, sgd_clf_stemmed, dt_clf_stemmed, xgb_stemmed, et_stemmed, abc_stemmed, tfidf_train_stemmed, y_train_stemmed, tfidf_test_stemmed)"
      ],
      "metadata": {
        "colab": {
          "base_uri": "https://localhost:8080/",
          "height": 471
        },
        "id": "6EgLat68mKS2",
        "outputId": "b7ea060e-d078-4a06-b0fe-18e954eaba94"
      },
      "execution_count": null,
      "outputs": [
        {
          "output_type": "stream",
          "name": "stdout",
          "text": [
            "Ensemble Learning Accuracy: 95.11%\n",
            "Fake:\n",
            "Precision: 95.92%\n",
            "Recall: 94.11%\n",
            "F1-Score: 95.01%\n",
            "Real:\n",
            "Precision: 94.35%\n",
            "Recall: 96.1%\n",
            "F1-Score: 95.22%\n"
          ]
        },
        {
          "output_type": "display_data",
          "data": {
            "text/plain": [
              "<Figure size 432x288 with 2 Axes>"
            ],
            "image/png": "[encoded data removed]"
          },
          "metadata": {
            "needs_background": "light"
          }
        }
      ]
    },
    {
      "cell_type": "code",
      "source": [
        "# no SVM\n",
        "Ensemb_stemmed = findVoting_noSVM(pac_stemmed, MultNB_stemmed, rfc_stemmed, LogReg_stemmed, sgd_clf_stemmed, dt_clf_stemmed, xgb_stemmed, et_stemmed, abc_stemmed, tfidf_train_stemmed, y_train_stemmed, tfidf_test_stemmed)"
      ],
      "metadata": {
        "colab": {
          "base_uri": "https://localhost:8080/",
          "height": 471
        },
        "id": "BSHrBMldqvyt",
        "outputId": "45aab4d5-c222-4c5a-bd6a-d17846991876"
      },
      "execution_count": null,
      "outputs": [
        {
          "output_type": "stream",
          "name": "stdout",
          "text": [
            "Ensemble Learning Accuracy: 95.11%\n",
            "Fake:\n",
            "Precision: 95.34%\n",
            "Recall: 94.74%\n",
            "F1-Score: 95.04%\n",
            "Real:\n",
            "Precision: 94.9%\n",
            "Recall: 95.48%\n",
            "F1-Score: 95.19%\n"
          ]
        },
        {
          "output_type": "display_data",
          "data": {
            "text/plain": [
              "<Figure size 432x288 with 2 Axes>"
            ],
            "image/png": "[encoded data removed]"
          },
          "metadata": {
            "needs_background": "light"
          }
        }
      ]
    },
    {
      "cell_type": "code",
      "source": [
        "%cd /content\n",
        "\n",
        "filename = 'Ensemb_BPE.sav'\n",
        "pickle.dump(Ensemb_BPE, open(filename, 'wb'))\n",
        "\n",
        "filename = 'Ensemb_stemmed.sav'\n",
        "pickle.dump(Ensemb_stemmed, open(filename, 'wb'))\n"
      ],
      "metadata": {
        "colab": {
          "base_uri": "https://localhost:8080/"
        },
        "id": "MkZHAGF0Vvff",
        "outputId": "ba34922d-08ff-46d7-c1f7-09c05d766b7a"
      },
      "execution_count": null,
      "outputs": [
        {
          "output_type": "stream",
          "name": "stdout",
          "text": [
            "/content\n"
          ]
        }
      ]
    },
    {
      "cell_type": "markdown",
      "source": [
        "#### Sample Real News\n",
        "https://news.abs-cbn.com/entertainment/12/11/22/john-denver-trending-kauna-unahang-pinoy-film-na-naipalabas-sa-mga-sinehan-sa-sokor"
      ],
      "metadata": {
        "id": "rqTs1QKO0tGG"
      }
    },
    {
      "cell_type": "code",
      "source": [
        "inputReal = \"SOUTH KOREA - Sa kauna-unahang pagkakataon, napanood ang pelikulang Pinoy sa mga sinehan sa South Korea gaya ng CGV, Lotte Cinema at Megabox. Gumawa ng kasaysayan ang pelikulang 'John Denver Trending' bilang ang pinakaunang Pinoy film na ipinalabas sa mga wide screen cinemas sa South Korea. “John Denver Trending is an award-winning and critically-acclaimed film from the Philippines. It won best picture at the Philippine Cinemalaya Independent Film Festival. This film was screened at the 24th Busan International Film Festival...you are all part of the history because it is the first Philippine film to be shown commercially in wide release in Korea,” pahayag ni Ambasador Ma. Theresa B. Dizon-De Vega. Isinulat at idinirek ni Arden Rod Condez ang pelikula na pinagbidahan nina Jansen Magpusao at Meryll Soriano.  “It is a story about issues that many young people in different countries, not just in the Philippines, but also in Korea, face every day. Themes of alienation, the use and influence of social media and online bullying are all exhibited and seen in this beautiful film. It has many lessons for everyone; for parents, for young people, for teachers and for the whole of the society,” dagdag ni Amb. Dizon-De Vega.  Sa mga katulad ni Silvia Kim na isang social media influencer, relatable and pelikula lalo na sa mga negatibo at batikos mula sa mga komento.   “This is so realistic. And it was like a documentary...more relatable,” ani Sylvia. Natuwa ang mga manonood maging ang mga Korean.   “It was an honor for me to watch this movie. For me, frankly speaking, I visited the Philippines several times, so when I watched the movie, the sceneries the views of the movie, was [were] familiar to me. And it was [like], Oh I saw the schools, I saw the roads. It was so interesting and was amazing, especially the topic… it was so touching, it was heavy. It was good and educational,” sabi ni Hoseung Jung, isang aktor sa South Korea. Hindi man ito Korean film, pinanood pa rin ito ng mga Korean at maging ng mga Pinoy dahil sa mensaheng dala ng pelikula na angkop sa makabagong panahon.\""
      ],
      "metadata": {
        "id": "_N8aqfHzy5WG"
      },
      "execution_count": null,
      "outputs": []
    },
    {
      "cell_type": "markdown",
      "source": [
        "#### Sample Fake News\n",
        "https://www.factrakers.org/post/robredo-didn-t-concede-in-may-10-speech"
      ],
      "metadata": {
        "id": "xMIAMPqhBCHU"
      }
    },
    {
      "cell_type": "code",
      "source": [
        "inputFakeGossip = \"#NationalNews Lamang na ng mahigit 16M ang BBM/SARA tandem sa kalabang Leni/Kiko sa pinakahuling update ng partial unofficial counts ng COMELEC. Aabot sa halos 30M mahigit ang botong nakuna ni presidential candidate Bong bong Marcos habang nasa mahigit 14M lamang ang nakuhang boto ni presidential candidate Leni Robredo. Gayun din si vice presidential candidate Sara Duterte na nakakuha ng mahigit 30M na boto habang nasa mahigit 8M na boto naman ang nakuha ni vice presidential candidate Kiko Pangilinan. Kanina ang nag-concede na si Leni Robredo at tinanggap na nito ang kaniyang pagkatalo kay BBM ngayong #halalan2022, habang nagpasalamat naman kapwa si BBM at Sara sa kanilang mga taga suporta. | #palawanstar\"\n",
        "\n"
      ],
      "metadata": {
        "id": "BlgGFthmBB2_"
      },
      "execution_count": null,
      "outputs": []
    },
    {
      "cell_type": "markdown",
      "source": [
        "#### BPE + TFIDF"
      ],
      "metadata": {
        "id": "VwybfSDIyCs_"
      }
    },
    {
      "cell_type": "code",
      "source": [
        "def BPE_TFIDF_Prediction(inputText):  \n",
        "  inputText_cleaned = removeCharactersAndLowercase(inputText)\n",
        "  inputText_BPE = findBPE(inputText_cleaned)\n",
        "  inputText_BPE = [inputText_BPE]\n",
        "  inputText_tfidf_BPE = tfidf_vectorizer_BPE.transform(inputText_BPE)\n",
        "  prediction_tfidf_BPE = Ensemb_BPE.predict(inputText_tfidf_BPE)\n",
        "  if prediction_tfidf_BPE[0] == 0:\n",
        "    prediction = \"Real\"\n",
        "  else:\n",
        "    prediction = \"Fake\"\n",
        "  print(prediction)"
      ],
      "metadata": {
        "id": "2fUFQHMCxE-i"
      },
      "execution_count": null,
      "outputs": []
    },
    {
      "cell_type": "code",
      "source": [
        "BPE_TFIDF_Prediction(inputReal)\n",
        "BPE_TFIDF_Prediction(inputFakeGossip)"
      ],
      "metadata": {
        "colab": {
          "base_uri": "https://localhost:8080/"
        },
        "id": "-lRxGIwn5pnK",
        "outputId": "81d0421f-1690-4f89-bf02-0b57eb475a6c"
      },
      "execution_count": null,
      "outputs": [
        {
          "output_type": "stream",
          "name": "stdout",
          "text": [
            "Real\n",
            "Fake\n"
          ]
        }
      ]
    },
    {
      "cell_type": "markdown",
      "source": [
        "#### stemming + TFIDF"
      ],
      "metadata": {
        "id": "oyeM6Y135FH1"
      }
    },
    {
      "cell_type": "code",
      "source": [
        "def stemming_TFIDF_Prediction(inputText):  \n",
        "  inputText_cleaned = removeCharactersAndLowercase(inputText)\n",
        "  inputText_stemmed = findStemmed(inputText_cleaned)\n",
        "  inputText_stemmed = [inputText_stemmed]\n",
        "  inputText_tfidf_stemmed = tfidf_vectorizer_stemmed.transform(inputText_stemmed)\n",
        "  prediction_tfidf_stemmed = Ensemb_stemmed.predict(inputText_tfidf_stemmed)\n",
        "  if prediction_tfidf_stemmed[0] == 0:\n",
        "    prediction = \"Real\"\n",
        "  else:\n",
        "    prediction = \"Fake\"\n",
        "  print(prediction)"
      ],
      "metadata": {
        "id": "bzeD4HMF5Fc2"
      },
      "execution_count": null,
      "outputs": []
    },
    {
      "cell_type": "code",
      "source": [
        "stemming_TFIDF_Prediction(inputReal)\n",
        "stemming_TFIDF_Prediction(inputFakeGossip)"
      ],
      "metadata": {
        "colab": {
          "base_uri": "https://localhost:8080/"
        },
        "id": "dnqKHQAP6Tce",
        "outputId": "95ed6fd4-2300-4e0e-acdf-97f297a36e49"
      },
      "execution_count": null,
      "outputs": [
        {
          "output_type": "stream",
          "name": "stdout",
          "text": [
            "Real\n",
            "Fake\n"
          ]
        }
      ]
    },
    {
      "cell_type": "markdown",
      "source": [
        "# References\n",
        "\n",
        "[1] https://data-flair.training/blogs/advanced-python-project-detecting-fake-news/\n",
        "\n",
        "[2] https://github.com/nabi-hassan/Fake-news-Detection-using-Ensemble-Learning-/blob/master/newnote.ipynb\n",
        "\n",
        "[3] https://towardsdatascience.com/fake-news-detection-with-machine-learning-using-python-3347d9899ad1\n",
        "\n",
        "[4] https://jovian.ai/piero-paialunga/notebook\n",
        "\n",
        "[5] https://youtu.be/5X27excCyXk\n",
        "\n",
        "[6] https://medium.com/@yashj302/text-cleaning-using-regex-python-f1dded1ac5bd\n",
        "\n",
        "[7] https://stackoverflow.com/questions/32705962/removing-any-single-letter-on-a-string-in-python?answertab=scoredesc#tab-top"
      ],
      "metadata": {
        "id": "4vw5CxWdox8E"
      }
    }
  ]
}