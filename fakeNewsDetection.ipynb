{
  "nbformat": 4,
  "nbformat_minor": 0,
  "metadata": {
    "colab": {
      "provenance": [],
      "authorship_tag": "ABX9TyPSrOnEKBg5FNkMTeyQ2ihU",
      "include_colab_link": true
    },
    "kernelspec": {
      "name": "python3",
      "display_name": "Python 3"
    },
    "language_info": {
      "name": "python"
    }
  },
  "cells": [
    {
      "cell_type": "markdown",
      "metadata": {
        "id": "view-in-github",
        "colab_type": "text"
      },
      "source": [
        "<a href=\"https://colab.research.google.com/github/lymoelopez/filipino-fake-news-detection/blob/main/fakeNewsDetection.ipynb\" target=\"_parent\"><img src=\"https://colab.research.google.com/assets/colab-badge.svg\" alt=\"Open In Colab\"/></a>"
      ]
    },
    {
      "cell_type": "markdown",
      "source": [
        "# Import Libraries"
      ],
      "metadata": {
        "id": "sTwu31-sbCGx"
      }
    },
    {
      "cell_type": "code",
      "execution_count": 1,
      "metadata": {
        "id": "nDst6tLRLZEW"
      },
      "outputs": [],
      "source": [
        "import numpy as np\n",
        "import pandas as pd\n",
        "import itertools\n",
        "\n",
        "from sklearn.model_selection import train_test_split\n",
        "from sklearn.feature_extraction.text import TfidfVectorizer\n",
        "from sklearn.linear_model import PassiveAggressiveClassifier, LogisticRegression\n",
        "from sklearn.metrics import accuracy_score, confusion_matrix\n",
        "from sklearn.naive_bayes import MultinomialNB\n",
        "from sklearn.ensemble import RandomForestClassifier, VotingClassifier, ExtraTreesClassifier, AdaBoostClassifier\n",
        "from sklearn.svm import SVC\n",
        "from sklearn.linear_model import SGDClassifier\n",
        "from sklearn.metrics import ConfusionMatrixDisplay\n",
        "from sklearn.tree import DecisionTreeClassifier\n",
        "import xgboost as xgb\n",
        "\n",
        "from google.colab import files\n",
        "import io\n",
        "import matplotlib.pyplot as plt\n",
        "\n",
        "import re\n",
        "import string"
      ]
    },
    {
      "cell_type": "markdown",
      "source": [
        "# Data Preparation\n",
        "\n",
        "\n"
      ],
      "metadata": {
        "id": "wFv-JIReXSOp"
      }
    },
    {
      "cell_type": "code",
      "source": [
        "# import from local files\n",
        "uploaded = files.upload()"
      ],
      "metadata": {
        "colab": {
          "base_uri": "https://localhost:8080/",
          "height": 82
        },
        "id": "CuUGLJeiWgdy",
        "outputId": "a04fcaa1-80c4-4ade-9fd9-6b4852e38b6a"
      },
      "execution_count": 2,
      "outputs": [
        {
          "output_type": "display_data",
          "data": {
            "text/plain": [
              "<IPython.core.display.HTML object>"
            ],
            "text/html": [
              "\n",
              "     <input type=\"file\" id=\"files-f958fbf7-968c-4f1b-8d09-bb5ade34e6dd\" name=\"files[]\" multiple disabled\n",
              "        style=\"border:none\" />\n",
              "     <output id=\"result-f958fbf7-968c-4f1b-8d09-bb5ade34e6dd\">\n",
              "      Upload widget is only available when the cell has been executed in the\n",
              "      current browser session. Please rerun this cell to enable.\n",
              "      </output>\n",
              "      <script>// Copyright 2017 Google LLC\n",
              "//\n",
              "// Licensed under the Apache License, Version 2.0 (the \"License\");\n",
              "// you may not use this file except in compliance with the License.\n",
              "// You may obtain a copy of the License at\n",
              "//\n",
              "//      http://www.apache.org/licenses/LICENSE-2.0\n",
              "//\n",
              "// Unless required by applicable law or agreed to in writing, software\n",
              "// distributed under the License is distributed on an \"AS IS\" BASIS,\n",
              "// WITHOUT WARRANTIES OR CONDITIONS OF ANY KIND, either express or implied.\n",
              "// See the License for the specific language governing permissions and\n",
              "// limitations under the License.\n",
              "\n",
              "/**\n",
              " * @fileoverview Helpers for google.colab Python module.\n",
              " */\n",
              "(function(scope) {\n",
              "function span(text, styleAttributes = {}) {\n",
              "  const element = document.createElement('span');\n",
              "  element.textContent = text;\n",
              "  for (const key of Object.keys(styleAttributes)) {\n",
              "    element.style[key] = styleAttributes[key];\n",
              "  }\n",
              "  return element;\n",
              "}\n",
              "\n",
              "// Max number of bytes which will be uploaded at a time.\n",
              "const MAX_PAYLOAD_SIZE = 100 * 1024;\n",
              "\n",
              "function _uploadFiles(inputId, outputId) {\n",
              "  const steps = uploadFilesStep(inputId, outputId);\n",
              "  const outputElement = document.getElementById(outputId);\n",
              "  // Cache steps on the outputElement to make it available for the next call\n",
              "  // to uploadFilesContinue from Python.\n",
              "  outputElement.steps = steps;\n",
              "\n",
              "  return _uploadFilesContinue(outputId);\n",
              "}\n",
              "\n",
              "// This is roughly an async generator (not supported in the browser yet),\n",
              "// where there are multiple asynchronous steps and the Python side is going\n",
              "// to poll for completion of each step.\n",
              "// This uses a Promise to block the python side on completion of each step,\n",
              "// then passes the result of the previous step as the input to the next step.\n",
              "function _uploadFilesContinue(outputId) {\n",
              "  const outputElement = document.getElementById(outputId);\n",
              "  const steps = outputElement.steps;\n",
              "\n",
              "  const next = steps.next(outputElement.lastPromiseValue);\n",
              "  return Promise.resolve(next.value.promise).then((value) => {\n",
              "    // Cache the last promise value to make it available to the next\n",
              "    // step of the generator.\n",
              "    outputElement.lastPromiseValue = value;\n",
              "    return next.value.response;\n",
              "  });\n",
              "}\n",
              "\n",
              "/**\n",
              " * Generator function which is called between each async step of the upload\n",
              " * process.\n",
              " * @param {string} inputId Element ID of the input file picker element.\n",
              " * @param {string} outputId Element ID of the output display.\n",
              " * @return {!Iterable<!Object>} Iterable of next steps.\n",
              " */\n",
              "function* uploadFilesStep(inputId, outputId) {\n",
              "  const inputElement = document.getElementById(inputId);\n",
              "  inputElement.disabled = false;\n",
              "\n",
              "  const outputElement = document.getElementById(outputId);\n",
              "  outputElement.innerHTML = '';\n",
              "\n",
              "  const pickedPromise = new Promise((resolve) => {\n",
              "    inputElement.addEventListener('change', (e) => {\n",
              "      resolve(e.target.files);\n",
              "    });\n",
              "  });\n",
              "\n",
              "  const cancel = document.createElement('button');\n",
              "  inputElement.parentElement.appendChild(cancel);\n",
              "  cancel.textContent = 'Cancel upload';\n",
              "  const cancelPromise = new Promise((resolve) => {\n",
              "    cancel.onclick = () => {\n",
              "      resolve(null);\n",
              "    };\n",
              "  });\n",
              "\n",
              "  // Wait for the user to pick the files.\n",
              "  const files = yield {\n",
              "    promise: Promise.race([pickedPromise, cancelPromise]),\n",
              "    response: {\n",
              "      action: 'starting',\n",
              "    }\n",
              "  };\n",
              "\n",
              "  cancel.remove();\n",
              "\n",
              "  // Disable the input element since further picks are not allowed.\n",
              "  inputElement.disabled = true;\n",
              "\n",
              "  if (!files) {\n",
              "    return {\n",
              "      response: {\n",
              "        action: 'complete',\n",
              "      }\n",
              "    };\n",
              "  }\n",
              "\n",
              "  for (const file of files) {\n",
              "    const li = document.createElement('li');\n",
              "    li.append(span(file.name, {fontWeight: 'bold'}));\n",
              "    li.append(span(\n",
              "        `(${file.type || 'n/a'}) - ${file.size} bytes, ` +\n",
              "        `last modified: ${\n",
              "            file.lastModifiedDate ? file.lastModifiedDate.toLocaleDateString() :\n",
              "                                    'n/a'} - `));\n",
              "    const percent = span('0% done');\n",
              "    li.appendChild(percent);\n",
              "\n",
              "    outputElement.appendChild(li);\n",
              "\n",
              "    const fileDataPromise = new Promise((resolve) => {\n",
              "      const reader = new FileReader();\n",
              "      reader.onload = (e) => {\n",
              "        resolve(e.target.result);\n",
              "      };\n",
              "      reader.readAsArrayBuffer(file);\n",
              "    });\n",
              "    // Wait for the data to be ready.\n",
              "    let fileData = yield {\n",
              "      promise: fileDataPromise,\n",
              "      response: {\n",
              "        action: 'continue',\n",
              "      }\n",
              "    };\n",
              "\n",
              "    // Use a chunked sending to avoid message size limits. See b/62115660.\n",
              "    let position = 0;\n",
              "    do {\n",
              "      const length = Math.min(fileData.byteLength - position, MAX_PAYLOAD_SIZE);\n",
              "      const chunk = new Uint8Array(fileData, position, length);\n",
              "      position += length;\n",
              "\n",
              "      const base64 = btoa(String.fromCharCode.apply(null, chunk));\n",
              "      yield {\n",
              "        response: {\n",
              "          action: 'append',\n",
              "          file: file.name,\n",
              "          data: base64,\n",
              "        },\n",
              "      };\n",
              "\n",
              "      let percentDone = fileData.byteLength === 0 ?\n",
              "          100 :\n",
              "          Math.round((position / fileData.byteLength) * 100);\n",
              "      percent.textContent = `${percentDone}% done`;\n",
              "\n",
              "    } while (position < fileData.byteLength);\n",
              "  }\n",
              "\n",
              "  // All done.\n",
              "  yield {\n",
              "    response: {\n",
              "      action: 'complete',\n",
              "    }\n",
              "  };\n",
              "}\n",
              "\n",
              "scope.google = scope.google || {};\n",
              "scope.google.colab = scope.google.colab || {};\n",
              "scope.google.colab._files = {\n",
              "  _uploadFiles,\n",
              "  _uploadFilesContinue,\n",
              "};\n",
              "})(self);\n",
              "</script> "
            ]
          },
          "metadata": {}
        },
        {
          "output_type": "stream",
          "name": "stdout",
          "text": [
            "Saving full.csv to full.csv\n"
          ]
        }
      ]
    },
    {
      "cell_type": "code",
      "source": [
        "#Read dataset\n",
        "df = pd.read_csv(io.BytesIO(uploaded['full.csv']))\n",
        "# Dataset is now stored in a Pandas Dataframe"
      ],
      "metadata": {
        "id": "15-KAfeAWnkc"
      },
      "execution_count": 80,
      "outputs": []
    },
    {
      "cell_type": "code",
      "source": [
        "#Get shape\n",
        "df.shape\n",
        "\n",
        "# output first 5 records\n",
        "df.head()  "
      ],
      "metadata": {
        "colab": {
          "base_uri": "https://localhost:8080/",
          "height": 221
        },
        "id": "97TjFHlwcAhk",
        "outputId": "a03a5858-3176-4204-8bc0-51a42923c375"
      },
      "execution_count": 47,
      "outputs": [
        {
          "output_type": "execute_result",
          "data": {
            "text/plain": [
              "   label                                            article\n",
              "0      0  Ayon sa TheWrap.com, naghain ng kaso si Krupa,...\n",
              "1      0  Kilala rin ang singer sa pagkumpas ng kanyang ...\n",
              "2      0  BLANTYRE, Malawi (AP) -- Bumiyahe patungong Ma...\n",
              "3      0  Kasama sa programa ang pananalangin, bulaklak ...\n",
              "4      0  Linisin ang Friendship Department dahil dadala..."
            ],
            "text/html": [
              "\n",
              "  <div id=\"df-6da17143-a7dd-4607-87d9-9de18f7fc5e7\">\n",
              "    <div class=\"colab-df-container\">\n",
              "      <div>\n",
              "<style scoped>\n",
              "    .dataframe tbody tr th:only-of-type {\n",
              "        vertical-align: middle;\n",
              "    }\n",
              "\n",
              "    .dataframe tbody tr th {\n",
              "        vertical-align: top;\n",
              "    }\n",
              "\n",
              "    .dataframe thead th {\n",
              "        text-align: right;\n",
              "    }\n",
              "</style>\n",
              "<table border=\"1\" class=\"dataframe\">\n",
              "  <thead>\n",
              "    <tr style=\"text-align: right;\">\n",
              "      <th></th>\n",
              "      <th>label</th>\n",
              "      <th>article</th>\n",
              "    </tr>\n",
              "  </thead>\n",
              "  <tbody>\n",
              "    <tr>\n",
              "      <th>0</th>\n",
              "      <td>0</td>\n",
              "      <td>Ayon sa TheWrap.com, naghain ng kaso si Krupa,...</td>\n",
              "    </tr>\n",
              "    <tr>\n",
              "      <th>1</th>\n",
              "      <td>0</td>\n",
              "      <td>Kilala rin ang singer sa pagkumpas ng kanyang ...</td>\n",
              "    </tr>\n",
              "    <tr>\n",
              "      <th>2</th>\n",
              "      <td>0</td>\n",
              "      <td>BLANTYRE, Malawi (AP) -- Bumiyahe patungong Ma...</td>\n",
              "    </tr>\n",
              "    <tr>\n",
              "      <th>3</th>\n",
              "      <td>0</td>\n",
              "      <td>Kasama sa programa ang pananalangin, bulaklak ...</td>\n",
              "    </tr>\n",
              "    <tr>\n",
              "      <th>4</th>\n",
              "      <td>0</td>\n",
              "      <td>Linisin ang Friendship Department dahil dadala...</td>\n",
              "    </tr>\n",
              "  </tbody>\n",
              "</table>\n",
              "</div>\n",
              "      <button class=\"colab-df-convert\" onclick=\"convertToInteractive('df-6da17143-a7dd-4607-87d9-9de18f7fc5e7')\"\n",
              "              title=\"Convert this dataframe to an interactive table.\"\n",
              "              style=\"display:none;\">\n",
              "        \n",
              "  <svg xmlns=\"http://www.w3.org/2000/svg\" height=\"24px\"viewBox=\"0 0 24 24\"\n",
              "       width=\"24px\">\n",
              "    <path d=\"M0 0h24v24H0V0z\" fill=\"none\"/>\n",
              "    <path d=\"M18.56 5.44l.94 2.06.94-2.06 2.06-.94-2.06-.94-.94-2.06-.94 2.06-2.06.94zm-11 1L8.5 8.5l.94-2.06 2.06-.94-2.06-.94L8.5 2.5l-.94 2.06-2.06.94zm10 10l.94 2.06.94-2.06 2.06-.94-2.06-.94-.94-2.06-.94 2.06-2.06.94z\"/><path d=\"M17.41 7.96l-1.37-1.37c-.4-.4-.92-.59-1.43-.59-.52 0-1.04.2-1.43.59L10.3 9.45l-7.72 7.72c-.78.78-.78 2.05 0 2.83L4 21.41c.39.39.9.59 1.41.59.51 0 1.02-.2 1.41-.59l7.78-7.78 2.81-2.81c.8-.78.8-2.07 0-2.86zM5.41 20L4 18.59l7.72-7.72 1.47 1.35L5.41 20z\"/>\n",
              "  </svg>\n",
              "      </button>\n",
              "      \n",
              "  <style>\n",
              "    .colab-df-container {\n",
              "      display:flex;\n",
              "      flex-wrap:wrap;\n",
              "      gap: 12px;\n",
              "    }\n",
              "\n",
              "    .colab-df-convert {\n",
              "      background-color: #E8F0FE;\n",
              "      border: none;\n",
              "      border-radius: 50%;\n",
              "      cursor: pointer;\n",
              "      display: none;\n",
              "      fill: #1967D2;\n",
              "      height: 32px;\n",
              "      padding: 0 0 0 0;\n",
              "      width: 32px;\n",
              "    }\n",
              "\n",
              "    .colab-df-convert:hover {\n",
              "      background-color: #E2EBFA;\n",
              "      box-shadow: 0px 1px 2px rgba(60, 64, 67, 0.3), 0px 1px 3px 1px rgba(60, 64, 67, 0.15);\n",
              "      fill: #174EA6;\n",
              "    }\n",
              "\n",
              "    [theme=dark] .colab-df-convert {\n",
              "      background-color: #3B4455;\n",
              "      fill: #D2E3FC;\n",
              "    }\n",
              "\n",
              "    [theme=dark] .colab-df-convert:hover {\n",
              "      background-color: #434B5C;\n",
              "      box-shadow: 0px 1px 3px 1px rgba(0, 0, 0, 0.15);\n",
              "      filter: drop-shadow(0px 1px 2px rgba(0, 0, 0, 0.3));\n",
              "      fill: #FFFFFF;\n",
              "    }\n",
              "  </style>\n",
              "\n",
              "      <script>\n",
              "        const buttonEl =\n",
              "          document.querySelector('#df-6da17143-a7dd-4607-87d9-9de18f7fc5e7 button.colab-df-convert');\n",
              "        buttonEl.style.display =\n",
              "          google.colab.kernel.accessAllowed ? 'block' : 'none';\n",
              "\n",
              "        async function convertToInteractive(key) {\n",
              "          const element = document.querySelector('#df-6da17143-a7dd-4607-87d9-9de18f7fc5e7');\n",
              "          const dataTable =\n",
              "            await google.colab.kernel.invokeFunction('convertToInteractive',\n",
              "                                                     [key], {});\n",
              "          if (!dataTable) return;\n",
              "\n",
              "          const docLinkHtml = 'Like what you see? Visit the ' +\n",
              "            '<a target=\"_blank\" href=https://colab.research.google.com/notebooks/data_table.ipynb>data table notebook</a>'\n",
              "            + ' to learn more about interactive tables.';\n",
              "          element.innerHTML = '';\n",
              "          dataTable['output_type'] = 'display_data';\n",
              "          await google.colab.output.renderOutput(dataTable, element);\n",
              "          const docLink = document.createElement('div');\n",
              "          docLink.innerHTML = docLinkHtml;\n",
              "          element.appendChild(docLink);\n",
              "        }\n",
              "      </script>\n",
              "    </div>\n",
              "  </div>\n",
              "  "
            ]
          },
          "metadata": {},
          "execution_count": 47
        }
      ]
    },
    {
      "cell_type": "code",
      "source": [
        "# Get dataFrame (df) labels\n",
        "labels=df.label\n",
        "labels.head() # 1 = fake, 0 = true"
      ],
      "metadata": {
        "colab": {
          "base_uri": "https://localhost:8080/"
        },
        "id": "-DUEcjLBcH5N",
        "outputId": "2beae80d-93f7-4d40-ff9f-0a0522a74290"
      },
      "execution_count": 5,
      "outputs": [
        {
          "output_type": "execute_result",
          "data": {
            "text/plain": [
              "0    0\n",
              "1    0\n",
              "2    0\n",
              "3    0\n",
              "4    0\n",
              "Name: label, dtype: int64"
            ]
          },
          "metadata": {},
          "execution_count": 5
        }
      ]
    },
    {
      "cell_type": "code",
      "source": [
        "# dataset distribution [pie chart]\n",
        "fakeNewsCategory = pd.get_dummies(df.label)[1]  # 1 = fake, 0 = real\n",
        "fakeNewsSize = fakeNewsCategory.sum()\n",
        "realNewsSize = len(fakeNewsCategory)- fakeNewsSize\n",
        "\n",
        "datasetSize = [fakeNewsSize, realNewsSize]\n",
        "\n",
        "plt.pie(datasetSize,explode=[0.1,0.1],colors=['firebrick','navy'],startangle=90,shadow=True,labels=['Fake','True'],autopct='%1.1f%%')"
      ],
      "metadata": {
        "colab": {
          "base_uri": "https://localhost:8080/",
          "height": 376
        },
        "id": "ZvLW9bAktrO3",
        "outputId": "3a759e39-5588-4590-b8d7-c51f4b66d532"
      },
      "execution_count": 6,
      "outputs": [
        {
          "output_type": "execute_result",
          "data": {
            "text/plain": [
              "([<matplotlib.patches.Wedge at 0x7f2117c41950>,\n",
              "  <matplotlib.patches.Wedge at 0x7f2117c554d0>],\n",
              " [Text(-1.2000000000000002, 1.469576158976824e-16, 'Fake'),\n",
              "  Text(1.2000000000000002, -2.939152317953648e-16, 'True')],\n",
              " [Text(-0.7, 8.572527594031472e-17, '50.0%'),\n",
              "  Text(0.7, -1.7145055188062944e-16, '50.0%')])"
            ]
          },
          "metadata": {},
          "execution_count": 6
        },
        {
          "output_type": "display_data",
          "data": {
            "text/plain": [
              "<Figure size 432x288 with 1 Axes>"
            ],
            "image/png": "[encoded data removed]"
          },
          "metadata": {}
        }
      ]
    },
    {
      "cell_type": "markdown",
      "source": [
        "# Data Augmentation (w/ Back Translation)"
      ],
      "metadata": {
        "id": "7Ags8ymSPfdw"
      }
    },
    {
      "cell_type": "code",
      "source": [
        "# import from local files\n",
        "uploadedBT = files.upload()"
      ],
      "metadata": {
        "colab": {
          "base_uri": "https://localhost:8080/",
          "height": 82
        },
        "id": "ZgS8EnY3Pekc",
        "outputId": "cece9fbc-495e-4ae3-e027-4b5b157a63b3"
      },
      "execution_count": 7,
      "outputs": [
        {
          "output_type": "display_data",
          "data": {
            "text/plain": [
              "<IPython.core.display.HTML object>"
            ],
            "text/html": [
              "\n",
              "     <input type=\"file\" id=\"files-99e9d891-898f-48c8-befe-51443fa40608\" name=\"files[]\" multiple disabled\n",
              "        style=\"border:none\" />\n",
              "     <output id=\"result-99e9d891-898f-48c8-befe-51443fa40608\">\n",
              "      Upload widget is only available when the cell has been executed in the\n",
              "      current browser session. Please rerun this cell to enable.\n",
              "      </output>\n",
              "      <script>// Copyright 2017 Google LLC\n",
              "//\n",
              "// Licensed under the Apache License, Version 2.0 (the \"License\");\n",
              "// you may not use this file except in compliance with the License.\n",
              "// You may obtain a copy of the License at\n",
              "//\n",
              "//      http://www.apache.org/licenses/LICENSE-2.0\n",
              "//\n",
              "// Unless required by applicable law or agreed to in writing, software\n",
              "// distributed under the License is distributed on an \"AS IS\" BASIS,\n",
              "// WITHOUT WARRANTIES OR CONDITIONS OF ANY KIND, either express or implied.\n",
              "// See the License for the specific language governing permissions and\n",
              "// limitations under the License.\n",
              "\n",
              "/**\n",
              " * @fileoverview Helpers for google.colab Python module.\n",
              " */\n",
              "(function(scope) {\n",
              "function span(text, styleAttributes = {}) {\n",
              "  const element = document.createElement('span');\n",
              "  element.textContent = text;\n",
              "  for (const key of Object.keys(styleAttributes)) {\n",
              "    element.style[key] = styleAttributes[key];\n",
              "  }\n",
              "  return element;\n",
              "}\n",
              "\n",
              "// Max number of bytes which will be uploaded at a time.\n",
              "const MAX_PAYLOAD_SIZE = 100 * 1024;\n",
              "\n",
              "function _uploadFiles(inputId, outputId) {\n",
              "  const steps = uploadFilesStep(inputId, outputId);\n",
              "  const outputElement = document.getElementById(outputId);\n",
              "  // Cache steps on the outputElement to make it available for the next call\n",
              "  // to uploadFilesContinue from Python.\n",
              "  outputElement.steps = steps;\n",
              "\n",
              "  return _uploadFilesContinue(outputId);\n",
              "}\n",
              "\n",
              "// This is roughly an async generator (not supported in the browser yet),\n",
              "// where there are multiple asynchronous steps and the Python side is going\n",
              "// to poll for completion of each step.\n",
              "// This uses a Promise to block the python side on completion of each step,\n",
              "// then passes the result of the previous step as the input to the next step.\n",
              "function _uploadFilesContinue(outputId) {\n",
              "  const outputElement = document.getElementById(outputId);\n",
              "  const steps = outputElement.steps;\n",
              "\n",
              "  const next = steps.next(outputElement.lastPromiseValue);\n",
              "  return Promise.resolve(next.value.promise).then((value) => {\n",
              "    // Cache the last promise value to make it available to the next\n",
              "    // step of the generator.\n",
              "    outputElement.lastPromiseValue = value;\n",
              "    return next.value.response;\n",
              "  });\n",
              "}\n",
              "\n",
              "/**\n",
              " * Generator function which is called between each async step of the upload\n",
              " * process.\n",
              " * @param {string} inputId Element ID of the input file picker element.\n",
              " * @param {string} outputId Element ID of the output display.\n",
              " * @return {!Iterable<!Object>} Iterable of next steps.\n",
              " */\n",
              "function* uploadFilesStep(inputId, outputId) {\n",
              "  const inputElement = document.getElementById(inputId);\n",
              "  inputElement.disabled = false;\n",
              "\n",
              "  const outputElement = document.getElementById(outputId);\n",
              "  outputElement.innerHTML = '';\n",
              "\n",
              "  const pickedPromise = new Promise((resolve) => {\n",
              "    inputElement.addEventListener('change', (e) => {\n",
              "      resolve(e.target.files);\n",
              "    });\n",
              "  });\n",
              "\n",
              "  const cancel = document.createElement('button');\n",
              "  inputElement.parentElement.appendChild(cancel);\n",
              "  cancel.textContent = 'Cancel upload';\n",
              "  const cancelPromise = new Promise((resolve) => {\n",
              "    cancel.onclick = () => {\n",
              "      resolve(null);\n",
              "    };\n",
              "  });\n",
              "\n",
              "  // Wait for the user to pick the files.\n",
              "  const files = yield {\n",
              "    promise: Promise.race([pickedPromise, cancelPromise]),\n",
              "    response: {\n",
              "      action: 'starting',\n",
              "    }\n",
              "  };\n",
              "\n",
              "  cancel.remove();\n",
              "\n",
              "  // Disable the input element since further picks are not allowed.\n",
              "  inputElement.disabled = true;\n",
              "\n",
              "  if (!files) {\n",
              "    return {\n",
              "      response: {\n",
              "        action: 'complete',\n",
              "      }\n",
              "    };\n",
              "  }\n",
              "\n",
              "  for (const file of files) {\n",
              "    const li = document.createElement('li');\n",
              "    li.append(span(file.name, {fontWeight: 'bold'}));\n",
              "    li.append(span(\n",
              "        `(${file.type || 'n/a'}) - ${file.size} bytes, ` +\n",
              "        `last modified: ${\n",
              "            file.lastModifiedDate ? file.lastModifiedDate.toLocaleDateString() :\n",
              "                                    'n/a'} - `));\n",
              "    const percent = span('0% done');\n",
              "    li.appendChild(percent);\n",
              "\n",
              "    outputElement.appendChild(li);\n",
              "\n",
              "    const fileDataPromise = new Promise((resolve) => {\n",
              "      const reader = new FileReader();\n",
              "      reader.onload = (e) => {\n",
              "        resolve(e.target.result);\n",
              "      };\n",
              "      reader.readAsArrayBuffer(file);\n",
              "    });\n",
              "    // Wait for the data to be ready.\n",
              "    let fileData = yield {\n",
              "      promise: fileDataPromise,\n",
              "      response: {\n",
              "        action: 'continue',\n",
              "      }\n",
              "    };\n",
              "\n",
              "    // Use a chunked sending to avoid message size limits. See b/62115660.\n",
              "    let position = 0;\n",
              "    do {\n",
              "      const length = Math.min(fileData.byteLength - position, MAX_PAYLOAD_SIZE);\n",
              "      const chunk = new Uint8Array(fileData, position, length);\n",
              "      position += length;\n",
              "\n",
              "      const base64 = btoa(String.fromCharCode.apply(null, chunk));\n",
              "      yield {\n",
              "        response: {\n",
              "          action: 'append',\n",
              "          file: file.name,\n",
              "          data: base64,\n",
              "        },\n",
              "      };\n",
              "\n",
              "      let percentDone = fileData.byteLength === 0 ?\n",
              "          100 :\n",
              "          Math.round((position / fileData.byteLength) * 100);\n",
              "      percent.textContent = `${percentDone}% done`;\n",
              "\n",
              "    } while (position < fileData.byteLength);\n",
              "  }\n",
              "\n",
              "  // All done.\n",
              "  yield {\n",
              "    response: {\n",
              "      action: 'complete',\n",
              "    }\n",
              "  };\n",
              "}\n",
              "\n",
              "scope.google = scope.google || {};\n",
              "scope.google.colab = scope.google.colab || {};\n",
              "scope.google.colab._files = {\n",
              "  _uploadFiles,\n",
              "  _uploadFilesContinue,\n",
              "};\n",
              "})(self);\n",
              "</script> "
            ]
          },
          "metadata": {}
        },
        {
          "output_type": "stream",
          "name": "stdout",
          "text": [
            "Saving backTranslated.csv to backTranslated.csv\n"
          ]
        }
      ]
    },
    {
      "cell_type": "code",
      "source": [
        "#Read dataset\n",
        "dfBT = pd.read_csv(io.BytesIO(uploadedBT['backTranslated.csv']))\n",
        "# Dataset is now stored in a Pandas Dataframe"
      ],
      "metadata": {
        "id": "ym-a6oZmXMwH"
      },
      "execution_count": 81,
      "outputs": []
    },
    {
      "cell_type": "code",
      "source": [
        "#Get shape\n",
        "dfBT.shape\n",
        "\n",
        "# output first 5 records\n",
        "dfBT.head()  "
      ],
      "metadata": {
        "colab": {
          "base_uri": "https://localhost:8080/",
          "height": 221
        },
        "id": "UEwlUyEuXVci",
        "outputId": "73ded4a4-56b4-4121-f04e-88635401a49e"
      },
      "execution_count": 49,
      "outputs": [
        {
          "output_type": "execute_result",
          "data": {
            "text/plain": [
              "   label                                            article\n",
              "0      0  Ayon sa TheWrap.com, si Krupa, 35, ay nagsampa...\n",
              "1      0  Kilala rin ang mang-aawit sa pagkumpas ng kany...\n",
              "2      0  BLANTYRE, Malawi (AP) -- Naglakbay si Madonna ...\n",
              "3      0   Kasama sa programa ang panalangin, bulaklak a...\n",
              "4      0   Linisin ang Friendship Department dahil bibis..."
            ],
            "text/html": [
              "\n",
              "  <div id=\"df-bf75f63c-6f33-41c8-ae1b-fd28ce2ef358\">\n",
              "    <div class=\"colab-df-container\">\n",
              "      <div>\n",
              "<style scoped>\n",
              "    .dataframe tbody tr th:only-of-type {\n",
              "        vertical-align: middle;\n",
              "    }\n",
              "\n",
              "    .dataframe tbody tr th {\n",
              "        vertical-align: top;\n",
              "    }\n",
              "\n",
              "    .dataframe thead th {\n",
              "        text-align: right;\n",
              "    }\n",
              "</style>\n",
              "<table border=\"1\" class=\"dataframe\">\n",
              "  <thead>\n",
              "    <tr style=\"text-align: right;\">\n",
              "      <th></th>\n",
              "      <th>label</th>\n",
              "      <th>article</th>\n",
              "    </tr>\n",
              "  </thead>\n",
              "  <tbody>\n",
              "    <tr>\n",
              "      <th>0</th>\n",
              "      <td>0</td>\n",
              "      <td>Ayon sa TheWrap.com, si Krupa, 35, ay nagsampa...</td>\n",
              "    </tr>\n",
              "    <tr>\n",
              "      <th>1</th>\n",
              "      <td>0</td>\n",
              "      <td>Kilala rin ang mang-aawit sa pagkumpas ng kany...</td>\n",
              "    </tr>\n",
              "    <tr>\n",
              "      <th>2</th>\n",
              "      <td>0</td>\n",
              "      <td>BLANTYRE, Malawi (AP) -- Naglakbay si Madonna ...</td>\n",
              "    </tr>\n",
              "    <tr>\n",
              "      <th>3</th>\n",
              "      <td>0</td>\n",
              "      <td>Kasama sa programa ang panalangin, bulaklak a...</td>\n",
              "    </tr>\n",
              "    <tr>\n",
              "      <th>4</th>\n",
              "      <td>0</td>\n",
              "      <td>Linisin ang Friendship Department dahil bibis...</td>\n",
              "    </tr>\n",
              "  </tbody>\n",
              "</table>\n",
              "</div>\n",
              "      <button class=\"colab-df-convert\" onclick=\"convertToInteractive('df-bf75f63c-6f33-41c8-ae1b-fd28ce2ef358')\"\n",
              "              title=\"Convert this dataframe to an interactive table.\"\n",
              "              style=\"display:none;\">\n",
              "        \n",
              "  <svg xmlns=\"http://www.w3.org/2000/svg\" height=\"24px\"viewBox=\"0 0 24 24\"\n",
              "       width=\"24px\">\n",
              "    <path d=\"M0 0h24v24H0V0z\" fill=\"none\"/>\n",
              "    <path d=\"M18.56 5.44l.94 2.06.94-2.06 2.06-.94-2.06-.94-.94-2.06-.94 2.06-2.06.94zm-11 1L8.5 8.5l.94-2.06 2.06-.94-2.06-.94L8.5 2.5l-.94 2.06-2.06.94zm10 10l.94 2.06.94-2.06 2.06-.94-2.06-.94-.94-2.06-.94 2.06-2.06.94z\"/><path d=\"M17.41 7.96l-1.37-1.37c-.4-.4-.92-.59-1.43-.59-.52 0-1.04.2-1.43.59L10.3 9.45l-7.72 7.72c-.78.78-.78 2.05 0 2.83L4 21.41c.39.39.9.59 1.41.59.51 0 1.02-.2 1.41-.59l7.78-7.78 2.81-2.81c.8-.78.8-2.07 0-2.86zM5.41 20L4 18.59l7.72-7.72 1.47 1.35L5.41 20z\"/>\n",
              "  </svg>\n",
              "      </button>\n",
              "      \n",
              "  <style>\n",
              "    .colab-df-container {\n",
              "      display:flex;\n",
              "      flex-wrap:wrap;\n",
              "      gap: 12px;\n",
              "    }\n",
              "\n",
              "    .colab-df-convert {\n",
              "      background-color: #E8F0FE;\n",
              "      border: none;\n",
              "      border-radius: 50%;\n",
              "      cursor: pointer;\n",
              "      display: none;\n",
              "      fill: #1967D2;\n",
              "      height: 32px;\n",
              "      padding: 0 0 0 0;\n",
              "      width: 32px;\n",
              "    }\n",
              "\n",
              "    .colab-df-convert:hover {\n",
              "      background-color: #E2EBFA;\n",
              "      box-shadow: 0px 1px 2px rgba(60, 64, 67, 0.3), 0px 1px 3px 1px rgba(60, 64, 67, 0.15);\n",
              "      fill: #174EA6;\n",
              "    }\n",
              "\n",
              "    [theme=dark] .colab-df-convert {\n",
              "      background-color: #3B4455;\n",
              "      fill: #D2E3FC;\n",
              "    }\n",
              "\n",
              "    [theme=dark] .colab-df-convert:hover {\n",
              "      background-color: #434B5C;\n",
              "      box-shadow: 0px 1px 3px 1px rgba(0, 0, 0, 0.15);\n",
              "      filter: drop-shadow(0px 1px 2px rgba(0, 0, 0, 0.3));\n",
              "      fill: #FFFFFF;\n",
              "    }\n",
              "  </style>\n",
              "\n",
              "      <script>\n",
              "        const buttonEl =\n",
              "          document.querySelector('#df-bf75f63c-6f33-41c8-ae1b-fd28ce2ef358 button.colab-df-convert');\n",
              "        buttonEl.style.display =\n",
              "          google.colab.kernel.accessAllowed ? 'block' : 'none';\n",
              "\n",
              "        async function convertToInteractive(key) {\n",
              "          const element = document.querySelector('#df-bf75f63c-6f33-41c8-ae1b-fd28ce2ef358');\n",
              "          const dataTable =\n",
              "            await google.colab.kernel.invokeFunction('convertToInteractive',\n",
              "                                                     [key], {});\n",
              "          if (!dataTable) return;\n",
              "\n",
              "          const docLinkHtml = 'Like what you see? Visit the ' +\n",
              "            '<a target=\"_blank\" href=https://colab.research.google.com/notebooks/data_table.ipynb>data table notebook</a>'\n",
              "            + ' to learn more about interactive tables.';\n",
              "          element.innerHTML = '';\n",
              "          dataTable['output_type'] = 'display_data';\n",
              "          await google.colab.output.renderOutput(dataTable, element);\n",
              "          const docLink = document.createElement('div');\n",
              "          docLink.innerHTML = docLinkHtml;\n",
              "          element.appendChild(docLink);\n",
              "        }\n",
              "      </script>\n",
              "    </div>\n",
              "  </div>\n",
              "  "
            ]
          },
          "metadata": {},
          "execution_count": 49
        }
      ]
    },
    {
      "cell_type": "code",
      "source": [
        "# Get dataFrame (df) labels\n",
        "labelsBT=dfBT.label\n",
        "labelsBT.head() # 1 = fake, 0 = true"
      ],
      "metadata": {
        "colab": {
          "base_uri": "https://localhost:8080/"
        },
        "id": "nXbHF_IdXYqr",
        "outputId": "b655826b-cb1e-4a76-be90-b022adb15e0f"
      },
      "execution_count": 10,
      "outputs": [
        {
          "output_type": "execute_result",
          "data": {
            "text/plain": [
              "0    0\n",
              "1    0\n",
              "2    0\n",
              "3    0\n",
              "4    0\n",
              "Name: label, dtype: int64"
            ]
          },
          "metadata": {},
          "execution_count": 10
        }
      ]
    },
    {
      "cell_type": "code",
      "source": [
        "# dataset distribution [pie chart]\n",
        "fakeNewsCategoryBT = pd.get_dummies(dfBT.label)[1]  # 1 = fake, 0 = real\n",
        "fakeNewsSizeBT = fakeNewsCategoryBT.sum()\n",
        "realNewsSizeBT = len(fakeNewsCategoryBT)- fakeNewsSizeBT\n",
        "\n",
        "datasetSizeBT = [fakeNewsSizeBT, realNewsSizeBT]\n",
        "\n",
        "plt.pie(datasetSizeBT,explode=[0.1,0.1],colors=['firebrick','navy'],startangle=90,shadow=True,labels=['Fake','True'],autopct='%1.1f%%')"
      ],
      "metadata": {
        "colab": {
          "base_uri": "https://localhost:8080/",
          "height": 376
        },
        "id": "zSWA6Gn_XbgX",
        "outputId": "4e84369d-d81f-430e-a35d-3610bb364a63"
      },
      "execution_count": 11,
      "outputs": [
        {
          "output_type": "execute_result",
          "data": {
            "text/plain": [
              "([<matplotlib.patches.Wedge at 0x7f2117742cd0>,\n",
              "  <matplotlib.patches.Wedge at 0x7f211774e7d0>],\n",
              " [Text(-1.2000000000000002, 1.469576158976824e-16, 'Fake'),\n",
              "  Text(1.2000000000000002, -2.939152317953648e-16, 'True')],\n",
              " [Text(-0.7, 8.572527594031472e-17, '50.0%'),\n",
              "  Text(0.7, -1.7145055188062944e-16, '50.0%')])"
            ]
          },
          "metadata": {},
          "execution_count": 11
        },
        {
          "output_type": "display_data",
          "data": {
            "text/plain": [
              "<Figure size 432x288 with 1 Axes>"
            ],
            "image/png": "[encoded data removed]"
          },
          "metadata": {}
        }
      ]
    },
    {
      "cell_type": "markdown",
      "source": [
        "# Preprocessing"
      ],
      "metadata": {
        "id": "DjjZKbeEHkYk"
      }
    },
    {
      "cell_type": "code",
      "source": [
        "def removeCharactersAndLowercase(text):\n",
        "    text = text.lower()\n",
        "    text = re.sub('\\[.*?\\]', '', text)\n",
        "    text = re.sub(\"\\\\W\",\" \",text) \n",
        "    text = re.sub('https?://\\S+|www\\.\\S+', '', text)\n",
        "    text = re.sub('<.*?>+', '', text)\n",
        "    text = re.sub('[%s]' % re.escape(string.punctuation), '', text)\n",
        "    text = re.sub('\\n', '', text)\n",
        "    text = re.sub('\\w*\\d\\w*', '', text)    \n",
        "    return text\n",
        "\n",
        "df_preprocess = df.copy()\n",
        "dfBT_preprocess = dfBT.copy()\n",
        "\n",
        "df_preprocess['article'] = df_preprocess['article'].apply(removeCharactersAndLowercase)\n",
        "dfBT_preprocess['article'] = dfBT_preprocess['article'].apply(removeCharactersAndLowercase)"
      ],
      "metadata": {
        "id": "ST6_LYiPHmy6"
      },
      "execution_count": 82,
      "outputs": []
    },
    {
      "cell_type": "markdown",
      "source": [
        "#### Byte Pair encoding"
      ],
      "metadata": {
        "id": "k_jZWadWV9ul"
      }
    },
    {
      "cell_type": "code",
      "source": [
        "!pip install bpemb -force-reinstall"
      ],
      "metadata": {
        "colab": {
          "base_uri": "https://localhost:8080/"
        },
        "id": "t_Cn09TxV7Zt",
        "outputId": "d1c89f9d-7584-4187-b6d1-c048253afc63"
      },
      "execution_count": 13,
      "outputs": [
        {
          "output_type": "stream",
          "name": "stdout",
          "text": [
            "Looking in indexes: https://pypi.org/simple, https://us-python.pkg.dev/colab-wheels/public/simple/\n",
            "Looking in links: orce-reinstall\n",
            "\u001b[33mWARNING: Location 'orce-reinstall' is ignored: it is either a non-existing path or lacks a specific scheme.\u001b[0m\n",
            "Collecting bpemb\n",
            "  Downloading bpemb-0.3.4-py3-none-any.whl (19 kB)\n",
            "Requirement already satisfied: requests in /usr/local/lib/python3.7/dist-packages (from bpemb) (2.23.0)\n",
            "Requirement already satisfied: numpy in /usr/local/lib/python3.7/dist-packages (from bpemb) (1.21.6)\n",
            "Requirement already satisfied: tqdm in /usr/local/lib/python3.7/dist-packages (from bpemb) (4.64.1)\n",
            "Requirement already satisfied: gensim in /usr/local/lib/python3.7/dist-packages (from bpemb) (3.6.0)\n",
            "\u001b[33mWARNING: Location 'orce-reinstall' is ignored: it is either a non-existing path or lacks a specific scheme.\u001b[0m\n",
            "Collecting sentencepiece\n",
            "  Downloading sentencepiece-0.1.97-cp37-cp37m-manylinux_2_17_x86_64.manylinux2014_x86_64.whl (1.3 MB)\n",
            "\u001b[K     |████████████████████████████████| 1.3 MB 10.1 MB/s \n",
            "\u001b[?25hRequirement already satisfied: six>=1.5.0 in /usr/local/lib/python3.7/dist-packages (from gensim->bpemb) (1.15.0)\n",
            "Requirement already satisfied: smart-open>=1.2.1 in /usr/local/lib/python3.7/dist-packages (from gensim->bpemb) (5.2.1)\n",
            "Requirement already satisfied: scipy>=0.18.1 in /usr/local/lib/python3.7/dist-packages (from gensim->bpemb) (1.7.3)\n",
            "Requirement already satisfied: idna<3,>=2.5 in /usr/local/lib/python3.7/dist-packages (from requests->bpemb) (2.10)\n",
            "Requirement already satisfied: urllib3!=1.25.0,!=1.25.1,<1.26,>=1.21.1 in /usr/local/lib/python3.7/dist-packages (from requests->bpemb) (1.24.3)\n",
            "Requirement already satisfied: certifi>=2017.4.17 in /usr/local/lib/python3.7/dist-packages (from requests->bpemb) (2022.9.24)\n",
            "Requirement already satisfied: chardet<4,>=3.0.2 in /usr/local/lib/python3.7/dist-packages (from requests->bpemb) (3.0.4)\n",
            "Installing collected packages: sentencepiece, bpemb\n",
            "Successfully installed bpemb-0.3.4 sentencepiece-0.1.97\n"
          ]
        }
      ]
    },
    {
      "cell_type": "code",
      "source": [
        "from bpemb import BPEmb\n",
        "bpemb_tl = BPEmb(lang=\"tl\", dim=50)"
      ],
      "metadata": {
        "id": "Q80AUolWWYu2"
      },
      "execution_count": 28,
      "outputs": []
    },
    {
      "cell_type": "code",
      "source": [
        "def findBPE (text):\n",
        "  BPE = bpemb_tl.encode(text)\n",
        "  text= \" \".join(BPE)\n",
        "  return text\n",
        "\n",
        "\n",
        "df_BPE = df_preprocess.copy()\n",
        "dfBT_BPE = dfBT_preprocess.copy()\n",
        "\n",
        "df_BPE['article'] = df_BPE['article'].apply(findBPE)\n",
        "dfBT_BPE['article'] = dfBT_BPE['article'].apply(findBPE)\n",
        "\n",
        "df_BPE.head()\n",
        "dfBT_BPE.head()\n"
      ],
      "metadata": {
        "id": "hujwYgjCWVhV",
        "colab": {
          "base_uri": "https://localhost:8080/",
          "height": 221
        },
        "outputId": "35cf4261-c5b3-4bbd-8076-a9e3d307b654"
      },
      "execution_count": 83,
      "outputs": [
        {
          "output_type": "execute_result",
          "data": {
            "text/plain": [
              "   label                                            article\n",
              "0      0  ▁ayon ▁sa ▁the w rap ▁com ▁si ▁k ru pa ▁ay ▁na...\n",
              "1      0  ▁kilala ▁rin ▁ang ▁mang ▁a awit ▁sa ▁pag kum p...\n",
              "2      0  ▁blan ty re ▁mala wi ▁ap ▁naglakbay ▁si ▁ma do...\n",
              "3      0  ▁kasama ▁sa ▁programa ▁ang ▁panalangin ▁bulakl...\n",
              "4      0  ▁lin isin ▁ang ▁fri ends hip ▁department ▁dahi..."
            ],
            "text/html": [
              "\n",
              "  <div id=\"df-cda771c7-822b-4391-b4cf-5ce33d4ddbff\">\n",
              "    <div class=\"colab-df-container\">\n",
              "      <div>\n",
              "<style scoped>\n",
              "    .dataframe tbody tr th:only-of-type {\n",
              "        vertical-align: middle;\n",
              "    }\n",
              "\n",
              "    .dataframe tbody tr th {\n",
              "        vertical-align: top;\n",
              "    }\n",
              "\n",
              "    .dataframe thead th {\n",
              "        text-align: right;\n",
              "    }\n",
              "</style>\n",
              "<table border=\"1\" class=\"dataframe\">\n",
              "  <thead>\n",
              "    <tr style=\"text-align: right;\">\n",
              "      <th></th>\n",
              "      <th>label</th>\n",
              "      <th>article</th>\n",
              "    </tr>\n",
              "  </thead>\n",
              "  <tbody>\n",
              "    <tr>\n",
              "      <th>0</th>\n",
              "      <td>0</td>\n",
              "      <td>▁ayon ▁sa ▁the w rap ▁com ▁si ▁k ru pa ▁ay ▁na...</td>\n",
              "    </tr>\n",
              "    <tr>\n",
              "      <th>1</th>\n",
              "      <td>0</td>\n",
              "      <td>▁kilala ▁rin ▁ang ▁mang ▁a awit ▁sa ▁pag kum p...</td>\n",
              "    </tr>\n",
              "    <tr>\n",
              "      <th>2</th>\n",
              "      <td>0</td>\n",
              "      <td>▁blan ty re ▁mala wi ▁ap ▁naglakbay ▁si ▁ma do...</td>\n",
              "    </tr>\n",
              "    <tr>\n",
              "      <th>3</th>\n",
              "      <td>0</td>\n",
              "      <td>▁kasama ▁sa ▁programa ▁ang ▁panalangin ▁bulakl...</td>\n",
              "    </tr>\n",
              "    <tr>\n",
              "      <th>4</th>\n",
              "      <td>0</td>\n",
              "      <td>▁lin isin ▁ang ▁fri ends hip ▁department ▁dahi...</td>\n",
              "    </tr>\n",
              "  </tbody>\n",
              "</table>\n",
              "</div>\n",
              "      <button class=\"colab-df-convert\" onclick=\"convertToInteractive('df-cda771c7-822b-4391-b4cf-5ce33d4ddbff')\"\n",
              "              title=\"Convert this dataframe to an interactive table.\"\n",
              "              style=\"display:none;\">\n",
              "        \n",
              "  <svg xmlns=\"http://www.w3.org/2000/svg\" height=\"24px\"viewBox=\"0 0 24 24\"\n",
              "       width=\"24px\">\n",
              "    <path d=\"M0 0h24v24H0V0z\" fill=\"none\"/>\n",
              "    <path d=\"M18.56 5.44l.94 2.06.94-2.06 2.06-.94-2.06-.94-.94-2.06-.94 2.06-2.06.94zm-11 1L8.5 8.5l.94-2.06 2.06-.94-2.06-.94L8.5 2.5l-.94 2.06-2.06.94zm10 10l.94 2.06.94-2.06 2.06-.94-2.06-.94-.94-2.06-.94 2.06-2.06.94z\"/><path d=\"M17.41 7.96l-1.37-1.37c-.4-.4-.92-.59-1.43-.59-.52 0-1.04.2-1.43.59L10.3 9.45l-7.72 7.72c-.78.78-.78 2.05 0 2.83L4 21.41c.39.39.9.59 1.41.59.51 0 1.02-.2 1.41-.59l7.78-7.78 2.81-2.81c.8-.78.8-2.07 0-2.86zM5.41 20L4 18.59l7.72-7.72 1.47 1.35L5.41 20z\"/>\n",
              "  </svg>\n",
              "      </button>\n",
              "      \n",
              "  <style>\n",
              "    .colab-df-container {\n",
              "      display:flex;\n",
              "      flex-wrap:wrap;\n",
              "      gap: 12px;\n",
              "    }\n",
              "\n",
              "    .colab-df-convert {\n",
              "      background-color: #E8F0FE;\n",
              "      border: none;\n",
              "      border-radius: 50%;\n",
              "      cursor: pointer;\n",
              "      display: none;\n",
              "      fill: #1967D2;\n",
              "      height: 32px;\n",
              "      padding: 0 0 0 0;\n",
              "      width: 32px;\n",
              "    }\n",
              "\n",
              "    .colab-df-convert:hover {\n",
              "      background-color: #E2EBFA;\n",
              "      box-shadow: 0px 1px 2px rgba(60, 64, 67, 0.3), 0px 1px 3px 1px rgba(60, 64, 67, 0.15);\n",
              "      fill: #174EA6;\n",
              "    }\n",
              "\n",
              "    [theme=dark] .colab-df-convert {\n",
              "      background-color: #3B4455;\n",
              "      fill: #D2E3FC;\n",
              "    }\n",
              "\n",
              "    [theme=dark] .colab-df-convert:hover {\n",
              "      background-color: #434B5C;\n",
              "      box-shadow: 0px 1px 3px 1px rgba(0, 0, 0, 0.15);\n",
              "      filter: drop-shadow(0px 1px 2px rgba(0, 0, 0, 0.3));\n",
              "      fill: #FFFFFF;\n",
              "    }\n",
              "  </style>\n",
              "\n",
              "      <script>\n",
              "        const buttonEl =\n",
              "          document.querySelector('#df-cda771c7-822b-4391-b4cf-5ce33d4ddbff button.colab-df-convert');\n",
              "        buttonEl.style.display =\n",
              "          google.colab.kernel.accessAllowed ? 'block' : 'none';\n",
              "\n",
              "        async function convertToInteractive(key) {\n",
              "          const element = document.querySelector('#df-cda771c7-822b-4391-b4cf-5ce33d4ddbff');\n",
              "          const dataTable =\n",
              "            await google.colab.kernel.invokeFunction('convertToInteractive',\n",
              "                                                     [key], {});\n",
              "          if (!dataTable) return;\n",
              "\n",
              "          const docLinkHtml = 'Like what you see? Visit the ' +\n",
              "            '<a target=\"_blank\" href=https://colab.research.google.com/notebooks/data_table.ipynb>data table notebook</a>'\n",
              "            + ' to learn more about interactive tables.';\n",
              "          element.innerHTML = '';\n",
              "          dataTable['output_type'] = 'display_data';\n",
              "          await google.colab.output.renderOutput(dataTable, element);\n",
              "          const docLink = document.createElement('div');\n",
              "          docLink.innerHTML = docLinkHtml;\n",
              "          element.appendChild(docLink);\n",
              "        }\n",
              "      </script>\n",
              "    </div>\n",
              "  </div>\n",
              "  "
            ]
          },
          "metadata": {},
          "execution_count": 83
        }
      ]
    },
    {
      "cell_type": "markdown",
      "source": [
        "#Train-Test Split"
      ],
      "metadata": {
        "id": "53l0l9HZU_bN"
      }
    },
    {
      "cell_type": "code",
      "source": [
        "# 70 - 30 train test split\n",
        "x_train1,x_test,y_train1,y_test=train_test_split(df['article'], labels, test_size=0.3, random_state=7)"
      ],
      "metadata": {
        "id": "FDBixXe-cQ_i"
      },
      "execution_count": 84,
      "outputs": []
    },
    {
      "cell_type": "code",
      "source": [
        "# use same random_state to split back translated dataset the same way\n",
        "# we are only intrested in train split\n",
        "# 70 - 30 train test split\n",
        "x_trainBT,x_testBT,y_trainBT,y_testBT = train_test_split(dfBT['article'], labelsBT, test_size=0.3, random_state=7)"
      ],
      "metadata": {
        "id": "YDjUPxOnXg8b"
      },
      "execution_count": 85,
      "outputs": []
    },
    {
      "cell_type": "code",
      "source": [
        "#x_train = pd.merge(x_train1, x_trainBT, right_index=True, left_index=True)\n",
        "x_train = x_train1.append(x_trainBT, ignore_index = True)\n",
        "y_train = y_train1.append(y_trainBT, ignore_index = True)\n",
        "print(x_train)"
      ],
      "metadata": {
        "id": "gn6mzO1Haq6r",
        "colab": {
          "base_uri": "https://localhost:8080/"
        },
        "outputId": "132a2b29-5fb5-4fad-bea4-5e7ab4c727a5"
      },
      "execution_count": 86,
      "outputs": [
        {
          "output_type": "stream",
          "name": "stdout",
          "text": [
            "0       Ang Social Security Act of 2019, na nilikha ng...\n",
            "1       Dismayado aniya ang mga pamilya ng mga biktima...\n",
            "2       Hindi pa man nakakaupo bilang senador si ex-Ph...\n",
            "3       Hindi na nagkapagpigil ang isa nating kababaya...\n",
            "4       Ipinag-utos ni Pangulong Rodrigo Duterte sa Co...\n",
            "                              ...                        \n",
            "4483    ibinunyag ng pinuno ng tribo ang mga kalupitan...\n",
            "4484    Good agricultural and livelihood news para sa ...\n",
            "4485    \"Ang akusado na si Juan Ponce Enrile, sa pamam...\n",
            "4486    Sinabi ni Mendoza na binaril si Guliman matapo...\n",
            "4487    Ito ang sinabi kahapon ni Bohol 2nd District R...\n",
            "Name: article, Length: 4488, dtype: object\n"
          ]
        }
      ]
    },
    {
      "cell_type": "markdown",
      "source": [
        "#### BPE"
      ],
      "metadata": {
        "id": "UVEagCP8_d30"
      }
    },
    {
      "cell_type": "code",
      "source": [
        "x_train1_BPE,x_test_BPE,y_train1_BPE,y_test_BPE = train_test_split(df_BPE['article'], labels, test_size=0.3, random_state=7)\n",
        "x_trainBT_BPE, x_testBT_BPE, y_trainBT_BPE, y_testBT_BPE = train_test_split(dfBT_BPE['article'], labelsBT, test_size=0.3, random_state=7)\n",
        "\n",
        "x_train_BPE = x_train1_BPE.append(x_trainBT_BPE, ignore_index = True)\n",
        "y_train_BPE = y_train1_BPE.append(y_trainBT_BPE, ignore_index = True)\n",
        "print(x_train_BPE)\n"
      ],
      "metadata": {
        "colab": {
          "base_uri": "https://localhost:8080/"
        },
        "id": "Fednc__x_gqI",
        "outputId": "bdf7e597-ffc0-49de-d8be-35f1282b20cd"
      },
      "execution_count": 87,
      "outputs": [
        {
          "output_type": "stream",
          "name": "stdout",
          "text": [
            "0       ▁ang ▁social ▁se cu rity ▁act ▁of ▁na ▁nilikha...\n",
            "1       ▁dis ma yado ▁ani ya ▁ang ▁mga ▁pamilya ▁ng ▁m...\n",
            "2       ▁hindi ▁pa ▁man ▁nakaka u po ▁bilang ▁senador ...\n",
            "3       ▁hindi ▁na ▁nagka pag pigil ▁ang ▁isa ▁nating ...\n",
            "4       ▁ipinag ▁utos ▁ni ▁pangulong ▁rodri go ▁du ter...\n",
            "                              ...                        \n",
            "4483    ▁ibin un yag ▁ng ▁pinuno ▁ng ▁tribo ▁ang ▁mga ...\n",
            "4484    ▁good ▁agri cul tural ▁and ▁live li ho od ▁new...\n",
            "4485    ▁ang ▁a kusa do ▁na ▁si ▁juan ▁pon ce ▁enri le...\n",
            "4486    ▁sinabi ▁ni ▁mendoza ▁na ▁bina ril ▁si ▁gu lim...\n",
            "4487    ▁ito ▁ang ▁sinabi ▁kaha pon ▁ni ▁bohol ▁distri...\n",
            "Name: article, Length: 4488, dtype: object\n"
          ]
        }
      ]
    },
    {
      "cell_type": "markdown",
      "source": [
        "# Feature Extraction"
      ],
      "metadata": {
        "id": "ohfV5qSPtJxC"
      }
    },
    {
      "cell_type": "code",
      "source": [
        "# Initialize a TfidfVectorizer\n",
        "tfidf_vectorizer=TfidfVectorizer(max_df=0.7, min_df=5)\n",
        "\n",
        "# Fit and transform train set, transform test set\n",
        "tfidf_train=tfidf_vectorizer.fit_transform(x_train) \n",
        "tfidf_test=tfidf_vectorizer.transform(x_test)\n",
        "\n",
        "#tfidf_vectorizer.get_feature_names()"
      ],
      "metadata": {
        "id": "qJHrShfAcgBZ"
      },
      "execution_count": 88,
      "outputs": []
    },
    {
      "cell_type": "markdown",
      "source": [
        "#### BPE + TFIDF"
      ],
      "metadata": {
        "id": "qKR3cfsGAs0g"
      }
    },
    {
      "cell_type": "code",
      "source": [
        "#def identity_tokenizer(text):\n",
        "#    return text\n",
        "\n",
        "#tfidf_vectorizer_BPE = TfidfVectorizer(tokenizer=' '.join, max_df=0.7, min_df=5, lowercase=False)\n",
        "tfidf_vectorizer_BPE=TfidfVectorizer(max_df=0.7, min_df=5)\n",
        "\n",
        "tfidf_train_BPE = tfidf_vectorizer_BPE.fit_transform(x_train_BPE) \n",
        "tfidf_test_BPE = tfidf_vectorizer_BPE.transform(x_test_BPE)\n",
        "\n",
        "# tfidf_vectorizer_BPE.get_feature_names()"
      ],
      "metadata": {
        "id": "GS6owB83AsRt"
      },
      "execution_count": 170,
      "outputs": []
    },
    {
      "cell_type": "markdown",
      "source": [
        "# Classification Algorithms"
      ],
      "metadata": {
        "id": "KnEhcqPhtCGG"
      }
    },
    {
      "cell_type": "code",
      "source": [
        "# parameter optimization"
      ],
      "metadata": {
        "id": "SwtEZe1rDT_v"
      },
      "execution_count": null,
      "outputs": []
    },
    {
      "cell_type": "markdown",
      "source": [
        "#### Passive Agressive Classifier"
      ],
      "metadata": {
        "id": "kLZgiKJ3d3eD"
      }
    },
    {
      "cell_type": "code",
      "source": [
        "def findPAC(tfidf_train, y_train, tfidf_test, y_test):\n",
        "  # Initialize a PassiveAggressiveClassifier\n",
        "  pac=PassiveAggressiveClassifier(max_iter=100)\n",
        "    # gridsearch\n",
        "  pac.fit(tfidf_train,y_train)\n",
        "\n",
        "  # Predict on the test set and calculate accuracy \n",
        "    # separate below to a universal function\n",
        "  y_pred=pac.predict(tfidf_test)\n",
        "  score=accuracy_score(y_test,y_pred)\n",
        "  print(f'Passive Agressive Accuracy: {round(score*100,2)}%')\n",
        "\n",
        "  pac_cm = confusion_matrix(y_test,y_pred)\n",
        "  pac_cm_display = ConfusionMatrixDisplay(pac_cm).plot()\n",
        "  return pac"
      ],
      "metadata": {
        "id": "5oZtZ6qGcfyW"
      },
      "execution_count": 165,
      "outputs": []
    },
    {
      "cell_type": "markdown",
      "source": [
        "###### BPE + TFIDF"
      ],
      "metadata": {
        "id": "xQrqlMYJHZVR"
      }
    },
    {
      "cell_type": "code",
      "source": [
        "pac_BPE = findPAC(tfidf_train_BPE, y_train_BPE, tfidf_test_BPE, y_test_BPE)"
      ],
      "metadata": {
        "colab": {
          "base_uri": "https://localhost:8080/",
          "height": 304
        },
        "id": "Jl5tMXTyOWrL",
        "outputId": "a1a90391-1b71-412e-c317-88a6a0ad5a51"
      },
      "execution_count": 166,
      "outputs": [
        {
          "output_type": "stream",
          "name": "stdout",
          "text": [
            "Passive Agressive Accuracy: 93.14%\n"
          ]
        },
        {
          "output_type": "display_data",
          "data": {
            "text/plain": [
              "<Figure size 432x288 with 2 Axes>"
            ],
            "image/png": "[encoded data removed]"
          },
          "metadata": {
            "needs_background": "light"
          }
        }
      ]
    },
    {
      "cell_type": "markdown",
      "source": [
        "#### Multinomial Naive Bayes"
      ],
      "metadata": {
        "id": "aMACB_A-j3mL"
      }
    },
    {
      "cell_type": "code",
      "source": [
        "def findMultNB(tfidf_train, y_train, tfidf_test, y_test):\n",
        "  MultNB = MultinomialNB()\n",
        "  MultNB.fit(tfidf_train,y_train)\n",
        "  MultNB_pred=MultNB.predict(tfidf_test)\n",
        "\n",
        "  score1=accuracy_score(y_test,MultNB_pred)\n",
        "  print(f'Multinomial Naive Bayes Accuracy: {round(score1*100,2)}%')\n",
        "\n",
        "  MultNB_cm = confusion_matrix(y_test,MultNB_pred)\n",
        "\n",
        "  MultNB_cm_display = ConfusionMatrixDisplay(MultNB_cm).plot()\n",
        "  return MultNB"
      ],
      "metadata": {
        "id": "dVY_2P4FQVvt"
      },
      "execution_count": 163,
      "outputs": []
    },
    {
      "cell_type": "markdown",
      "source": [
        "###### BPE + TFIDF"
      ],
      "metadata": {
        "id": "Mp6g9j9UTrKQ"
      }
    },
    {
      "cell_type": "code",
      "source": [
        "MultNB_BPE = findMultNB(tfidf_train_BPE, y_train_BPE, tfidf_test_BPE, y_test_BPE)"
      ],
      "metadata": {
        "colab": {
          "base_uri": "https://localhost:8080/",
          "height": 300
        },
        "id": "ujm9K5QlTsOG",
        "outputId": "3bd67bea-940d-43b1-bce9-f2ce2f72af57"
      },
      "execution_count": 164,
      "outputs": [
        {
          "output_type": "stream",
          "name": "stdout",
          "text": [
            "Multinomial Naive Bayes Accuracy: 87.53%\n"
          ]
        },
        {
          "output_type": "display_data",
          "data": {
            "text/plain": [
              "<Figure size 432x288 with 2 Axes>"
            ],
            "image/png": "[encoded data removed]"
          },
          "metadata": {
            "needs_background": "light"
          }
        }
      ]
    },
    {
      "cell_type": "markdown",
      "source": [
        "#### Random Forest"
      ],
      "metadata": {
        "id": "zYJGyj7Kmj4Q"
      }
    },
    {
      "cell_type": "code",
      "source": [
        "def findRFC(tfidf_train, y_train, tfidf_test, y_test):\n",
        "  rfc=RandomForestClassifier(n_estimators= 10, random_state= 7)\n",
        "  rfc.fit(tfidf_train,y_train)\n",
        "  rfc_pred = rfc.predict(tfidf_test)\n",
        "\n",
        "  score2=accuracy_score(y_test,rfc_pred)\n",
        "  print(f'Random Forest Accuracy: {round(score2*100,2)}%')\n",
        "\n",
        "  rfc_cm = confusion_matrix(y_test,rfc_pred)\n",
        "\n",
        "  rfc_cm_display = ConfusionMatrixDisplay(rfc_cm).plot()\n",
        "  return rfc"
      ],
      "metadata": {
        "id": "m9_YO8Gxml30"
      },
      "execution_count": 161,
      "outputs": []
    },
    {
      "cell_type": "markdown",
      "source": [
        "###### BPE + TFIDF"
      ],
      "metadata": {
        "id": "RXcNQ9k7UsVD"
      }
    },
    {
      "cell_type": "code",
      "source": [
        "rfc_BPE = findRFC(tfidf_train_BPE, y_train_BPE, tfidf_test_BPE, y_test_BPE)"
      ],
      "metadata": {
        "colab": {
          "base_uri": "https://localhost:8080/",
          "height": 300
        },
        "id": "EvCsIQC-mpbo",
        "outputId": "e44a93ac-31b1-4610-97b4-5a2f380b96c9"
      },
      "execution_count": 162,
      "outputs": [
        {
          "output_type": "stream",
          "name": "stdout",
          "text": [
            "Random Forest Accuracy: 87.42%\n"
          ]
        },
        {
          "output_type": "display_data",
          "data": {
            "text/plain": [
              "<Figure size 432x288 with 2 Axes>"
            ],
            "image/png": "[encoded data removed]"
          },
          "metadata": {
            "needs_background": "light"
          }
        }
      ]
    },
    {
      "cell_type": "markdown",
      "source": [
        "#### SVM"
      ],
      "metadata": {
        "id": "YHfpePN1yGrt"
      }
    },
    {
      "cell_type": "code",
      "source": [
        "def findSVC(tfidf_train, y_train, tfidf_test, y_test):\n",
        "  svc = SVC(C=1.0, kernel='linear', degree=3, gamma='auto')\n",
        "  svc.fit(tfidf_train,y_train)\n",
        "  svc_pred = svc.predict(tfidf_test)\n",
        "\n",
        "  SVCscore=accuracy_score(y_test,svc_pred)\n",
        "  print(f'SVC Accuracy: {round(SVCscore*100,2)}%')\n",
        "\n",
        "  svc_cm = confusion_matrix(y_test,svc_pred)\n",
        "\n",
        "  svc_cm_display = ConfusionMatrixDisplay(svc_cm).plot()\n",
        "  return svc"
      ],
      "metadata": {
        "id": "TmLdTJcW0dTT"
      },
      "execution_count": 159,
      "outputs": []
    },
    {
      "cell_type": "markdown",
      "source": [
        "###### BPE + TFIDF"
      ],
      "metadata": {
        "id": "eiaviT0DWJqd"
      }
    },
    {
      "cell_type": "code",
      "source": [
        "svc_BPE = findSVC(tfidf_train_BPE, y_train_BPE, tfidf_test_BPE, y_test_BPE)"
      ],
      "metadata": {
        "colab": {
          "base_uri": "https://localhost:8080/",
          "height": 300
        },
        "id": "JqbiwRTh0eU7",
        "outputId": "414a56bf-72c7-4a2b-ce91-29e589e2df03"
      },
      "execution_count": 160,
      "outputs": [
        {
          "output_type": "stream",
          "name": "stdout",
          "text": [
            "SVC Accuracy: 94.18%\n"
          ]
        },
        {
          "output_type": "display_data",
          "data": {
            "text/plain": [
              "<Figure size 432x288 with 2 Axes>"
            ],
            "image/png": "[encoded data removed]"
          },
          "metadata": {
            "needs_background": "light"
          }
        }
      ]
    },
    {
      "cell_type": "markdown",
      "source": [
        "#### Logistic Regression"
      ],
      "metadata": {
        "id": "xfOXLQTf4A8h"
      }
    },
    {
      "cell_type": "code",
      "source": [
        "def findLogReg(tfidf_train, y_train, tfidf_test, y_test):\n",
        "  LogReg = LogisticRegression()\n",
        "  LogReg.fit(tfidf_train,y_train)\n",
        "  LogReg_pred = LogReg.predict(tfidf_test)\n",
        "\n",
        "  LogRegscore=accuracy_score(y_test,LogReg_pred)\n",
        "  print(f'Logistic Regresion Accuracy: {round(LogRegscore*100,2)}%')\n",
        "\n",
        "  LogReg_cm = confusion_matrix(y_test,LogReg_pred)\n",
        "\n",
        "  LogReg_cm_display = ConfusionMatrixDisplay(LogReg_cm).plot()\n",
        "  return LogReg"
      ],
      "metadata": {
        "id": "i1iB1PoM4ctm"
      },
      "execution_count": 155,
      "outputs": []
    },
    {
      "cell_type": "code",
      "source": [
        "LogReg_BPE = findLogReg(tfidf_train_BPE, y_train_BPE, tfidf_test_BPE, y_test_BPE)"
      ],
      "metadata": {
        "colab": {
          "base_uri": "https://localhost:8080/",
          "height": 300
        },
        "id": "BJ35u9KP4cWH",
        "outputId": "fcaf90d9-70ef-4470-9ab0-ec11ac388ca9"
      },
      "execution_count": 156,
      "outputs": [
        {
          "output_type": "stream",
          "name": "stdout",
          "text": [
            "Logistic Regresion Accuracy: 93.04%\n"
          ]
        },
        {
          "output_type": "display_data",
          "data": {
            "text/plain": [
              "<Figure size 432x288 with 2 Axes>"
            ],
            "image/png": "[encoded data removed]"
          },
          "metadata": {
            "needs_background": "light"
          }
        }
      ]
    },
    {
      "cell_type": "markdown",
      "source": [
        "#### Stochastic Gradient Descent (SGD Classifier)"
      ],
      "metadata": {
        "id": "evLDqvNO4Des"
      }
    },
    {
      "cell_type": "code",
      "source": [
        "def findSGD(tfidf_train, y_train, tfidf_test, y_test):\n",
        "  sgd_clf = SGDClassifier()\n",
        "  sgd_clf.fit(tfidf_train,y_train)\n",
        "  sgd_pred = sgd_clf.predict(tfidf_test)\n",
        "\n",
        "  SGDscore=accuracy_score(y_test,sgd_pred)\n",
        "  print(f'SGD Accuracy: {round(SGDscore*100,2)}%')\n",
        "\n",
        "  sgd_cm = confusion_matrix(y_test,sgd_pred)\n",
        "\n",
        "  sgd_cm_display = ConfusionMatrixDisplay(sgd_cm).plot()\n",
        "  return sgd_clf"
      ],
      "metadata": {
        "id": "KJH0xapC4ei3"
      },
      "execution_count": 114,
      "outputs": []
    },
    {
      "cell_type": "code",
      "source": [
        "sgd_clf_BPE = findSGD(tfidf_train_BPE, y_train_BPE, tfidf_test_BPE, y_test_BPE)"
      ],
      "metadata": {
        "colab": {
          "base_uri": "https://localhost:8080/",
          "height": 300
        },
        "id": "RwEpygvw4eVu",
        "outputId": "b05bf4e1-e876-49a6-9d73-415e9ba3f2c2"
      },
      "execution_count": 115,
      "outputs": [
        {
          "output_type": "stream",
          "name": "stdout",
          "text": [
            "SGD Accuracy: 94.18%\n"
          ]
        },
        {
          "output_type": "display_data",
          "data": {
            "text/plain": [
              "<Figure size 432x288 with 2 Axes>"
            ],
            "image/png": "[encoded data removed]"
          },
          "metadata": {
            "needs_background": "light"
          }
        }
      ]
    },
    {
      "cell_type": "markdown",
      "source": [
        "#### Decision Tree Classifier"
      ],
      "metadata": {
        "id": "0OlbHLZBGRcs"
      }
    },
    {
      "cell_type": "code",
      "source": [
        "def findDT(tfidf_train, y_train, tfidf_test, y_test):\n",
        "  dt_clf = DecisionTreeClassifier()\n",
        "  dt_clf.fit(tfidf_train,y_train)\n",
        "  dt_pred = dt_clf.predict(tfidf_test)\n",
        "\n",
        "  DTscore=accuracy_score(y_test,dt_pred)\n",
        "  print(f'SGD Accuracy: {round(DTscore*100,2)}%')\n",
        "\n",
        "  dt_cm = confusion_matrix(y_test,dt_pred)\n",
        "\n",
        "  dt_cm_display = ConfusionMatrixDisplay(dt_cm).plot()\n",
        "  return dt_clf"
      ],
      "metadata": {
        "id": "gQ4w0gHnGUHT"
      },
      "execution_count": 116,
      "outputs": []
    },
    {
      "cell_type": "code",
      "source": [
        "\n",
        "dt_clf_BPE = findDT(tfidf_train_BPE, y_train_BPE, tfidf_test_BPE, y_test_BPE)"
      ],
      "metadata": {
        "colab": {
          "base_uri": "https://localhost:8080/",
          "height": 300
        },
        "id": "ysmlbCNvGWuI",
        "outputId": "df6e7e32-ca0b-4a13-a931-4e0961a41cdc"
      },
      "execution_count": 117,
      "outputs": [
        {
          "output_type": "stream",
          "name": "stdout",
          "text": [
            "SGD Accuracy: 86.49%\n"
          ]
        },
        {
          "output_type": "display_data",
          "data": {
            "text/plain": [
              "<Figure size 432x288 with 2 Axes>"
            ],
            "image/png": "[encoded data removed]"
          },
          "metadata": {
            "needs_background": "light"
          }
        }
      ]
    },
    {
      "cell_type": "markdown",
      "source": [
        "#### XGBoost"
      ],
      "metadata": {
        "id": "nYrbtctqGYmc"
      }
    },
    {
      "cell_type": "code",
      "source": [
        "def findXGB(tfidf_train, y_train, tfidf_test, y_test):\n",
        "  xgb_clf = xgb.XGBClassifier()\n",
        "  xgb_clf.fit(tfidf_train,y_train)\n",
        "  xgb_pred = xgb_clf.predict(tfidf_test)\n",
        "\n",
        "  XGBscore=accuracy_score(y_test,xgb_pred)\n",
        "  print(f'XGBoost Accuracy: {round(XGBscore*100,2)}%')\n",
        "\n",
        "  xgb_cm = confusion_matrix(y_test,xgb_pred)\n",
        "\n",
        "  xgb_cm_display = ConfusionMatrixDisplay(xgb_cm).plot()\n",
        "\n",
        "  return xgb_clf"
      ],
      "metadata": {
        "id": "k-hzTMfXGVbU"
      },
      "execution_count": 135,
      "outputs": []
    },
    {
      "cell_type": "code",
      "source": [
        "xgb_BPE = findXGB(tfidf_train_BPE, y_train_BPE, tfidf_test_BPE, y_test_BPE)"
      ],
      "metadata": {
        "colab": {
          "base_uri": "https://localhost:8080/",
          "height": 300
        },
        "id": "577LuwJ9GU7U",
        "outputId": "2e53a106-f816-4a62-e330-b74a4caabbad"
      },
      "execution_count": 136,
      "outputs": [
        {
          "output_type": "stream",
          "name": "stdout",
          "text": [
            "XGBoost Accuracy: 92.52%\n"
          ]
        },
        {
          "output_type": "display_data",
          "data": {
            "text/plain": [
              "<Figure size 432x288 with 2 Axes>"
            ],
            "image/png": "[encoded data removed]"
          },
          "metadata": {
            "needs_background": "light"
          }
        }
      ]
    },
    {
      "cell_type": "markdown",
      "source": [
        "#### Extra Trees"
      ],
      "metadata": {
        "id": "x7ma83WDOYNY"
      }
    },
    {
      "cell_type": "code",
      "source": [
        "def findET(tfidf_train, y_train, tfidf_test, y_test):\n",
        "  et = ExtraTreesClassifier()\n",
        "  et.fit(tfidf_train,y_train)\n",
        "  et_pred = et.predict(tfidf_test)\n",
        "\n",
        "  ETscore=accuracy_score(y_test,et_pred)\n",
        "  print(f'Extra Trees Accuracy: {round(ETscore*100,2)}%')\n",
        "\n",
        "  et_cm = confusion_matrix(y_test,et_pred)\n",
        "\n",
        "  et_cm_display = ConfusionMatrixDisplay(et_cm).plot()\n",
        "  return et"
      ],
      "metadata": {
        "id": "0-iHeATtOZF3"
      },
      "execution_count": 126,
      "outputs": []
    },
    {
      "cell_type": "code",
      "source": [
        "et_BPE = findET(tfidf_train_BPE, y_train_BPE, tfidf_test_BPE, y_test_BPE)"
      ],
      "metadata": {
        "colab": {
          "base_uri": "https://localhost:8080/",
          "height": 300
        },
        "id": "-DW0GXBFOajq",
        "outputId": "c41e9c2a-7b56-40c7-92c7-5c591bb2410f"
      },
      "execution_count": 128,
      "outputs": [
        {
          "output_type": "stream",
          "name": "stdout",
          "text": [
            "Extra Trees Accuracy: 89.6%\n"
          ]
        },
        {
          "output_type": "display_data",
          "data": {
            "text/plain": [
              "<Figure size 432x288 with 2 Axes>"
            ],
            "image/png": "[encoded data removed]"
          },
          "metadata": {
            "needs_background": "light"
          }
        }
      ]
    },
    {
      "cell_type": "markdown",
      "source": [
        "#### AdaBoost"
      ],
      "metadata": {
        "id": "qAIo6XTbQkaG"
      }
    },
    {
      "cell_type": "code",
      "source": [
        "def findABC(tfidf_train, y_train, tfidf_test, y_test):\n",
        "  abc = AdaBoostClassifier()\n",
        "  abc.fit(tfidf_train,y_train)\n",
        "  abc_pred = abc.predict(tfidf_test)\n",
        "\n",
        "  ABCscore=accuracy_score(y_test,abc_pred)\n",
        "  print(f'adaBoost Accuracy: {round(ABCscore*100,2)}%')\n",
        "\n",
        "  abc_cm = confusion_matrix(y_test,abc_pred)\n",
        "\n",
        "  abc_cm_display = ConfusionMatrixDisplay(abc_cm).plot()\n",
        "  return abc"
      ],
      "metadata": {
        "id": "tUqrEgCcOaCX"
      },
      "execution_count": 129,
      "outputs": []
    },
    {
      "cell_type": "code",
      "source": [
        "abc_BPE = findABC(tfidf_train_BPE, y_train_BPE, tfidf_test_BPE, y_test_BPE)"
      ],
      "metadata": {
        "colab": {
          "base_uri": "https://localhost:8080/",
          "height": 304
        },
        "id": "Rg2KAiNTQluI",
        "outputId": "3dfafa29-af57-4ec8-dce3-64db8d84bbea"
      },
      "execution_count": 130,
      "outputs": [
        {
          "output_type": "stream",
          "name": "stdout",
          "text": [
            "adaBoost Accuracy: 91.48%\n"
          ]
        },
        {
          "output_type": "display_data",
          "data": {
            "text/plain": [
              "<Figure size 432x288 with 2 Axes>"
            ],
            "image/png": "[encoded data removed]"
          },
          "metadata": {
            "needs_background": "light"
          }
        }
      ]
    },
    {
      "cell_type": "markdown",
      "source": [
        "# Voting Classifier"
      ],
      "metadata": {
        "id": "uLSwLZKV_hvP"
      }
    },
    {
      "cell_type": "code",
      "source": [
        "def findVoting(pac, MultNB,rfc, svc, LogReg, sgd_clf, dt_clf, xgb, et, abc, tfidf_train,y_train, tfidf_test):\n",
        "  estimatorList = [('pac',pac),('MultNB',MultNB),('rfc',rfc),('svc',svc),('LogReg',LogReg),\n",
        "                  ('sgd_clf',sgd_clf),('dt_clf',dt_clf),('xgb',xgb),('et',et),('abc',abc)]\n",
        "\n",
        "\n",
        "  Ensemb = VotingClassifier(estimators = estimatorList, voting = 'hard')\n",
        "  Ensemb.fit(tfidf_train,y_train)\n",
        "  Ensemb_pred=Ensemb.predict(tfidf_test)\n",
        "\n",
        "  score4=accuracy_score(y_test,Ensemb_pred)\n",
        "  print(f'Ensemble Learning Accuracy: {round(score4*100,2)}%')\n",
        "\n",
        "  Ensemb_cm = confusion_matrix(y_test,Ensemb_pred)\n",
        "\n",
        "  Encemb_cm_display = ConfusionMatrixDisplay(Ensemb_cm).plot()\n",
        "\n",
        "  return Ensemb"
      ],
      "metadata": {
        "id": "GV6dWOin_opj"
      },
      "execution_count": 168,
      "outputs": []
    },
    {
      "cell_type": "code",
      "source": [
        "Ensemb_BPE = findVoting(pac_BPE, MultNB_BPE, rfc_BPE, svc_BPE, LogReg_BPE, sgd_clf_BPE, dt_clf_BPE, xgb_BPE, et_BPE, abc_BPE, tfidf_train_BPE, y_train_BPE, tfidf_test_BPE)"
      ],
      "metadata": {
        "colab": {
          "base_uri": "https://localhost:8080/",
          "height": 300
        },
        "id": "slnfaTDlA2Q5",
        "outputId": "2e032322-c22a-489f-82df-0d9d5723e660"
      },
      "execution_count": 169,
      "outputs": [
        {
          "output_type": "stream",
          "name": "stdout",
          "text": [
            "Ensemble Learning Accuracy: 94.91%\n"
          ]
        },
        {
          "output_type": "display_data",
          "data": {
            "text/plain": [
              "<Figure size 432x288 with 2 Axes>"
            ],
            "image/png": "[encoded data removed]"
          },
          "metadata": {
            "needs_background": "light"
          }
        }
      ]
    },
    {
      "cell_type": "markdown",
      "source": [
        "# References\n",
        "\n",
        "[1] https://data-flair.training/blogs/advanced-python-project-detecting-fake-news/\n",
        "\n",
        "[2] https://github.com/nabi-hassan/Fake-news-Detection-using-Ensemble-Learning-/blob/master/newnote.ipynb\n",
        "\n",
        "[3] https://towardsdatascience.com/fake-news-detection-with-machine-learning-using-python-3347d9899ad1\n",
        "\n",
        "[4] https://jovian.ai/piero-paialunga/notebook\n",
        "\n",
        "[5] https://youtu.be/5X27excCyXk\n"
      ],
      "metadata": {
        "id": "4vw5CxWdox8E"
      }
    }
  ]
}