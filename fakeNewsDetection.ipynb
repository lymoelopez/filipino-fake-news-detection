{
  "nbformat": 4,
  "nbformat_minor": 0,
  "metadata": {
    "colab": {
      "provenance": [],
      "collapsed_sections": [
        "UVEagCP8_d30",
        "qKR3cfsGAs0g",
        "kLZgiKJ3d3eD",
        "aMACB_A-j3mL",
        "zYJGyj7Kmj4Q",
        "YHfpePN1yGrt",
        "xfOXLQTf4A8h",
        "evLDqvNO4Des",
        "0OlbHLZBGRcs",
        "nYrbtctqGYmc",
        "x7ma83WDOYNY",
        "qAIo6XTbQkaG"
      ],
      "authorship_tag": "ABX9TyPf7FDuBJMKKO3ihusc4GV3",
      "include_colab_link": true
    },
    "kernelspec": {
      "name": "python3",
      "display_name": "Python 3"
    },
    "language_info": {
      "name": "python"
    }
  },
  "cells": [
    {
      "cell_type": "markdown",
      "metadata": {
        "id": "view-in-github",
        "colab_type": "text"
      },
      "source": [
        "<a href=\"https://colab.research.google.com/github/lymoelopez/filipino-fake-news-detection/blob/main/fakeNewsDetection.ipynb\" target=\"_parent\"><img src=\"https://colab.research.google.com/assets/colab-badge.svg\" alt=\"Open In Colab\"/></a>"
      ]
    },
    {
      "cell_type": "markdown",
      "source": [
        "# Import Libraries"
      ],
      "metadata": {
        "id": "sTwu31-sbCGx"
      }
    },
    {
      "cell_type": "code",
      "execution_count": 87,
      "metadata": {
        "id": "nDst6tLRLZEW"
      },
      "outputs": [],
      "source": [
        "import numpy as np\n",
        "import pandas as pd\n",
        "import itertools\n",
        "\n",
        "from sklearn.model_selection import train_test_split\n",
        "from sklearn.feature_extraction.text import TfidfVectorizer\n",
        "from sklearn.linear_model import PassiveAggressiveClassifier, LogisticRegression\n",
        "from sklearn.metrics import accuracy_score, confusion_matrix\n",
        "from sklearn.naive_bayes import MultinomialNB\n",
        "from sklearn.ensemble import RandomForestClassifier, VotingClassifier, ExtraTreesClassifier, AdaBoostClassifier\n",
        "from sklearn.svm import SVC\n",
        "from sklearn.linear_model import SGDClassifier\n",
        "from sklearn.metrics import ConfusionMatrixDisplay\n",
        "from sklearn.tree import DecisionTreeClassifier\n",
        "import xgboost as xgb\n",
        "\n",
        "from google.colab import files\n",
        "import io\n",
        "import matplotlib.pyplot as plt\n",
        "\n",
        "import re\n",
        "import string\n",
        "\n",
        "from sklearn.metrics import precision_recall_fscore_support"
      ]
    },
    {
      "cell_type": "markdown",
      "source": [
        "# Data Preparation\n",
        "\n",
        "\n"
      ],
      "metadata": {
        "id": "wFv-JIReXSOp"
      }
    },
    {
      "cell_type": "code",
      "source": [
        "# import from local files\n",
        "uploaded = files.upload()"
      ],
      "metadata": {
        "colab": {
          "base_uri": "https://localhost:8080/",
          "height": 82
        },
        "id": "CuUGLJeiWgdy",
        "outputId": "172a4209-3b2a-48fd-c0f4-1504c9d7cfe6"
      },
      "execution_count": 2,
      "outputs": [
        {
          "output_type": "display_data",
          "data": {
            "text/plain": [
              "<IPython.core.display.HTML object>"
            ],
            "text/html": [
              "\n",
              "     <input type=\"file\" id=\"files-6768e9bd-f27e-4714-beb0-8401a011e6d7\" name=\"files[]\" multiple disabled\n",
              "        style=\"border:none\" />\n",
              "     <output id=\"result-6768e9bd-f27e-4714-beb0-8401a011e6d7\">\n",
              "      Upload widget is only available when the cell has been executed in the\n",
              "      current browser session. Please rerun this cell to enable.\n",
              "      </output>\n",
              "      <script>// Copyright 2017 Google LLC\n",
              "//\n",
              "// Licensed under the Apache License, Version 2.0 (the \"License\");\n",
              "// you may not use this file except in compliance with the License.\n",
              "// You may obtain a copy of the License at\n",
              "//\n",
              "//      http://www.apache.org/licenses/LICENSE-2.0\n",
              "//\n",
              "// Unless required by applicable law or agreed to in writing, software\n",
              "// distributed under the License is distributed on an \"AS IS\" BASIS,\n",
              "// WITHOUT WARRANTIES OR CONDITIONS OF ANY KIND, either express or implied.\n",
              "// See the License for the specific language governing permissions and\n",
              "// limitations under the License.\n",
              "\n",
              "/**\n",
              " * @fileoverview Helpers for google.colab Python module.\n",
              " */\n",
              "(function(scope) {\n",
              "function span(text, styleAttributes = {}) {\n",
              "  const element = document.createElement('span');\n",
              "  element.textContent = text;\n",
              "  for (const key of Object.keys(styleAttributes)) {\n",
              "    element.style[key] = styleAttributes[key];\n",
              "  }\n",
              "  return element;\n",
              "}\n",
              "\n",
              "// Max number of bytes which will be uploaded at a time.\n",
              "const MAX_PAYLOAD_SIZE = 100 * 1024;\n",
              "\n",
              "function _uploadFiles(inputId, outputId) {\n",
              "  const steps = uploadFilesStep(inputId, outputId);\n",
              "  const outputElement = document.getElementById(outputId);\n",
              "  // Cache steps on the outputElement to make it available for the next call\n",
              "  // to uploadFilesContinue from Python.\n",
              "  outputElement.steps = steps;\n",
              "\n",
              "  return _uploadFilesContinue(outputId);\n",
              "}\n",
              "\n",
              "// This is roughly an async generator (not supported in the browser yet),\n",
              "// where there are multiple asynchronous steps and the Python side is going\n",
              "// to poll for completion of each step.\n",
              "// This uses a Promise to block the python side on completion of each step,\n",
              "// then passes the result of the previous step as the input to the next step.\n",
              "function _uploadFilesContinue(outputId) {\n",
              "  const outputElement = document.getElementById(outputId);\n",
              "  const steps = outputElement.steps;\n",
              "\n",
              "  const next = steps.next(outputElement.lastPromiseValue);\n",
              "  return Promise.resolve(next.value.promise).then((value) => {\n",
              "    // Cache the last promise value to make it available to the next\n",
              "    // step of the generator.\n",
              "    outputElement.lastPromiseValue = value;\n",
              "    return next.value.response;\n",
              "  });\n",
              "}\n",
              "\n",
              "/**\n",
              " * Generator function which is called between each async step of the upload\n",
              " * process.\n",
              " * @param {string} inputId Element ID of the input file picker element.\n",
              " * @param {string} outputId Element ID of the output display.\n",
              " * @return {!Iterable<!Object>} Iterable of next steps.\n",
              " */\n",
              "function* uploadFilesStep(inputId, outputId) {\n",
              "  const inputElement = document.getElementById(inputId);\n",
              "  inputElement.disabled = false;\n",
              "\n",
              "  const outputElement = document.getElementById(outputId);\n",
              "  outputElement.innerHTML = '';\n",
              "\n",
              "  const pickedPromise = new Promise((resolve) => {\n",
              "    inputElement.addEventListener('change', (e) => {\n",
              "      resolve(e.target.files);\n",
              "    });\n",
              "  });\n",
              "\n",
              "  const cancel = document.createElement('button');\n",
              "  inputElement.parentElement.appendChild(cancel);\n",
              "  cancel.textContent = 'Cancel upload';\n",
              "  const cancelPromise = new Promise((resolve) => {\n",
              "    cancel.onclick = () => {\n",
              "      resolve(null);\n",
              "    };\n",
              "  });\n",
              "\n",
              "  // Wait for the user to pick the files.\n",
              "  const files = yield {\n",
              "    promise: Promise.race([pickedPromise, cancelPromise]),\n",
              "    response: {\n",
              "      action: 'starting',\n",
              "    }\n",
              "  };\n",
              "\n",
              "  cancel.remove();\n",
              "\n",
              "  // Disable the input element since further picks are not allowed.\n",
              "  inputElement.disabled = true;\n",
              "\n",
              "  if (!files) {\n",
              "    return {\n",
              "      response: {\n",
              "        action: 'complete',\n",
              "      }\n",
              "    };\n",
              "  }\n",
              "\n",
              "  for (const file of files) {\n",
              "    const li = document.createElement('li');\n",
              "    li.append(span(file.name, {fontWeight: 'bold'}));\n",
              "    li.append(span(\n",
              "        `(${file.type || 'n/a'}) - ${file.size} bytes, ` +\n",
              "        `last modified: ${\n",
              "            file.lastModifiedDate ? file.lastModifiedDate.toLocaleDateString() :\n",
              "                                    'n/a'} - `));\n",
              "    const percent = span('0% done');\n",
              "    li.appendChild(percent);\n",
              "\n",
              "    outputElement.appendChild(li);\n",
              "\n",
              "    const fileDataPromise = new Promise((resolve) => {\n",
              "      const reader = new FileReader();\n",
              "      reader.onload = (e) => {\n",
              "        resolve(e.target.result);\n",
              "      };\n",
              "      reader.readAsArrayBuffer(file);\n",
              "    });\n",
              "    // Wait for the data to be ready.\n",
              "    let fileData = yield {\n",
              "      promise: fileDataPromise,\n",
              "      response: {\n",
              "        action: 'continue',\n",
              "      }\n",
              "    };\n",
              "\n",
              "    // Use a chunked sending to avoid message size limits. See b/62115660.\n",
              "    let position = 0;\n",
              "    do {\n",
              "      const length = Math.min(fileData.byteLength - position, MAX_PAYLOAD_SIZE);\n",
              "      const chunk = new Uint8Array(fileData, position, length);\n",
              "      position += length;\n",
              "\n",
              "      const base64 = btoa(String.fromCharCode.apply(null, chunk));\n",
              "      yield {\n",
              "        response: {\n",
              "          action: 'append',\n",
              "          file: file.name,\n",
              "          data: base64,\n",
              "        },\n",
              "      };\n",
              "\n",
              "      let percentDone = fileData.byteLength === 0 ?\n",
              "          100 :\n",
              "          Math.round((position / fileData.byteLength) * 100);\n",
              "      percent.textContent = `${percentDone}% done`;\n",
              "\n",
              "    } while (position < fileData.byteLength);\n",
              "  }\n",
              "\n",
              "  // All done.\n",
              "  yield {\n",
              "    response: {\n",
              "      action: 'complete',\n",
              "    }\n",
              "  };\n",
              "}\n",
              "\n",
              "scope.google = scope.google || {};\n",
              "scope.google.colab = scope.google.colab || {};\n",
              "scope.google.colab._files = {\n",
              "  _uploadFiles,\n",
              "  _uploadFilesContinue,\n",
              "};\n",
              "})(self);\n",
              "</script> "
            ]
          },
          "metadata": {}
        },
        {
          "output_type": "stream",
          "name": "stdout",
          "text": [
            "Saving full.csv to full.csv\n"
          ]
        }
      ]
    },
    {
      "cell_type": "code",
      "source": [
        "#Read dataset\n",
        "df = pd.read_csv(io.BytesIO(uploaded['full.csv']))\n",
        "# Dataset is now stored in a Pandas Dataframe"
      ],
      "metadata": {
        "id": "15-KAfeAWnkc"
      },
      "execution_count": 3,
      "outputs": []
    },
    {
      "cell_type": "code",
      "source": [
        "#Get shape\n",
        "df.shape\n",
        "\n",
        "# output first 5 records\n",
        "df.head()  "
      ],
      "metadata": {
        "colab": {
          "base_uri": "https://localhost:8080/",
          "height": 221
        },
        "id": "97TjFHlwcAhk",
        "outputId": "aaeb0536-e46c-43d7-bcaf-aa28e5869475"
      },
      "execution_count": 4,
      "outputs": [
        {
          "output_type": "execute_result",
          "data": {
            "text/plain": [
              "   label                                            article\n",
              "0      0  Ayon sa TheWrap.com, naghain ng kaso si Krupa,...\n",
              "1      0  Kilala rin ang singer sa pagkumpas ng kanyang ...\n",
              "2      0  BLANTYRE, Malawi (AP) -- Bumiyahe patungong Ma...\n",
              "3      0  Kasama sa programa ang pananalangin, bulaklak ...\n",
              "4      0  Linisin ang Friendship Department dahil dadala..."
            ],
            "text/html": [
              "\n",
              "  <div id=\"df-dbae465d-ca85-49a0-ae06-6f0aa8987828\">\n",
              "    <div class=\"colab-df-container\">\n",
              "      <div>\n",
              "<style scoped>\n",
              "    .dataframe tbody tr th:only-of-type {\n",
              "        vertical-align: middle;\n",
              "    }\n",
              "\n",
              "    .dataframe tbody tr th {\n",
              "        vertical-align: top;\n",
              "    }\n",
              "\n",
              "    .dataframe thead th {\n",
              "        text-align: right;\n",
              "    }\n",
              "</style>\n",
              "<table border=\"1\" class=\"dataframe\">\n",
              "  <thead>\n",
              "    <tr style=\"text-align: right;\">\n",
              "      <th></th>\n",
              "      <th>label</th>\n",
              "      <th>article</th>\n",
              "    </tr>\n",
              "  </thead>\n",
              "  <tbody>\n",
              "    <tr>\n",
              "      <th>0</th>\n",
              "      <td>0</td>\n",
              "      <td>Ayon sa TheWrap.com, naghain ng kaso si Krupa,...</td>\n",
              "    </tr>\n",
              "    <tr>\n",
              "      <th>1</th>\n",
              "      <td>0</td>\n",
              "      <td>Kilala rin ang singer sa pagkumpas ng kanyang ...</td>\n",
              "    </tr>\n",
              "    <tr>\n",
              "      <th>2</th>\n",
              "      <td>0</td>\n",
              "      <td>BLANTYRE, Malawi (AP) -- Bumiyahe patungong Ma...</td>\n",
              "    </tr>\n",
              "    <tr>\n",
              "      <th>3</th>\n",
              "      <td>0</td>\n",
              "      <td>Kasama sa programa ang pananalangin, bulaklak ...</td>\n",
              "    </tr>\n",
              "    <tr>\n",
              "      <th>4</th>\n",
              "      <td>0</td>\n",
              "      <td>Linisin ang Friendship Department dahil dadala...</td>\n",
              "    </tr>\n",
              "  </tbody>\n",
              "</table>\n",
              "</div>\n",
              "      <button class=\"colab-df-convert\" onclick=\"convertToInteractive('df-dbae465d-ca85-49a0-ae06-6f0aa8987828')\"\n",
              "              title=\"Convert this dataframe to an interactive table.\"\n",
              "              style=\"display:none;\">\n",
              "        \n",
              "  <svg xmlns=\"http://www.w3.org/2000/svg\" height=\"24px\"viewBox=\"0 0 24 24\"\n",
              "       width=\"24px\">\n",
              "    <path d=\"M0 0h24v24H0V0z\" fill=\"none\"/>\n",
              "    <path d=\"M18.56 5.44l.94 2.06.94-2.06 2.06-.94-2.06-.94-.94-2.06-.94 2.06-2.06.94zm-11 1L8.5 8.5l.94-2.06 2.06-.94-2.06-.94L8.5 2.5l-.94 2.06-2.06.94zm10 10l.94 2.06.94-2.06 2.06-.94-2.06-.94-.94-2.06-.94 2.06-2.06.94z\"/><path d=\"M17.41 7.96l-1.37-1.37c-.4-.4-.92-.59-1.43-.59-.52 0-1.04.2-1.43.59L10.3 9.45l-7.72 7.72c-.78.78-.78 2.05 0 2.83L4 21.41c.39.39.9.59 1.41.59.51 0 1.02-.2 1.41-.59l7.78-7.78 2.81-2.81c.8-.78.8-2.07 0-2.86zM5.41 20L4 18.59l7.72-7.72 1.47 1.35L5.41 20z\"/>\n",
              "  </svg>\n",
              "      </button>\n",
              "      \n",
              "  <style>\n",
              "    .colab-df-container {\n",
              "      display:flex;\n",
              "      flex-wrap:wrap;\n",
              "      gap: 12px;\n",
              "    }\n",
              "\n",
              "    .colab-df-convert {\n",
              "      background-color: #E8F0FE;\n",
              "      border: none;\n",
              "      border-radius: 50%;\n",
              "      cursor: pointer;\n",
              "      display: none;\n",
              "      fill: #1967D2;\n",
              "      height: 32px;\n",
              "      padding: 0 0 0 0;\n",
              "      width: 32px;\n",
              "    }\n",
              "\n",
              "    .colab-df-convert:hover {\n",
              "      background-color: #E2EBFA;\n",
              "      box-shadow: 0px 1px 2px rgba(60, 64, 67, 0.3), 0px 1px 3px 1px rgba(60, 64, 67, 0.15);\n",
              "      fill: #174EA6;\n",
              "    }\n",
              "\n",
              "    [theme=dark] .colab-df-convert {\n",
              "      background-color: #3B4455;\n",
              "      fill: #D2E3FC;\n",
              "    }\n",
              "\n",
              "    [theme=dark] .colab-df-convert:hover {\n",
              "      background-color: #434B5C;\n",
              "      box-shadow: 0px 1px 3px 1px rgba(0, 0, 0, 0.15);\n",
              "      filter: drop-shadow(0px 1px 2px rgba(0, 0, 0, 0.3));\n",
              "      fill: #FFFFFF;\n",
              "    }\n",
              "  </style>\n",
              "\n",
              "      <script>\n",
              "        const buttonEl =\n",
              "          document.querySelector('#df-dbae465d-ca85-49a0-ae06-6f0aa8987828 button.colab-df-convert');\n",
              "        buttonEl.style.display =\n",
              "          google.colab.kernel.accessAllowed ? 'block' : 'none';\n",
              "\n",
              "        async function convertToInteractive(key) {\n",
              "          const element = document.querySelector('#df-dbae465d-ca85-49a0-ae06-6f0aa8987828');\n",
              "          const dataTable =\n",
              "            await google.colab.kernel.invokeFunction('convertToInteractive',\n",
              "                                                     [key], {});\n",
              "          if (!dataTable) return;\n",
              "\n",
              "          const docLinkHtml = 'Like what you see? Visit the ' +\n",
              "            '<a target=\"_blank\" href=https://colab.research.google.com/notebooks/data_table.ipynb>data table notebook</a>'\n",
              "            + ' to learn more about interactive tables.';\n",
              "          element.innerHTML = '';\n",
              "          dataTable['output_type'] = 'display_data';\n",
              "          await google.colab.output.renderOutput(dataTable, element);\n",
              "          const docLink = document.createElement('div');\n",
              "          docLink.innerHTML = docLinkHtml;\n",
              "          element.appendChild(docLink);\n",
              "        }\n",
              "      </script>\n",
              "    </div>\n",
              "  </div>\n",
              "  "
            ]
          },
          "metadata": {},
          "execution_count": 4
        }
      ]
    },
    {
      "cell_type": "code",
      "source": [
        "# Get dataFrame (df) labels\n",
        "labels=df.label\n",
        "labels.head() # 1 = fake, 0 = true"
      ],
      "metadata": {
        "colab": {
          "base_uri": "https://localhost:8080/"
        },
        "id": "-DUEcjLBcH5N",
        "outputId": "dbbe50e9-b1f6-4cb3-9cd1-782be892b9e1"
      },
      "execution_count": 5,
      "outputs": [
        {
          "output_type": "execute_result",
          "data": {
            "text/plain": [
              "0    0\n",
              "1    0\n",
              "2    0\n",
              "3    0\n",
              "4    0\n",
              "Name: label, dtype: int64"
            ]
          },
          "metadata": {},
          "execution_count": 5
        }
      ]
    },
    {
      "cell_type": "code",
      "source": [
        "# dataset distribution [pie chart]\n",
        "fakeNewsCategory = pd.get_dummies(df.label)[1]  # 1 = fake, 0 = real\n",
        "fakeNewsSize = fakeNewsCategory.sum()\n",
        "realNewsSize = len(fakeNewsCategory)- fakeNewsSize\n",
        "\n",
        "datasetSize = [fakeNewsSize, realNewsSize]\n",
        "\n",
        "plt.pie(datasetSize,explode=[0.1,0.1],colors=['firebrick','navy'],startangle=90,shadow=True,labels=['Fake','True'],autopct='%1.1f%%')"
      ],
      "metadata": {
        "colab": {
          "base_uri": "https://localhost:8080/",
          "height": 376
        },
        "id": "ZvLW9bAktrO3",
        "outputId": "fe52c7e2-efd7-450a-a1e9-ca7515e64244"
      },
      "execution_count": 6,
      "outputs": [
        {
          "output_type": "execute_result",
          "data": {
            "text/plain": [
              "([<matplotlib.patches.Wedge at 0x7f4e09db7f40>,\n",
              "  <matplotlib.patches.Wedge at 0x7f4e09dc8670>],\n",
              " [Text(-1.2000000000000002, 1.469576158976824e-16, 'Fake'),\n",
              "  Text(1.2000000000000002, -2.939152317953648e-16, 'True')],\n",
              " [Text(-0.7, 8.572527594031472e-17, '50.0%'),\n",
              "  Text(0.7, -1.7145055188062944e-16, '50.0%')])"
            ]
          },
          "metadata": {},
          "execution_count": 6
        },
        {
          "output_type": "display_data",
          "data": {
            "text/plain": [
              "<Figure size 432x288 with 1 Axes>"
            ],
            "image/png": "[encoded data removed]"
          },
          "metadata": {}
        }
      ]
    },
    {
      "cell_type": "markdown",
      "source": [
        "# Data Augmentation (w/ Back Translation)"
      ],
      "metadata": {
        "id": "7Ags8ymSPfdw"
      }
    },
    {
      "cell_type": "code",
      "source": [
        "# import from local files\n",
        "uploadedBT = files.upload()"
      ],
      "metadata": {
        "colab": {
          "base_uri": "https://localhost:8080/",
          "height": 82
        },
        "id": "ZgS8EnY3Pekc",
        "outputId": "ddf9b6ad-c90c-45d1-b2e3-1a354959c1a9"
      },
      "execution_count": 7,
      "outputs": [
        {
          "output_type": "display_data",
          "data": {
            "text/plain": [
              "<IPython.core.display.HTML object>"
            ],
            "text/html": [
              "\n",
              "     <input type=\"file\" id=\"files-0f7da5d5-1144-48ed-b4b3-a04eba0a5320\" name=\"files[]\" multiple disabled\n",
              "        style=\"border:none\" />\n",
              "     <output id=\"result-0f7da5d5-1144-48ed-b4b3-a04eba0a5320\">\n",
              "      Upload widget is only available when the cell has been executed in the\n",
              "      current browser session. Please rerun this cell to enable.\n",
              "      </output>\n",
              "      <script>// Copyright 2017 Google LLC\n",
              "//\n",
              "// Licensed under the Apache License, Version 2.0 (the \"License\");\n",
              "// you may not use this file except in compliance with the License.\n",
              "// You may obtain a copy of the License at\n",
              "//\n",
              "//      http://www.apache.org/licenses/LICENSE-2.0\n",
              "//\n",
              "// Unless required by applicable law or agreed to in writing, software\n",
              "// distributed under the License is distributed on an \"AS IS\" BASIS,\n",
              "// WITHOUT WARRANTIES OR CONDITIONS OF ANY KIND, either express or implied.\n",
              "// See the License for the specific language governing permissions and\n",
              "// limitations under the License.\n",
              "\n",
              "/**\n",
              " * @fileoverview Helpers for google.colab Python module.\n",
              " */\n",
              "(function(scope) {\n",
              "function span(text, styleAttributes = {}) {\n",
              "  const element = document.createElement('span');\n",
              "  element.textContent = text;\n",
              "  for (const key of Object.keys(styleAttributes)) {\n",
              "    element.style[key] = styleAttributes[key];\n",
              "  }\n",
              "  return element;\n",
              "}\n",
              "\n",
              "// Max number of bytes which will be uploaded at a time.\n",
              "const MAX_PAYLOAD_SIZE = 100 * 1024;\n",
              "\n",
              "function _uploadFiles(inputId, outputId) {\n",
              "  const steps = uploadFilesStep(inputId, outputId);\n",
              "  const outputElement = document.getElementById(outputId);\n",
              "  // Cache steps on the outputElement to make it available for the next call\n",
              "  // to uploadFilesContinue from Python.\n",
              "  outputElement.steps = steps;\n",
              "\n",
              "  return _uploadFilesContinue(outputId);\n",
              "}\n",
              "\n",
              "// This is roughly an async generator (not supported in the browser yet),\n",
              "// where there are multiple asynchronous steps and the Python side is going\n",
              "// to poll for completion of each step.\n",
              "// This uses a Promise to block the python side on completion of each step,\n",
              "// then passes the result of the previous step as the input to the next step.\n",
              "function _uploadFilesContinue(outputId) {\n",
              "  const outputElement = document.getElementById(outputId);\n",
              "  const steps = outputElement.steps;\n",
              "\n",
              "  const next = steps.next(outputElement.lastPromiseValue);\n",
              "  return Promise.resolve(next.value.promise).then((value) => {\n",
              "    // Cache the last promise value to make it available to the next\n",
              "    // step of the generator.\n",
              "    outputElement.lastPromiseValue = value;\n",
              "    return next.value.response;\n",
              "  });\n",
              "}\n",
              "\n",
              "/**\n",
              " * Generator function which is called between each async step of the upload\n",
              " * process.\n",
              " * @param {string} inputId Element ID of the input file picker element.\n",
              " * @param {string} outputId Element ID of the output display.\n",
              " * @return {!Iterable<!Object>} Iterable of next steps.\n",
              " */\n",
              "function* uploadFilesStep(inputId, outputId) {\n",
              "  const inputElement = document.getElementById(inputId);\n",
              "  inputElement.disabled = false;\n",
              "\n",
              "  const outputElement = document.getElementById(outputId);\n",
              "  outputElement.innerHTML = '';\n",
              "\n",
              "  const pickedPromise = new Promise((resolve) => {\n",
              "    inputElement.addEventListener('change', (e) => {\n",
              "      resolve(e.target.files);\n",
              "    });\n",
              "  });\n",
              "\n",
              "  const cancel = document.createElement('button');\n",
              "  inputElement.parentElement.appendChild(cancel);\n",
              "  cancel.textContent = 'Cancel upload';\n",
              "  const cancelPromise = new Promise((resolve) => {\n",
              "    cancel.onclick = () => {\n",
              "      resolve(null);\n",
              "    };\n",
              "  });\n",
              "\n",
              "  // Wait for the user to pick the files.\n",
              "  const files = yield {\n",
              "    promise: Promise.race([pickedPromise, cancelPromise]),\n",
              "    response: {\n",
              "      action: 'starting',\n",
              "    }\n",
              "  };\n",
              "\n",
              "  cancel.remove();\n",
              "\n",
              "  // Disable the input element since further picks are not allowed.\n",
              "  inputElement.disabled = true;\n",
              "\n",
              "  if (!files) {\n",
              "    return {\n",
              "      response: {\n",
              "        action: 'complete',\n",
              "      }\n",
              "    };\n",
              "  }\n",
              "\n",
              "  for (const file of files) {\n",
              "    const li = document.createElement('li');\n",
              "    li.append(span(file.name, {fontWeight: 'bold'}));\n",
              "    li.append(span(\n",
              "        `(${file.type || 'n/a'}) - ${file.size} bytes, ` +\n",
              "        `last modified: ${\n",
              "            file.lastModifiedDate ? file.lastModifiedDate.toLocaleDateString() :\n",
              "                                    'n/a'} - `));\n",
              "    const percent = span('0% done');\n",
              "    li.appendChild(percent);\n",
              "\n",
              "    outputElement.appendChild(li);\n",
              "\n",
              "    const fileDataPromise = new Promise((resolve) => {\n",
              "      const reader = new FileReader();\n",
              "      reader.onload = (e) => {\n",
              "        resolve(e.target.result);\n",
              "      };\n",
              "      reader.readAsArrayBuffer(file);\n",
              "    });\n",
              "    // Wait for the data to be ready.\n",
              "    let fileData = yield {\n",
              "      promise: fileDataPromise,\n",
              "      response: {\n",
              "        action: 'continue',\n",
              "      }\n",
              "    };\n",
              "\n",
              "    // Use a chunked sending to avoid message size limits. See b/62115660.\n",
              "    let position = 0;\n",
              "    do {\n",
              "      const length = Math.min(fileData.byteLength - position, MAX_PAYLOAD_SIZE);\n",
              "      const chunk = new Uint8Array(fileData, position, length);\n",
              "      position += length;\n",
              "\n",
              "      const base64 = btoa(String.fromCharCode.apply(null, chunk));\n",
              "      yield {\n",
              "        response: {\n",
              "          action: 'append',\n",
              "          file: file.name,\n",
              "          data: base64,\n",
              "        },\n",
              "      };\n",
              "\n",
              "      let percentDone = fileData.byteLength === 0 ?\n",
              "          100 :\n",
              "          Math.round((position / fileData.byteLength) * 100);\n",
              "      percent.textContent = `${percentDone}% done`;\n",
              "\n",
              "    } while (position < fileData.byteLength);\n",
              "  }\n",
              "\n",
              "  // All done.\n",
              "  yield {\n",
              "    response: {\n",
              "      action: 'complete',\n",
              "    }\n",
              "  };\n",
              "}\n",
              "\n",
              "scope.google = scope.google || {};\n",
              "scope.google.colab = scope.google.colab || {};\n",
              "scope.google.colab._files = {\n",
              "  _uploadFiles,\n",
              "  _uploadFilesContinue,\n",
              "};\n",
              "})(self);\n",
              "</script> "
            ]
          },
          "metadata": {}
        },
        {
          "output_type": "stream",
          "name": "stdout",
          "text": [
            "Saving backTranslated.csv to backTranslated.csv\n"
          ]
        }
      ]
    },
    {
      "cell_type": "code",
      "source": [
        "#Read dataset\n",
        "dfBT = pd.read_csv(io.BytesIO(uploadedBT['backTranslated.csv']))\n",
        "# Dataset is now stored in a Pandas Dataframe"
      ],
      "metadata": {
        "id": "ym-a6oZmXMwH"
      },
      "execution_count": 8,
      "outputs": []
    },
    {
      "cell_type": "code",
      "source": [
        "#Get shape\n",
        "dfBT.shape\n",
        "\n",
        "# output first 5 records\n",
        "dfBT.head()  "
      ],
      "metadata": {
        "colab": {
          "base_uri": "https://localhost:8080/",
          "height": 221
        },
        "id": "UEwlUyEuXVci",
        "outputId": "41bdbc73-d34a-4846-ab64-d03c9587cab4"
      },
      "execution_count": 9,
      "outputs": [
        {
          "output_type": "execute_result",
          "data": {
            "text/plain": [
              "   label                                            article\n",
              "0      0  Ayon sa TheWrap.com, si Krupa, 35, ay nagsampa...\n",
              "1      0  Kilala rin ang mang-aawit sa pagkumpas ng kany...\n",
              "2      0  BLANTYRE, Malawi (AP) -- Naglakbay si Madonna ...\n",
              "3      0   Kasama sa programa ang panalangin, bulaklak a...\n",
              "4      0   Linisin ang Friendship Department dahil bibis..."
            ],
            "text/html": [
              "\n",
              "  <div id=\"df-03dc8e4e-00c7-4a3f-978e-c509dc7f69ad\">\n",
              "    <div class=\"colab-df-container\">\n",
              "      <div>\n",
              "<style scoped>\n",
              "    .dataframe tbody tr th:only-of-type {\n",
              "        vertical-align: middle;\n",
              "    }\n",
              "\n",
              "    .dataframe tbody tr th {\n",
              "        vertical-align: top;\n",
              "    }\n",
              "\n",
              "    .dataframe thead th {\n",
              "        text-align: right;\n",
              "    }\n",
              "</style>\n",
              "<table border=\"1\" class=\"dataframe\">\n",
              "  <thead>\n",
              "    <tr style=\"text-align: right;\">\n",
              "      <th></th>\n",
              "      <th>label</th>\n",
              "      <th>article</th>\n",
              "    </tr>\n",
              "  </thead>\n",
              "  <tbody>\n",
              "    <tr>\n",
              "      <th>0</th>\n",
              "      <td>0</td>\n",
              "      <td>Ayon sa TheWrap.com, si Krupa, 35, ay nagsampa...</td>\n",
              "    </tr>\n",
              "    <tr>\n",
              "      <th>1</th>\n",
              "      <td>0</td>\n",
              "      <td>Kilala rin ang mang-aawit sa pagkumpas ng kany...</td>\n",
              "    </tr>\n",
              "    <tr>\n",
              "      <th>2</th>\n",
              "      <td>0</td>\n",
              "      <td>BLANTYRE, Malawi (AP) -- Naglakbay si Madonna ...</td>\n",
              "    </tr>\n",
              "    <tr>\n",
              "      <th>3</th>\n",
              "      <td>0</td>\n",
              "      <td>Kasama sa programa ang panalangin, bulaklak a...</td>\n",
              "    </tr>\n",
              "    <tr>\n",
              "      <th>4</th>\n",
              "      <td>0</td>\n",
              "      <td>Linisin ang Friendship Department dahil bibis...</td>\n",
              "    </tr>\n",
              "  </tbody>\n",
              "</table>\n",
              "</div>\n",
              "      <button class=\"colab-df-convert\" onclick=\"convertToInteractive('df-03dc8e4e-00c7-4a3f-978e-c509dc7f69ad')\"\n",
              "              title=\"Convert this dataframe to an interactive table.\"\n",
              "              style=\"display:none;\">\n",
              "        \n",
              "  <svg xmlns=\"http://www.w3.org/2000/svg\" height=\"24px\"viewBox=\"0 0 24 24\"\n",
              "       width=\"24px\">\n",
              "    <path d=\"M0 0h24v24H0V0z\" fill=\"none\"/>\n",
              "    <path d=\"M18.56 5.44l.94 2.06.94-2.06 2.06-.94-2.06-.94-.94-2.06-.94 2.06-2.06.94zm-11 1L8.5 8.5l.94-2.06 2.06-.94-2.06-.94L8.5 2.5l-.94 2.06-2.06.94zm10 10l.94 2.06.94-2.06 2.06-.94-2.06-.94-.94-2.06-.94 2.06-2.06.94z\"/><path d=\"M17.41 7.96l-1.37-1.37c-.4-.4-.92-.59-1.43-.59-.52 0-1.04.2-1.43.59L10.3 9.45l-7.72 7.72c-.78.78-.78 2.05 0 2.83L4 21.41c.39.39.9.59 1.41.59.51 0 1.02-.2 1.41-.59l7.78-7.78 2.81-2.81c.8-.78.8-2.07 0-2.86zM5.41 20L4 18.59l7.72-7.72 1.47 1.35L5.41 20z\"/>\n",
              "  </svg>\n",
              "      </button>\n",
              "      \n",
              "  <style>\n",
              "    .colab-df-container {\n",
              "      display:flex;\n",
              "      flex-wrap:wrap;\n",
              "      gap: 12px;\n",
              "    }\n",
              "\n",
              "    .colab-df-convert {\n",
              "      background-color: #E8F0FE;\n",
              "      border: none;\n",
              "      border-radius: 50%;\n",
              "      cursor: pointer;\n",
              "      display: none;\n",
              "      fill: #1967D2;\n",
              "      height: 32px;\n",
              "      padding: 0 0 0 0;\n",
              "      width: 32px;\n",
              "    }\n",
              "\n",
              "    .colab-df-convert:hover {\n",
              "      background-color: #E2EBFA;\n",
              "      box-shadow: 0px 1px 2px rgba(60, 64, 67, 0.3), 0px 1px 3px 1px rgba(60, 64, 67, 0.15);\n",
              "      fill: #174EA6;\n",
              "    }\n",
              "\n",
              "    [theme=dark] .colab-df-convert {\n",
              "      background-color: #3B4455;\n",
              "      fill: #D2E3FC;\n",
              "    }\n",
              "\n",
              "    [theme=dark] .colab-df-convert:hover {\n",
              "      background-color: #434B5C;\n",
              "      box-shadow: 0px 1px 3px 1px rgba(0, 0, 0, 0.15);\n",
              "      filter: drop-shadow(0px 1px 2px rgba(0, 0, 0, 0.3));\n",
              "      fill: #FFFFFF;\n",
              "    }\n",
              "  </style>\n",
              "\n",
              "      <script>\n",
              "        const buttonEl =\n",
              "          document.querySelector('#df-03dc8e4e-00c7-4a3f-978e-c509dc7f69ad button.colab-df-convert');\n",
              "        buttonEl.style.display =\n",
              "          google.colab.kernel.accessAllowed ? 'block' : 'none';\n",
              "\n",
              "        async function convertToInteractive(key) {\n",
              "          const element = document.querySelector('#df-03dc8e4e-00c7-4a3f-978e-c509dc7f69ad');\n",
              "          const dataTable =\n",
              "            await google.colab.kernel.invokeFunction('convertToInteractive',\n",
              "                                                     [key], {});\n",
              "          if (!dataTable) return;\n",
              "\n",
              "          const docLinkHtml = 'Like what you see? Visit the ' +\n",
              "            '<a target=\"_blank\" href=https://colab.research.google.com/notebooks/data_table.ipynb>data table notebook</a>'\n",
              "            + ' to learn more about interactive tables.';\n",
              "          element.innerHTML = '';\n",
              "          dataTable['output_type'] = 'display_data';\n",
              "          await google.colab.output.renderOutput(dataTable, element);\n",
              "          const docLink = document.createElement('div');\n",
              "          docLink.innerHTML = docLinkHtml;\n",
              "          element.appendChild(docLink);\n",
              "        }\n",
              "      </script>\n",
              "    </div>\n",
              "  </div>\n",
              "  "
            ]
          },
          "metadata": {},
          "execution_count": 9
        }
      ]
    },
    {
      "cell_type": "code",
      "source": [
        "# Get dataFrame (df) labels\n",
        "labelsBT=dfBT.label\n",
        "labelsBT.head() # 1 = fake, 0 = true"
      ],
      "metadata": {
        "colab": {
          "base_uri": "https://localhost:8080/"
        },
        "id": "nXbHF_IdXYqr",
        "outputId": "0d4a1689-412c-47a4-ced6-66a2e4e8be2b"
      },
      "execution_count": 10,
      "outputs": [
        {
          "output_type": "execute_result",
          "data": {
            "text/plain": [
              "0    0\n",
              "1    0\n",
              "2    0\n",
              "3    0\n",
              "4    0\n",
              "Name: label, dtype: int64"
            ]
          },
          "metadata": {},
          "execution_count": 10
        }
      ]
    },
    {
      "cell_type": "code",
      "source": [
        "# dataset distribution [pie chart]\n",
        "fakeNewsCategoryBT = pd.get_dummies(dfBT.label)[1]  # 1 = fake, 0 = real\n",
        "fakeNewsSizeBT = fakeNewsCategoryBT.sum()\n",
        "realNewsSizeBT = len(fakeNewsCategoryBT)- fakeNewsSizeBT\n",
        "\n",
        "datasetSizeBT = [fakeNewsSizeBT, realNewsSizeBT]\n",
        "\n",
        "plt.pie(datasetSizeBT,explode=[0.1,0.1],colors=['firebrick','navy'],startangle=90,shadow=True,labels=['Fake','True'],autopct='%1.1f%%')"
      ],
      "metadata": {
        "colab": {
          "base_uri": "https://localhost:8080/",
          "height": 376
        },
        "id": "zSWA6Gn_XbgX",
        "outputId": "393dd457-9865-4bb6-b926-e705c5c1d176"
      },
      "execution_count": 11,
      "outputs": [
        {
          "output_type": "execute_result",
          "data": {
            "text/plain": [
              "([<matplotlib.patches.Wedge at 0x7f4e098b20d0>,\n",
              "  <matplotlib.patches.Wedge at 0x7f4e098b27c0>],\n",
              " [Text(-1.2000000000000002, 1.469576158976824e-16, 'Fake'),\n",
              "  Text(1.2000000000000002, -2.939152317953648e-16, 'True')],\n",
              " [Text(-0.7, 8.572527594031472e-17, '50.0%'),\n",
              "  Text(0.7, -1.7145055188062944e-16, '50.0%')])"
            ]
          },
          "metadata": {},
          "execution_count": 11
        },
        {
          "output_type": "display_data",
          "data": {
            "text/plain": [
              "<Figure size 432x288 with 1 Axes>"
            ],
            "image/png": "[encoded data removed]"
          },
          "metadata": {}
        }
      ]
    },
    {
      "cell_type": "markdown",
      "source": [
        "# Preprocessing"
      ],
      "metadata": {
        "id": "DjjZKbeEHkYk"
      }
    },
    {
      "cell_type": "code",
      "source": [
        "# convert the text in lowercase, remove the extra space, special chr., ulr and links.\n",
        "def removeCharactersAndLowercase(text):\n",
        "    text = text.lower()   # lower case\n",
        "    text = re.sub('https?://\\S+|www\\.\\S+', '', text)    # remove url and links\n",
        "    text = re.sub('\\[.*?\\]', '', text)\n",
        "    text = re.sub(\"\\\\W\",\" \",text) \n",
        "    text = re.sub('<.*?>+', '', text)\n",
        "    text = re.sub('[%s]' % re.escape(string.punctuation), '', text)\n",
        "    text = re.sub('\\n', '', text)             # Removing line or tab character (\\n, \\r, \\t..)\n",
        "    text = re.sub('\\w*\\d\\w*', '', text)\n",
        "    text = re.sub('\\s+',' ',text)                # remove extra space\n",
        "    text = re.sub('(\\\\b[A-Za-z] \\\\b|\\\\b [A-Za-z]\\\\b)', '', text)        # remove single characters\n",
        "    text = text.strip()      # remove whitespaces at begin and end of the text\n",
        "\n",
        "    return text\n",
        "\n",
        "df_preprocess = df.copy()\n",
        "dfBT_preprocess = dfBT.copy()\n",
        "\n",
        "df_preprocess['article'] = df_preprocess['article'].apply(removeCharactersAndLowercase)\n",
        "dfBT_preprocess['article'] = dfBT_preprocess['article'].apply(removeCharactersAndLowercase)"
      ],
      "metadata": {
        "id": "ST6_LYiPHmy6"
      },
      "execution_count": 12,
      "outputs": []
    },
    {
      "cell_type": "markdown",
      "source": [
        "#### Byte Pair encoding"
      ],
      "metadata": {
        "id": "k_jZWadWV9ul"
      }
    },
    {
      "cell_type": "code",
      "source": [
        "!pip install bpemb -force-reinstall"
      ],
      "metadata": {
        "colab": {
          "base_uri": "https://localhost:8080/"
        },
        "id": "t_Cn09TxV7Zt",
        "outputId": "562dd126-0462-4b3e-fd0f-106255a7f078"
      },
      "execution_count": 13,
      "outputs": [
        {
          "output_type": "stream",
          "name": "stdout",
          "text": [
            "Looking in indexes: https://pypi.org/simple, https://us-python.pkg.dev/colab-wheels/public/simple/\n",
            "Looking in links: orce-reinstall\n",
            "\u001b[33mWARNING: Location 'orce-reinstall' is ignored: it is either a non-existing path or lacks a specific scheme.\u001b[0m\n",
            "Collecting bpemb\n",
            "  Downloading bpemb-0.3.4-py3-none-any.whl (19 kB)\n",
            "Requirement already satisfied: gensim in /usr/local/lib/python3.8/dist-packages (from bpemb) (3.6.0)\n",
            "Requirement already satisfied: numpy in /usr/local/lib/python3.8/dist-packages (from bpemb) (1.21.6)\n",
            "Requirement already satisfied: tqdm in /usr/local/lib/python3.8/dist-packages (from bpemb) (4.64.1)\n",
            "\u001b[33mWARNING: Location 'orce-reinstall' is ignored: it is either a non-existing path or lacks a specific scheme.\u001b[0m\n",
            "Collecting sentencepiece\n",
            "  Downloading sentencepiece-0.1.97-cp38-cp38-manylinux_2_17_x86_64.manylinux2014_x86_64.whl (1.3 MB)\n",
            "\u001b[K     |████████████████████████████████| 1.3 MB 7.1 MB/s \n",
            "\u001b[?25hRequirement already satisfied: requests in /usr/local/lib/python3.8/dist-packages (from bpemb) (2.23.0)\n",
            "Requirement already satisfied: six>=1.5.0 in /usr/local/lib/python3.8/dist-packages (from gensim->bpemb) (1.15.0)\n",
            "Requirement already satisfied: scipy>=0.18.1 in /usr/local/lib/python3.8/dist-packages (from gensim->bpemb) (1.7.3)\n",
            "Requirement already satisfied: smart-open>=1.2.1 in /usr/local/lib/python3.8/dist-packages (from gensim->bpemb) (5.2.1)\n",
            "Requirement already satisfied: certifi>=2017.4.17 in /usr/local/lib/python3.8/dist-packages (from requests->bpemb) (2022.9.24)\n",
            "Requirement already satisfied: idna<3,>=2.5 in /usr/local/lib/python3.8/dist-packages (from requests->bpemb) (2.10)\n",
            "Requirement already satisfied: chardet<4,>=3.0.2 in /usr/local/lib/python3.8/dist-packages (from requests->bpemb) (3.0.4)\n",
            "Requirement already satisfied: urllib3!=1.25.0,!=1.25.1,<1.26,>=1.21.1 in /usr/local/lib/python3.8/dist-packages (from requests->bpemb) (1.24.3)\n",
            "Installing collected packages: sentencepiece, bpemb\n",
            "Successfully installed bpemb-0.3.4 sentencepiece-0.1.97\n"
          ]
        }
      ]
    },
    {
      "cell_type": "code",
      "source": [
        "from bpemb import BPEmb\n",
        "bpemb_tl = BPEmb(lang=\"tl\", dim=50)"
      ],
      "metadata": {
        "id": "Q80AUolWWYu2",
        "colab": {
          "base_uri": "https://localhost:8080/"
        },
        "outputId": "966faaaa-a00c-4f54-9bcd-699f82bcc479"
      },
      "execution_count": 14,
      "outputs": [
        {
          "output_type": "stream",
          "name": "stdout",
          "text": [
            "downloading https://nlp.h-its.org/bpemb/tl/tl.wiki.bpe.vs10000.model\n"
          ]
        },
        {
          "output_type": "stream",
          "name": "stderr",
          "text": [
            "100%|██████████| 397105/397105 [00:00<00:00, 1378729.01B/s]\n"
          ]
        },
        {
          "output_type": "stream",
          "name": "stdout",
          "text": [
            "downloading https://nlp.h-its.org/bpemb/tl/tl.wiki.bpe.vs10000.d50.w2v.bin.tar.gz\n"
          ]
        },
        {
          "output_type": "stream",
          "name": "stderr",
          "text": [
            "100%|██████████| 1920249/1920249 [00:00<00:00, 2737445.04B/s]\n"
          ]
        }
      ]
    },
    {
      "cell_type": "code",
      "source": [
        "def findBPE (text):\n",
        "  BPE = bpemb_tl.encode(text)\n",
        "  text = \" \".join(BPE)\n",
        "  return text\n",
        "\n",
        "df_BPE = df_preprocess.copy()\n",
        "dfBT_BPE = dfBT_preprocess.copy()\n",
        "\n",
        "df_BPE['article'] = df_BPE['article'].apply(findBPE)\n",
        "dfBT_BPE['article'] = dfBT_BPE['article'].apply(findBPE)\n",
        "\n",
        "df_BPE.head()\n"
      ],
      "metadata": {
        "id": "hujwYgjCWVhV",
        "colab": {
          "base_uri": "https://localhost:8080/",
          "height": 221
        },
        "outputId": "9bb5d7d6-8c27-4186-f4ac-a0b751e8e9ec"
      },
      "execution_count": 15,
      "outputs": [
        {
          "output_type": "execute_result",
          "data": {
            "text/plain": [
              "   label                                            article\n",
              "0      0  ▁ayon ▁sa ▁the w rap ▁com ▁nagha in ▁ng ▁kaso ...\n",
              "1      0  ▁kilala ▁rin ▁ang ▁sing er ▁sa ▁pag kum pas ▁n...\n",
              "2      0  ▁blan ty re ▁mala wi ▁ap ▁b umi ya he ▁patungo...\n",
              "3      0  ▁kasama ▁sa ▁programa ▁ang ▁panana langin ▁bul...\n",
              "4      0  ▁lin isin ▁ang ▁fri ends hip ▁department ▁dahi..."
            ],
            "text/html": [
              "\n",
              "  <div id=\"df-c89e34df-acf4-43ec-8f57-69739e3f42d1\">\n",
              "    <div class=\"colab-df-container\">\n",
              "      <div>\n",
              "<style scoped>\n",
              "    .dataframe tbody tr th:only-of-type {\n",
              "        vertical-align: middle;\n",
              "    }\n",
              "\n",
              "    .dataframe tbody tr th {\n",
              "        vertical-align: top;\n",
              "    }\n",
              "\n",
              "    .dataframe thead th {\n",
              "        text-align: right;\n",
              "    }\n",
              "</style>\n",
              "<table border=\"1\" class=\"dataframe\">\n",
              "  <thead>\n",
              "    <tr style=\"text-align: right;\">\n",
              "      <th></th>\n",
              "      <th>label</th>\n",
              "      <th>article</th>\n",
              "    </tr>\n",
              "  </thead>\n",
              "  <tbody>\n",
              "    <tr>\n",
              "      <th>0</th>\n",
              "      <td>0</td>\n",
              "      <td>▁ayon ▁sa ▁the w rap ▁com ▁nagha in ▁ng ▁kaso ...</td>\n",
              "    </tr>\n",
              "    <tr>\n",
              "      <th>1</th>\n",
              "      <td>0</td>\n",
              "      <td>▁kilala ▁rin ▁ang ▁sing er ▁sa ▁pag kum pas ▁n...</td>\n",
              "    </tr>\n",
              "    <tr>\n",
              "      <th>2</th>\n",
              "      <td>0</td>\n",
              "      <td>▁blan ty re ▁mala wi ▁ap ▁b umi ya he ▁patungo...</td>\n",
              "    </tr>\n",
              "    <tr>\n",
              "      <th>3</th>\n",
              "      <td>0</td>\n",
              "      <td>▁kasama ▁sa ▁programa ▁ang ▁panana langin ▁bul...</td>\n",
              "    </tr>\n",
              "    <tr>\n",
              "      <th>4</th>\n",
              "      <td>0</td>\n",
              "      <td>▁lin isin ▁ang ▁fri ends hip ▁department ▁dahi...</td>\n",
              "    </tr>\n",
              "  </tbody>\n",
              "</table>\n",
              "</div>\n",
              "      <button class=\"colab-df-convert\" onclick=\"convertToInteractive('df-c89e34df-acf4-43ec-8f57-69739e3f42d1')\"\n",
              "              title=\"Convert this dataframe to an interactive table.\"\n",
              "              style=\"display:none;\">\n",
              "        \n",
              "  <svg xmlns=\"http://www.w3.org/2000/svg\" height=\"24px\"viewBox=\"0 0 24 24\"\n",
              "       width=\"24px\">\n",
              "    <path d=\"M0 0h24v24H0V0z\" fill=\"none\"/>\n",
              "    <path d=\"M18.56 5.44l.94 2.06.94-2.06 2.06-.94-2.06-.94-.94-2.06-.94 2.06-2.06.94zm-11 1L8.5 8.5l.94-2.06 2.06-.94-2.06-.94L8.5 2.5l-.94 2.06-2.06.94zm10 10l.94 2.06.94-2.06 2.06-.94-2.06-.94-.94-2.06-.94 2.06-2.06.94z\"/><path d=\"M17.41 7.96l-1.37-1.37c-.4-.4-.92-.59-1.43-.59-.52 0-1.04.2-1.43.59L10.3 9.45l-7.72 7.72c-.78.78-.78 2.05 0 2.83L4 21.41c.39.39.9.59 1.41.59.51 0 1.02-.2 1.41-.59l7.78-7.78 2.81-2.81c.8-.78.8-2.07 0-2.86zM5.41 20L4 18.59l7.72-7.72 1.47 1.35L5.41 20z\"/>\n",
              "  </svg>\n",
              "      </button>\n",
              "      \n",
              "  <style>\n",
              "    .colab-df-container {\n",
              "      display:flex;\n",
              "      flex-wrap:wrap;\n",
              "      gap: 12px;\n",
              "    }\n",
              "\n",
              "    .colab-df-convert {\n",
              "      background-color: #E8F0FE;\n",
              "      border: none;\n",
              "      border-radius: 50%;\n",
              "      cursor: pointer;\n",
              "      display: none;\n",
              "      fill: #1967D2;\n",
              "      height: 32px;\n",
              "      padding: 0 0 0 0;\n",
              "      width: 32px;\n",
              "    }\n",
              "\n",
              "    .colab-df-convert:hover {\n",
              "      background-color: #E2EBFA;\n",
              "      box-shadow: 0px 1px 2px rgba(60, 64, 67, 0.3), 0px 1px 3px 1px rgba(60, 64, 67, 0.15);\n",
              "      fill: #174EA6;\n",
              "    }\n",
              "\n",
              "    [theme=dark] .colab-df-convert {\n",
              "      background-color: #3B4455;\n",
              "      fill: #D2E3FC;\n",
              "    }\n",
              "\n",
              "    [theme=dark] .colab-df-convert:hover {\n",
              "      background-color: #434B5C;\n",
              "      box-shadow: 0px 1px 3px 1px rgba(0, 0, 0, 0.15);\n",
              "      filter: drop-shadow(0px 1px 2px rgba(0, 0, 0, 0.3));\n",
              "      fill: #FFFFFF;\n",
              "    }\n",
              "  </style>\n",
              "\n",
              "      <script>\n",
              "        const buttonEl =\n",
              "          document.querySelector('#df-c89e34df-acf4-43ec-8f57-69739e3f42d1 button.colab-df-convert');\n",
              "        buttonEl.style.display =\n",
              "          google.colab.kernel.accessAllowed ? 'block' : 'none';\n",
              "\n",
              "        async function convertToInteractive(key) {\n",
              "          const element = document.querySelector('#df-c89e34df-acf4-43ec-8f57-69739e3f42d1');\n",
              "          const dataTable =\n",
              "            await google.colab.kernel.invokeFunction('convertToInteractive',\n",
              "                                                     [key], {});\n",
              "          if (!dataTable) return;\n",
              "\n",
              "          const docLinkHtml = 'Like what you see? Visit the ' +\n",
              "            '<a target=\"_blank\" href=https://colab.research.google.com/notebooks/data_table.ipynb>data table notebook</a>'\n",
              "            + ' to learn more about interactive tables.';\n",
              "          element.innerHTML = '';\n",
              "          dataTable['output_type'] = 'display_data';\n",
              "          await google.colab.output.renderOutput(dataTable, element);\n",
              "          const docLink = document.createElement('div');\n",
              "          docLink.innerHTML = docLinkHtml;\n",
              "          element.appendChild(docLink);\n",
              "        }\n",
              "      </script>\n",
              "    </div>\n",
              "  </div>\n",
              "  "
            ]
          },
          "metadata": {},
          "execution_count": 15
        }
      ]
    },
    {
      "cell_type": "markdown",
      "source": [
        "#### Stemming"
      ],
      "metadata": {
        "id": "FuzDK8_CK3HA"
      }
    },
    {
      "cell_type": "code",
      "source": [
        "# change to default directory\n",
        "%cd /content \n",
        "# remove TagalogStemmerPython, if another instance exist\n",
        "!rm -r TagalogStemmerPython\n",
        "!git clone https://github.com/lymoelopez/TagalogStemmerPython.git\n",
        "\n",
        "# Change directory into cloned repo\n",
        "%cd TagalogStemmerPython"
      ],
      "metadata": {
        "colab": {
          "base_uri": "https://localhost:8080/"
        },
        "id": "Zt884709E3e3",
        "outputId": "18260257-94d7-4de2-ee87-5df7e98ed367"
      },
      "execution_count": 27,
      "outputs": [
        {
          "output_type": "stream",
          "name": "stdout",
          "text": [
            "/content\n",
            "Cloning into 'TagalogStemmerPython'...\n",
            "remote: Enumerating objects: 147, done.\u001b[K\n",
            "remote: Counting objects: 100% (26/26), done.\u001b[K\n",
            "remote: Compressing objects: 100% (26/26), done.\u001b[K\n",
            "remote: Total 147 (delta 13), reused 0 (delta 0), pack-reused 121\u001b[K\n",
            "Receiving objects: 100% (147/147), 623.90 KiB | 9.17 MiB/s, done.\n",
            "Resolving deltas: 100% (75/75), done.\n",
            "/content/TagalogStemmerPython\n"
          ]
        }
      ]
    },
    {
      "cell_type": "code",
      "source": [
        "# List repo contents\n",
        "!ls"
      ],
      "metadata": {
        "colab": {
          "base_uri": "https://localhost:8080/"
        },
        "id": "PQhHX9k2FTbN",
        "outputId": "033dc95f-4f67-4a63-93f1-1013bda69f07"
      },
      "execution_count": 28,
      "outputs": [
        {
          "output_type": "stream",
          "name": "stdout",
          "text": [
            "filter.py  LICENSE  output  README.md  TglStemmer.py  validation.txt\n"
          ]
        }
      ]
    },
    {
      "cell_type": "code",
      "source": [
        "from TglStemmer import stemmer"
      ],
      "metadata": {
        "id": "I57-Tf-UQANw"
      },
      "execution_count": 29,
      "outputs": []
    },
    {
      "cell_type": "code",
      "source": [
        "def findStemmed(text):\n",
        "  #BPE = bpemb_tl.encode(text)\n",
        "  stemmed, root_only = stemmer(\"2\", text, \"3\")\n",
        "  text = \" \".join(root_only)\n",
        "  return text\n",
        "\n",
        "\n",
        "df_stemmed = df_preprocess.copy()\n",
        "dfBT_stemmed = dfBT_preprocess.copy()\n",
        "\n",
        "df_stemmed['article'] = df_stemmed['article'].apply(findStemmed)\n",
        "dfBT_stemmed['article'] = dfBT_stemmed['article'].apply(findStemmed)\n",
        "\n",
        "df_stemmed.head()\n"
      ],
      "metadata": {
        "id": "-shjGXirQR05",
        "colab": {
          "base_uri": "https://localhost:8080/",
          "height": 221
        },
        "outputId": "d0ce7541-95e6-4424-fdce-899fedab1437"
      },
      "execution_count": 30,
      "outputs": [
        {
          "output_type": "execute_result",
          "data": {
            "text/plain": [
              "   label                                            article\n",
              "0      0  ayon sa hewrap com hain ng kaso si rupa noo hu...\n",
              "1      0  kilala rin ang singed sa kumpas ng kanya kamay...\n",
              "2      0  lantyre lawi ap biyahe tungon lawi si donna sa...\n",
              "3      0  sama sa programa ang analang bulaklak at sindi...\n",
              "4      0  lisin ang riendship department dahil dalaw ka ..."
            ],
            "text/html": [
              "\n",
              "  <div id=\"df-d14e942d-655f-4b41-b027-c430b59789b7\">\n",
              "    <div class=\"colab-df-container\">\n",
              "      <div>\n",
              "<style scoped>\n",
              "    .dataframe tbody tr th:only-of-type {\n",
              "        vertical-align: middle;\n",
              "    }\n",
              "\n",
              "    .dataframe tbody tr th {\n",
              "        vertical-align: top;\n",
              "    }\n",
              "\n",
              "    .dataframe thead th {\n",
              "        text-align: right;\n",
              "    }\n",
              "</style>\n",
              "<table border=\"1\" class=\"dataframe\">\n",
              "  <thead>\n",
              "    <tr style=\"text-align: right;\">\n",
              "      <th></th>\n",
              "      <th>label</th>\n",
              "      <th>article</th>\n",
              "    </tr>\n",
              "  </thead>\n",
              "  <tbody>\n",
              "    <tr>\n",
              "      <th>0</th>\n",
              "      <td>0</td>\n",
              "      <td>ayon sa hewrap com hain ng kaso si rupa noo hu...</td>\n",
              "    </tr>\n",
              "    <tr>\n",
              "      <th>1</th>\n",
              "      <td>0</td>\n",
              "      <td>kilala rin ang singed sa kumpas ng kanya kamay...</td>\n",
              "    </tr>\n",
              "    <tr>\n",
              "      <th>2</th>\n",
              "      <td>0</td>\n",
              "      <td>lantyre lawi ap biyahe tungon lawi si donna sa...</td>\n",
              "    </tr>\n",
              "    <tr>\n",
              "      <th>3</th>\n",
              "      <td>0</td>\n",
              "      <td>sama sa programa ang analang bulaklak at sindi...</td>\n",
              "    </tr>\n",
              "    <tr>\n",
              "      <th>4</th>\n",
              "      <td>0</td>\n",
              "      <td>lisin ang riendship department dahil dalaw ka ...</td>\n",
              "    </tr>\n",
              "  </tbody>\n",
              "</table>\n",
              "</div>\n",
              "      <button class=\"colab-df-convert\" onclick=\"convertToInteractive('df-d14e942d-655f-4b41-b027-c430b59789b7')\"\n",
              "              title=\"Convert this dataframe to an interactive table.\"\n",
              "              style=\"display:none;\">\n",
              "        \n",
              "  <svg xmlns=\"http://www.w3.org/2000/svg\" height=\"24px\"viewBox=\"0 0 24 24\"\n",
              "       width=\"24px\">\n",
              "    <path d=\"M0 0h24v24H0V0z\" fill=\"none\"/>\n",
              "    <path d=\"M18.56 5.44l.94 2.06.94-2.06 2.06-.94-2.06-.94-.94-2.06-.94 2.06-2.06.94zm-11 1L8.5 8.5l.94-2.06 2.06-.94-2.06-.94L8.5 2.5l-.94 2.06-2.06.94zm10 10l.94 2.06.94-2.06 2.06-.94-2.06-.94-.94-2.06-.94 2.06-2.06.94z\"/><path d=\"M17.41 7.96l-1.37-1.37c-.4-.4-.92-.59-1.43-.59-.52 0-1.04.2-1.43.59L10.3 9.45l-7.72 7.72c-.78.78-.78 2.05 0 2.83L4 21.41c.39.39.9.59 1.41.59.51 0 1.02-.2 1.41-.59l7.78-7.78 2.81-2.81c.8-.78.8-2.07 0-2.86zM5.41 20L4 18.59l7.72-7.72 1.47 1.35L5.41 20z\"/>\n",
              "  </svg>\n",
              "      </button>\n",
              "      \n",
              "  <style>\n",
              "    .colab-df-container {\n",
              "      display:flex;\n",
              "      flex-wrap:wrap;\n",
              "      gap: 12px;\n",
              "    }\n",
              "\n",
              "    .colab-df-convert {\n",
              "      background-color: #E8F0FE;\n",
              "      border: none;\n",
              "      border-radius: 50%;\n",
              "      cursor: pointer;\n",
              "      display: none;\n",
              "      fill: #1967D2;\n",
              "      height: 32px;\n",
              "      padding: 0 0 0 0;\n",
              "      width: 32px;\n",
              "    }\n",
              "\n",
              "    .colab-df-convert:hover {\n",
              "      background-color: #E2EBFA;\n",
              "      box-shadow: 0px 1px 2px rgba(60, 64, 67, 0.3), 0px 1px 3px 1px rgba(60, 64, 67, 0.15);\n",
              "      fill: #174EA6;\n",
              "    }\n",
              "\n",
              "    [theme=dark] .colab-df-convert {\n",
              "      background-color: #3B4455;\n",
              "      fill: #D2E3FC;\n",
              "    }\n",
              "\n",
              "    [theme=dark] .colab-df-convert:hover {\n",
              "      background-color: #434B5C;\n",
              "      box-shadow: 0px 1px 3px 1px rgba(0, 0, 0, 0.15);\n",
              "      filter: drop-shadow(0px 1px 2px rgba(0, 0, 0, 0.3));\n",
              "      fill: #FFFFFF;\n",
              "    }\n",
              "  </style>\n",
              "\n",
              "      <script>\n",
              "        const buttonEl =\n",
              "          document.querySelector('#df-d14e942d-655f-4b41-b027-c430b59789b7 button.colab-df-convert');\n",
              "        buttonEl.style.display =\n",
              "          google.colab.kernel.accessAllowed ? 'block' : 'none';\n",
              "\n",
              "        async function convertToInteractive(key) {\n",
              "          const element = document.querySelector('#df-d14e942d-655f-4b41-b027-c430b59789b7');\n",
              "          const dataTable =\n",
              "            await google.colab.kernel.invokeFunction('convertToInteractive',\n",
              "                                                     [key], {});\n",
              "          if (!dataTable) return;\n",
              "\n",
              "          const docLinkHtml = 'Like what you see? Visit the ' +\n",
              "            '<a target=\"_blank\" href=https://colab.research.google.com/notebooks/data_table.ipynb>data table notebook</a>'\n",
              "            + ' to learn more about interactive tables.';\n",
              "          element.innerHTML = '';\n",
              "          dataTable['output_type'] = 'display_data';\n",
              "          await google.colab.output.renderOutput(dataTable, element);\n",
              "          const docLink = document.createElement('div');\n",
              "          docLink.innerHTML = docLinkHtml;\n",
              "          element.appendChild(docLink);\n",
              "        }\n",
              "      </script>\n",
              "    </div>\n",
              "  </div>\n",
              "  "
            ]
          },
          "metadata": {},
          "execution_count": 30
        }
      ]
    },
    {
      "cell_type": "markdown",
      "source": [
        "#Train-Test Split"
      ],
      "metadata": {
        "id": "53l0l9HZU_bN"
      }
    },
    {
      "cell_type": "code",
      "source": [
        "# 70 - 30 train test split\n",
        "x_train1,x_test,y_train1,y_test=train_test_split(df['article'], labels, test_size=0.3, random_state=7)"
      ],
      "metadata": {
        "id": "FDBixXe-cQ_i"
      },
      "execution_count": 31,
      "outputs": []
    },
    {
      "cell_type": "code",
      "source": [
        "# use same random_state to split back translated dataset the same way\n",
        "# we are only intrested in train split\n",
        "# 70 - 30 train test split\n",
        "x_trainBT,x_testBT,y_trainBT,y_testBT = train_test_split(dfBT['article'], labelsBT, test_size=0.3, random_state=7)"
      ],
      "metadata": {
        "id": "YDjUPxOnXg8b"
      },
      "execution_count": 32,
      "outputs": []
    },
    {
      "cell_type": "code",
      "source": [
        "#x_train = pd.merge(x_train1, x_trainBT, right_index=True, left_index=True)\n",
        "x_train = x_train1.append(x_trainBT, ignore_index = True)\n",
        "y_train = y_train1.append(y_trainBT, ignore_index = True)\n",
        "print(x_train)"
      ],
      "metadata": {
        "id": "gn6mzO1Haq6r",
        "colab": {
          "base_uri": "https://localhost:8080/"
        },
        "outputId": "0724c5b8-3047-4170-b9cd-b7c2148ce1e5"
      },
      "execution_count": 33,
      "outputs": [
        {
          "output_type": "stream",
          "name": "stdout",
          "text": [
            "0       Ang Social Security Act of 2019, na nilikha ng...\n",
            "1       Dismayado aniya ang mga pamilya ng mga biktima...\n",
            "2       Hindi pa man nakakaupo bilang senador si ex-Ph...\n",
            "3       Hindi na nagkapagpigil ang isa nating kababaya...\n",
            "4       Ipinag-utos ni Pangulong Rodrigo Duterte sa Co...\n",
            "                              ...                        \n",
            "4483    ibinunyag ng pinuno ng tribo ang mga kalupitan...\n",
            "4484    Good agricultural and livelihood news para sa ...\n",
            "4485    \"Ang akusado na si Juan Ponce Enrile, sa pamam...\n",
            "4486    Sinabi ni Mendoza na binaril si Guliman matapo...\n",
            "4487    Ito ang sinabi kahapon ni Bohol 2nd District R...\n",
            "Name: article, Length: 4488, dtype: object\n"
          ]
        }
      ]
    },
    {
      "cell_type": "markdown",
      "source": [
        "#### BPE"
      ],
      "metadata": {
        "id": "UVEagCP8_d30"
      }
    },
    {
      "cell_type": "code",
      "source": [
        "x_train1_BPE,x_test_BPE,y_train1_BPE,y_test_BPE = train_test_split(df_BPE['article'], labels, test_size=0.3, random_state=7)\n",
        "x_trainBT_BPE, x_testBT_BPE, y_trainBT_BPE, y_testBT_BPE = train_test_split(dfBT_BPE['article'], labelsBT, test_size=0.3, random_state=7)\n",
        "\n",
        "x_train_BPE = x_train1_BPE.append(x_trainBT_BPE, ignore_index = True)\n",
        "y_train_BPE = y_train1_BPE.append(y_trainBT_BPE, ignore_index = True)\n",
        "print(x_train_BPE)\n"
      ],
      "metadata": {
        "colab": {
          "base_uri": "https://localhost:8080/"
        },
        "id": "Fednc__x_gqI",
        "outputId": "4bd46665-9953-4f0a-bc57-013f6b60ba13"
      },
      "execution_count": 34,
      "outputs": [
        {
          "output_type": "stream",
          "name": "stdout",
          "text": [
            "0       ▁ang ▁social ▁se cu rity ▁act ▁of ▁na ▁nilikha...\n",
            "1       ▁dis ma yado ▁ani ya ▁ang ▁mga ▁pamilya ▁ng ▁m...\n",
            "2       ▁hindi ▁pa ▁man ▁nakaka u po ▁bilang ▁senador ...\n",
            "3       ▁hindi ▁na ▁nagka pag pigil ▁ang ▁isa ▁nating ...\n",
            "4       ▁ipinag ▁utos ▁ni ▁pangulong ▁rodri go ▁du ter...\n",
            "                              ...                        \n",
            "4483    ▁ibin un yag ▁ng ▁pinuno ▁ng ▁tribo ▁ang ▁mga ...\n",
            "4484    ▁good ▁agri cul tural ▁and ▁live li ho od ▁new...\n",
            "4485    ▁ang ▁a kusa do ▁na ▁si ▁juan ▁pon ce ▁enri le...\n",
            "4486    ▁sinabi ▁ni ▁mendoza ▁na ▁bina ril ▁si ▁gu lim...\n",
            "4487    ▁ito ▁ang ▁sinabi ▁kaha pon ▁ni ▁bohol ▁distri...\n",
            "Name: article, Length: 4488, dtype: object\n"
          ]
        }
      ]
    },
    {
      "cell_type": "markdown",
      "source": [
        "#### Stemming"
      ],
      "metadata": {
        "id": "BSPKSEQxMBMW"
      }
    },
    {
      "cell_type": "code",
      "source": [
        "x_train1_stemmed,x_test_stemmed,y_train1_stemmed,y_test_stemmed = train_test_split(df_stemmed['article'], labels, test_size=0.3, random_state=7)\n",
        "x_trainBT_stemmed, x_testBT_stemmed, y_trainBT_stemmed, y_testBT_stemmed = train_test_split(dfBT_stemmed['article'], labelsBT, test_size=0.3, random_state=7)\n",
        "\n",
        "x_train_stemmed = x_train1_stemmed.append(x_trainBT_stemmed, ignore_index = True)\n",
        "y_train_stemmed = y_train1_stemmed.append(y_trainBT_stemmed, ignore_index = True)\n",
        "print(x_train_stemmed)\n"
      ],
      "metadata": {
        "colab": {
          "base_uri": "https://localhost:8080/"
        },
        "id": "p93sk-E2MA1I",
        "outputId": "3ff6eac0-0aa3-426a-a78b-d8fabf9c83e0"
      },
      "execution_count": 35,
      "outputs": [
        {
          "output_type": "stream",
          "name": "stdout",
          "text": [
            "0       ang social security act of na likha ng sena na...\n",
            "1       dismayado aniya ang mga pamilya ng mga biktima...\n",
            "2       hindi pa man kaupo bilang sena si e hilippine ...\n",
            "3       hindi na pigil ang isa natin bayan at labas na...\n",
            "4       pina utos ni ulo rodrigo duterte sa commission...\n",
            "                              ...                        \n",
            "4483    bunyag ng pinuno ng tribo ang mga lupit na gaw...\n",
            "4484    good agricultural and livelihood news para sa ...\n",
            "4485    ang akusado na si uan ponce enrile sa amagit n...\n",
            "4486    sabi ni mendoza na baril si gulim tapos siya h...\n",
            "4487    ito ang sabi hapon ni bohol district rep erico...\n",
            "Name: article, Length: 4488, dtype: object\n"
          ]
        }
      ]
    },
    {
      "cell_type": "markdown",
      "source": [
        "# Feature Extraction"
      ],
      "metadata": {
        "id": "ohfV5qSPtJxC"
      }
    },
    {
      "cell_type": "code",
      "source": [
        "# Initialize a TfidfVectorizer\n",
        "tfidf_vectorizer=TfidfVectorizer(max_df=0.7, min_df=5)\n",
        "\n",
        "# Fit and transform train set, transform test set\n",
        "tfidf_train=tfidf_vectorizer.fit_transform(x_train) \n",
        "tfidf_test=tfidf_vectorizer.transform(x_test)\n",
        "\n",
        "#tfidf_vectorizer.get_feature_names()\n",
        "#print(tfidf_test)"
      ],
      "metadata": {
        "id": "qJHrShfAcgBZ"
      },
      "execution_count": 36,
      "outputs": []
    },
    {
      "cell_type": "markdown",
      "source": [
        "#### BPE + TFIDF"
      ],
      "metadata": {
        "id": "qKR3cfsGAs0g"
      }
    },
    {
      "cell_type": "code",
      "source": [
        "#def identity_tokenizer(text):\n",
        "#    return text\n",
        "\n",
        "#tfidf_vectorizer_BPE = TfidfVectorizer(tokenizer=' '.join, max_df=0.7, min_df=5, lowercase=False)\n",
        "tfidf_vectorizer_BPE=TfidfVectorizer(max_df=0.7, min_df=5)\n",
        "\n",
        "tfidf_train_BPE = tfidf_vectorizer_BPE.fit_transform(x_train_BPE) \n",
        "tfidf_test_BPE = tfidf_vectorizer_BPE.transform(x_test_BPE)\n",
        "\n",
        "# tfidf_vectorizer_BPE.get_feature_names()"
      ],
      "metadata": {
        "id": "GS6owB83AsRt"
      },
      "execution_count": 42,
      "outputs": []
    },
    {
      "cell_type": "markdown",
      "source": [
        "#### stemming + TFIDF"
      ],
      "metadata": {
        "id": "5erhJJeXNL1t"
      }
    },
    {
      "cell_type": "code",
      "source": [
        "#tfidf_vectorizer_BPE = TfidfVectorizer(tokenizer=' '.join, max_df=0.7, min_df=5, lowercase=False)\n",
        "tfidf_vectorizer_stemmed = TfidfVectorizer(max_df=0.7, min_df=5)\n",
        "\n",
        "tfidf_train_stemmed = tfidf_vectorizer_stemmed.fit_transform(x_train_stemmed) \n",
        "tfidf_test_stemmed = tfidf_vectorizer_stemmed.transform(x_test_stemmed)\n",
        "\n",
        "#tfidf_vectorizer_stemmed.get_feature_names()"
      ],
      "metadata": {
        "id": "qiUXcdRBNLhg"
      },
      "execution_count": 43,
      "outputs": []
    },
    {
      "cell_type": "markdown",
      "source": [
        "# Classification Algorithms"
      ],
      "metadata": {
        "id": "KnEhcqPhtCGG"
      }
    },
    {
      "cell_type": "markdown",
      "source": [
        "#### Passive Agressive Classifier"
      ],
      "metadata": {
        "id": "kLZgiKJ3d3eD"
      }
    },
    {
      "cell_type": "code",
      "source": [
        "def findPAC(tfidf_train, y_train, tfidf_test, y_test):\n",
        "  # Initialize a PassiveAggressiveClassifier\n",
        "  #pac=PassiveAggressiveClassifier(max_iter=100)\n",
        "      # gridsearch\n",
        "  pac=PassiveAggressiveClassifier()\n",
        "  pac.fit(tfidf_train,y_train)\n",
        "\n",
        "  # Predict on the test set and calculate accuracy \n",
        "    # separate below to a universal function\n",
        "  y_pred=pac.predict(tfidf_test)\n",
        "  score=accuracy_score(y_test,y_pred)\n",
        "  print(f'Passive Agressive Accuracy: {round(score*100,2)}%')\n",
        "\n",
        "  precision, recall, f1score, support = precision_recall_fscore_support(y_test, y_pred, beta=1, average='binary')\n",
        "  print(f'Passive Agressive Precision: {round(precision*100,2)}%')\n",
        "  print(f'Passive Agressive Recall: {round(recall*100,2)}%')\n",
        "  print(f'Passive Agressive F1-Score: {round(f1score*100,2)}%')\n",
        " \n",
        "\n",
        "  pac_cm = confusion_matrix(y_test,y_pred)\n",
        "  pac_cm_display = ConfusionMatrixDisplay(pac_cm).plot()\n",
        "  return pac"
      ],
      "metadata": {
        "id": "5oZtZ6qGcfyW"
      },
      "execution_count": 92,
      "outputs": []
    },
    {
      "cell_type": "markdown",
      "source": [
        "###### BPE + TFIDF"
      ],
      "metadata": {
        "id": "xQrqlMYJHZVR"
      }
    },
    {
      "cell_type": "code",
      "source": [
        "pac_BPE = findPAC(tfidf_train_BPE, y_train_BPE, tfidf_test_BPE, y_test_BPE)"
      ],
      "metadata": {
        "colab": {
          "base_uri": "https://localhost:8080/",
          "height": 366
        },
        "id": "Jl5tMXTyOWrL",
        "outputId": "0d9bc66c-8c03-4c1e-d619-8c8586696fe6"
      },
      "execution_count": 93,
      "outputs": [
        {
          "output_type": "stream",
          "name": "stdout",
          "text": [
            "Passive Agressive Accuracy: 93.87%\n",
            "Passive Agressive Precision: 93.33%\n",
            "Passive Agressive Recall: 94.32%\n",
            "Passive Agressive F1-Score: 93.82%\n"
          ]
        },
        {
          "output_type": "display_data",
          "data": {
            "text/plain": [
              "<Figure size 432x288 with 2 Axes>"
            ],
            "image/png": "[encoded data removed]"
          },
          "metadata": {
            "needs_background": "light"
          }
        }
      ]
    },
    {
      "cell_type": "markdown",
      "source": [
        "#### stemming + TFIDF"
      ],
      "metadata": {
        "id": "1KlWHh1lPvop"
      }
    },
    {
      "cell_type": "code",
      "source": [
        "pac_stemmed = findPAC(tfidf_train_stemmed, y_train_stemmed, tfidf_test_stemmed, y_test_stemmed)"
      ],
      "metadata": {
        "colab": {
          "base_uri": "https://localhost:8080/",
          "height": 364
        },
        "id": "BRmCDsl6PvVQ",
        "outputId": "92adadcf-8ae0-441a-cad9-7d71669408ba"
      },
      "execution_count": 94,
      "outputs": [
        {
          "output_type": "stream",
          "name": "stdout",
          "text": [
            "Passive Agressive Accuracy: 94.91%\n",
            "Passive Agressive Precision: 94.38%\n",
            "Passive Agressive Recall: 95.37%\n",
            "Passive Agressive F1-Score: 94.87%\n"
          ]
        },
        {
          "output_type": "display_data",
          "data": {
            "text/plain": [
              "<Figure size 432x288 with 2 Axes>"
            ],
            "image/png": "[encoded data removed]"
          },
          "metadata": {
            "needs_background": "light"
          }
        }
      ]
    },
    {
      "cell_type": "markdown",
      "source": [
        "#### Multinomial Naive Bayes"
      ],
      "metadata": {
        "id": "aMACB_A-j3mL"
      }
    },
    {
      "cell_type": "code",
      "source": [
        "def findMultNB(tfidf_train, y_train, tfidf_test, y_test):\n",
        "  MultNB = MultinomialNB()\n",
        "  MultNB.fit(tfidf_train,y_train)\n",
        "  MultNB_pred=MultNB.predict(tfidf_test)\n",
        "\n",
        "  score1=accuracy_score(y_test,MultNB_pred)\n",
        "  print(f'Multinomial Naive Bayes Accuracy: {round(score1*100,2)}%')\n",
        "\n",
        "  precision, recall, f1score, support = precision_recall_fscore_support(y_test, MultNB_pred, beta=1, average='binary')\n",
        "  print(f'Multinomial Naive Bayes Precision: {round(precision*100,2)}%')\n",
        "  print(f'Multinomial Naive Bayes Recall: {round(recall*100,2)}%')\n",
        "  print(f'Multinomial Naive Bayes F1-Score: {round(f1score*100,2)}%')\n",
        " \n",
        "\n",
        "  MultNB_cm = confusion_matrix(y_test,MultNB_pred)\n",
        "\n",
        "  MultNB_cm_display = ConfusionMatrixDisplay(MultNB_cm).plot()\n",
        "  return MultNB"
      ],
      "metadata": {
        "id": "dVY_2P4FQVvt"
      },
      "execution_count": 97,
      "outputs": []
    },
    {
      "cell_type": "markdown",
      "source": [
        "###### BPE + TFIDF"
      ],
      "metadata": {
        "id": "Mp6g9j9UTrKQ"
      }
    },
    {
      "cell_type": "code",
      "source": [
        "MultNB_BPE = findMultNB(tfidf_train_BPE, y_train_BPE, tfidf_test_BPE, y_test_BPE)"
      ],
      "metadata": {
        "colab": {
          "base_uri": "https://localhost:8080/",
          "height": 364
        },
        "id": "ujm9K5QlTsOG",
        "outputId": "0fa43db1-1704-4494-bcf6-5bc0bde2d9f9"
      },
      "execution_count": 98,
      "outputs": [
        {
          "output_type": "stream",
          "name": "stdout",
          "text": [
            "Multinomial Naive Bayes Accuracy: 87.53%\n",
            "Multinomial Naive Bayes Precision: 83.68%\n",
            "Multinomial Naive Bayes Recall: 92.84%\n",
            "Multinomial Naive Bayes F1-Score: 88.02%\n"
          ]
        },
        {
          "output_type": "display_data",
          "data": {
            "text/plain": [
              "<Figure size 432x288 with 2 Axes>"
            ],
            "image/png": "[encoded data removed]"
          },
          "metadata": {
            "needs_background": "light"
          }
        }
      ]
    },
    {
      "cell_type": "markdown",
      "source": [
        "#### stemming + TFIDF"
      ],
      "metadata": {
        "id": "MpYQqAXuQkxT"
      }
    },
    {
      "cell_type": "code",
      "source": [
        "MultNB_stemmed = findMultNB(tfidf_train_stemmed, y_train_stemmed, tfidf_test_stemmed, y_test_stemmed)"
      ],
      "metadata": {
        "colab": {
          "base_uri": "https://localhost:8080/",
          "height": 368
        },
        "id": "XkX0lPpdQlRK",
        "outputId": "3be7fba5-e57c-4f24-f91d-06e41f83d493"
      },
      "execution_count": 99,
      "outputs": [
        {
          "output_type": "stream",
          "name": "stdout",
          "text": [
            "Multinomial Naive Bayes Accuracy: 89.19%\n",
            "Multinomial Naive Bayes Precision: 85.07%\n",
            "Multinomial Naive Bayes Recall: 94.74%\n",
            "Multinomial Naive Bayes F1-Score: 89.64%\n"
          ]
        },
        {
          "output_type": "display_data",
          "data": {
            "text/plain": [
              "<Figure size 432x288 with 2 Axes>"
            ],
            "image/png": "[encoded data removed]"
          },
          "metadata": {
            "needs_background": "light"
          }
        }
      ]
    },
    {
      "cell_type": "markdown",
      "source": [
        "#### Random Forest"
      ],
      "metadata": {
        "id": "zYJGyj7Kmj4Q"
      }
    },
    {
      "cell_type": "code",
      "source": [
        "def findRFC(tfidf_train, y_train, tfidf_test, y_test):\n",
        "  rfc=RandomForestClassifier()\n",
        "  #rfc=RandomForestClassifier(n_estimators= 10, random_state= 7)\n",
        "  rfc.fit(tfidf_train,y_train)\n",
        "  rfc_pred = rfc.predict(tfidf_test)\n",
        "\n",
        "  score2=accuracy_score(y_test,rfc_pred)\n",
        "  print(f'Random Forest Accuracy: {round(score2*100,2)}%')\n",
        "\n",
        "  precision, recall, f1score, support = precision_recall_fscore_support(y_test, rfc_pred, beta=1, average='binary')\n",
        "  print(f'Random Forest Precision: {round(precision*100,2)}%')\n",
        "  print(f'Random Forest Recall: {round(recall*100,2)}%')\n",
        "  print(f'Random Forest F1-Score: {round(f1score*100,2)}%')\n",
        "\n",
        "  rfc_cm = confusion_matrix(y_test,rfc_pred)\n",
        "\n",
        "  rfc_cm_display = ConfusionMatrixDisplay(rfc_cm).plot()\n",
        "  return rfc"
      ],
      "metadata": {
        "id": "m9_YO8Gxml30"
      },
      "execution_count": 101,
      "outputs": []
    },
    {
      "cell_type": "markdown",
      "source": [
        "###### BPE + TFIDF"
      ],
      "metadata": {
        "id": "RXcNQ9k7UsVD"
      }
    },
    {
      "cell_type": "code",
      "source": [
        "rfc_BPE = findRFC(tfidf_train_BPE, y_train_BPE, tfidf_test_BPE, y_test_BPE)"
      ],
      "metadata": {
        "colab": {
          "base_uri": "https://localhost:8080/",
          "height": 364
        },
        "id": "EvCsIQC-mpbo",
        "outputId": "16d7c34d-f2e1-404b-f41d-8ac85b3aa9dc"
      },
      "execution_count": 102,
      "outputs": [
        {
          "output_type": "stream",
          "name": "stdout",
          "text": [
            "Random Forest Accuracy: 91.27%\n",
            "Random Forest Precision: 89.82%\n",
            "Random Forest Recall: 92.84%\n",
            "Random Forest F1-Score: 91.3%\n"
          ]
        },
        {
          "output_type": "display_data",
          "data": {
            "text/plain": [
              "<Figure size 432x288 with 2 Axes>"
            ],
            "image/png": "[encoded data removed]"
          },
          "metadata": {
            "needs_background": "light"
          }
        }
      ]
    },
    {
      "cell_type": "markdown",
      "source": [
        "#### stemming + TFIDF"
      ],
      "metadata": {
        "id": "h324TjJURnfu"
      }
    },
    {
      "cell_type": "code",
      "source": [
        "rfc_stemmed = findRFC(tfidf_train_stemmed, y_train_stemmed, tfidf_test_stemmed, y_test_stemmed)"
      ],
      "metadata": {
        "colab": {
          "base_uri": "https://localhost:8080/",
          "height": 364
        },
        "id": "CLOmS2UmRnQf",
        "outputId": "68a7286c-ae07-4790-e43c-7f58d616cd7a"
      },
      "execution_count": 103,
      "outputs": [
        {
          "output_type": "stream",
          "name": "stdout",
          "text": [
            "Random Forest Accuracy: 91.68%\n",
            "Random Forest Precision: 89.58%\n",
            "Random Forest Recall: 94.11%\n",
            "Random Forest F1-Score: 91.79%\n"
          ]
        },
        {
          "output_type": "display_data",
          "data": {
            "text/plain": [
              "<Figure size 432x288 with 2 Axes>"
            ],
            "image/png": "[encoded data removed]"
          },
          "metadata": {
            "needs_background": "light"
          }
        }
      ]
    },
    {
      "cell_type": "markdown",
      "source": [
        "#### SVM"
      ],
      "metadata": {
        "id": "YHfpePN1yGrt"
      }
    },
    {
      "cell_type": "code",
      "source": [
        "def findSVC(tfidf_train, y_train, tfidf_test, y_test):\n",
        "  #svc = SVC(C=1.0, kernel='linear', degree=3, gamma='auto')\n",
        "  svc = SVC()\n",
        "  svc.fit(tfidf_train,y_train)\n",
        "  svc_pred = svc.predict(tfidf_test)\n",
        "\n",
        "  SVCscore=accuracy_score(y_test,svc_pred)\n",
        "  print(f'SVC Accuracy: {round(SVCscore*100,2)}%')\n",
        "\n",
        "  precision, recall, f1score, support = precision_recall_fscore_support(y_test, svc_pred, beta=1, average='binary')\n",
        "  print(f'Precision: {round(precision*100,2)}%')\n",
        "  print(f'Recall: {round(recall*100,2)}%')\n",
        "  print(f'F1-Score: {round(f1score*100,2)}%')\n",
        "\n",
        "  svc_cm = confusion_matrix(y_test,svc_pred)\n",
        "\n",
        "  svc_cm_display = ConfusionMatrixDisplay(svc_cm).plot()\n",
        "  return svc"
      ],
      "metadata": {
        "id": "TmLdTJcW0dTT"
      },
      "execution_count": 104,
      "outputs": []
    },
    {
      "cell_type": "markdown",
      "source": [
        "###### BPE + TFIDF"
      ],
      "metadata": {
        "id": "eiaviT0DWJqd"
      }
    },
    {
      "cell_type": "code",
      "source": [
        "svc_BPE = findSVC(tfidf_train_BPE, y_train_BPE, tfidf_test_BPE, y_test_BPE)"
      ],
      "metadata": {
        "colab": {
          "base_uri": "https://localhost:8080/",
          "height": 364
        },
        "id": "JqbiwRTh0eU7",
        "outputId": "d97c7220-2fdb-4fd6-bfd0-3d65214658dd"
      },
      "execution_count": 105,
      "outputs": [
        {
          "output_type": "stream",
          "name": "stdout",
          "text": [
            "SVC Accuracy: 94.18%\n",
            "Precision: 95.44%\n",
            "Recall: 92.63%\n",
            "F1-Score: 94.02%\n"
          ]
        },
        {
          "output_type": "display_data",
          "data": {
            "text/plain": [
              "<Figure size 432x288 with 2 Axes>"
            ],
            "image/png": "[encoded data removed]"
          },
          "metadata": {
            "needs_background": "light"
          }
        }
      ]
    },
    {
      "cell_type": "markdown",
      "source": [
        "#### stemming + TFIDF"
      ],
      "metadata": {
        "id": "itID46eqSk7G"
      }
    },
    {
      "cell_type": "code",
      "source": [
        "svc_stemmed = findSVC(tfidf_train_stemmed, y_train_stemmed, tfidf_test_stemmed, y_test_stemmed)"
      ],
      "metadata": {
        "colab": {
          "base_uri": "https://localhost:8080/",
          "height": 364
        },
        "id": "DKq2LqFtSksC",
        "outputId": "59fdd9a2-a50a-4c0d-9b74-0af45b2faabb"
      },
      "execution_count": 106,
      "outputs": [
        {
          "output_type": "stream",
          "name": "stdout",
          "text": [
            "SVC Accuracy: 94.7%\n",
            "Precision: 95.3%\n",
            "Recall: 93.89%\n",
            "F1-Score: 94.59%\n"
          ]
        },
        {
          "output_type": "display_data",
          "data": {
            "text/plain": [
              "<Figure size 432x288 with 2 Axes>"
            ],
            "image/png": "[encoded data removed]"
          },
          "metadata": {
            "needs_background": "light"
          }
        }
      ]
    },
    {
      "cell_type": "markdown",
      "source": [
        "#### Logistic Regression"
      ],
      "metadata": {
        "id": "xfOXLQTf4A8h"
      }
    },
    {
      "cell_type": "code",
      "source": [
        "def findLogReg(tfidf_train, y_train, tfidf_test, y_test):\n",
        "  LogReg = LogisticRegression()\n",
        "  LogReg.fit(tfidf_train,y_train)\n",
        "  LogReg_pred = LogReg.predict(tfidf_test)\n",
        "\n",
        "  LogRegscore=accuracy_score(y_test,LogReg_pred)\n",
        "  print(f'Logistic Regresion Accuracy: {round(LogRegscore*100,2)}%')\n",
        "\n",
        "  precision, recall, f1score, support = precision_recall_fscore_support(y_test, LogReg_pred, beta=1, average='binary')\n",
        "  print(f'Precision: {round(precision*100,2)}%')\n",
        "  print(f'Recall: {round(recall*100,2)}%')\n",
        "  print(f'F1-Score: {round(f1score*100,2)}%')\n",
        "\n",
        "\n",
        "  LogReg_cm = confusion_matrix(y_test,LogReg_pred)\n",
        "\n",
        "  LogReg_cm_display = ConfusionMatrixDisplay(LogReg_cm).plot()\n",
        "  return LogReg"
      ],
      "metadata": {
        "id": "i1iB1PoM4ctm"
      },
      "execution_count": 107,
      "outputs": []
    },
    {
      "cell_type": "markdown",
      "source": [
        "#### BPE + TFIDF"
      ],
      "metadata": {
        "id": "fPNwkAlPXIQU"
      }
    },
    {
      "cell_type": "code",
      "source": [
        "LogReg_BPE = findLogReg(tfidf_train_BPE, y_train_BPE, tfidf_test_BPE, y_test_BPE)"
      ],
      "metadata": {
        "colab": {
          "base_uri": "https://localhost:8080/",
          "height": 364
        },
        "id": "BJ35u9KP4cWH",
        "outputId": "dc47e49c-3223-4ce2-bfa4-6950f173f944"
      },
      "execution_count": 108,
      "outputs": [
        {
          "output_type": "stream",
          "name": "stdout",
          "text": [
            "Logistic Regresion Accuracy: 93.04%\n",
            "Precision: 94.16%\n",
            "Recall: 91.58%\n",
            "F1-Score: 92.85%\n"
          ]
        },
        {
          "output_type": "display_data",
          "data": {
            "text/plain": [
              "<Figure size 432x288 with 2 Axes>"
            ],
            "image/png": "[encoded data removed]"
          },
          "metadata": {
            "needs_background": "light"
          }
        }
      ]
    },
    {
      "cell_type": "markdown",
      "source": [
        "#### stemming + TFIDF"
      ],
      "metadata": {
        "id": "jnzVoH1kXG-h"
      }
    },
    {
      "cell_type": "code",
      "source": [
        "LogReg_stemmed = findLogReg(tfidf_train_stemmed, y_train_stemmed, tfidf_test_stemmed, y_test_stemmed)"
      ],
      "metadata": {
        "colab": {
          "base_uri": "https://localhost:8080/",
          "height": 364
        },
        "id": "N_rvI1XkXGvF",
        "outputId": "d32b5529-e620-49d5-91dd-77788320dd2e"
      },
      "execution_count": 109,
      "outputs": [
        {
          "output_type": "stream",
          "name": "stdout",
          "text": [
            "Logistic Regresion Accuracy: 93.66%\n",
            "Precision: 94.42%\n",
            "Recall: 92.63%\n",
            "F1-Score: 93.52%\n"
          ]
        },
        {
          "output_type": "display_data",
          "data": {
            "text/plain": [
              "<Figure size 432x288 with 2 Axes>"
            ],
            "image/png": "[encoded data removed]"
          },
          "metadata": {
            "needs_background": "light"
          }
        }
      ]
    },
    {
      "cell_type": "markdown",
      "source": [
        "#### Stochastic Gradient Descent (SGD Classifier)"
      ],
      "metadata": {
        "id": "evLDqvNO4Des"
      }
    },
    {
      "cell_type": "code",
      "source": [
        "def findSGD(tfidf_train, y_train, tfidf_test, y_test):\n",
        "  sgd_clf = SGDClassifier()\n",
        "  sgd_clf.fit(tfidf_train,y_train)\n",
        "  sgd_pred = sgd_clf.predict(tfidf_test)\n",
        "\n",
        "  SGDscore=accuracy_score(y_test,sgd_pred)\n",
        "  print(f'SGD Accuracy: {round(SGDscore*100,2)}%')\n",
        "\n",
        "  precision, recall, f1score, support = precision_recall_fscore_support(y_test, sgd_pred, beta=1, average='binary')\n",
        "  print(f'Precision: {round(precision*100,2)}%')\n",
        "  print(f'Recall: {round(recall*100,2)}%')\n",
        "  print(f'F1-Score: {round(f1score*100,2)}%')\n",
        "\n",
        "  sgd_cm = confusion_matrix(y_test,sgd_pred)\n",
        "\n",
        "  sgd_cm_display = ConfusionMatrixDisplay(sgd_cm).plot()\n",
        "  return sgd_clf"
      ],
      "metadata": {
        "id": "KJH0xapC4ei3"
      },
      "execution_count": 110,
      "outputs": []
    },
    {
      "cell_type": "markdown",
      "source": [
        "#### BPE + TFIDF"
      ],
      "metadata": {
        "id": "PeWEQhquX2_C"
      }
    },
    {
      "cell_type": "code",
      "source": [
        "sgd_clf_BPE = findSGD(tfidf_train_BPE, y_train_BPE, tfidf_test_BPE, y_test_BPE)"
      ],
      "metadata": {
        "colab": {
          "base_uri": "https://localhost:8080/",
          "height": 364
        },
        "id": "RwEpygvw4eVu",
        "outputId": "4d6419ef-69f3-4427-cd8e-78113ab347c8"
      },
      "execution_count": 111,
      "outputs": [
        {
          "output_type": "stream",
          "name": "stdout",
          "text": [
            "SGD Accuracy: 94.28%\n",
            "Precision: 94.49%\n",
            "Recall: 93.89%\n",
            "F1-Score: 94.19%\n"
          ]
        },
        {
          "output_type": "display_data",
          "data": {
            "text/plain": [
              "<Figure size 432x288 with 2 Axes>"
            ],
            "image/png": "[encoded data removed]"
          },
          "metadata": {
            "needs_background": "light"
          }
        }
      ]
    },
    {
      "cell_type": "markdown",
      "source": [
        "#### stemming + TFIDF"
      ],
      "metadata": {
        "id": "J1YVR1P3X-n0"
      }
    },
    {
      "cell_type": "code",
      "source": [
        "sgd_clf_stemmed = findSGD(tfidf_train_stemmed, y_train_stemmed, tfidf_test_stemmed, y_test_stemmed)"
      ],
      "metadata": {
        "colab": {
          "base_uri": "https://localhost:8080/",
          "height": 365
        },
        "id": "S0sUNTgwX-Y2",
        "outputId": "7ae42144-67de-459e-cb0d-0b04a0a2178a"
      },
      "execution_count": 112,
      "outputs": [
        {
          "output_type": "stream",
          "name": "stdout",
          "text": [
            "SGD Accuracy: 94.39%\n",
            "Precision: 93.76%\n",
            "Recall: 94.95%\n",
            "F1-Score: 94.35%\n"
          ]
        },
        {
          "output_type": "display_data",
          "data": {
            "text/plain": [
              "<Figure size 432x288 with 2 Axes>"
            ],
            "image/png": "[encoded data removed]"
          },
          "metadata": {
            "needs_background": "light"
          }
        }
      ]
    },
    {
      "cell_type": "markdown",
      "source": [
        "#### Decision Tree Classifier"
      ],
      "metadata": {
        "id": "0OlbHLZBGRcs"
      }
    },
    {
      "cell_type": "code",
      "source": [
        "def findDT(tfidf_train, y_train, tfidf_test, y_test):\n",
        "  dt_clf = DecisionTreeClassifier()\n",
        "  dt_clf.fit(tfidf_train,y_train)\n",
        "  dt_pred = dt_clf.predict(tfidf_test)\n",
        "\n",
        "  DTscore=accuracy_score(y_test,dt_pred)\n",
        "  print(f'SGD Accuracy: {round(DTscore*100,2)}%')\n",
        "\n",
        "  precision, recall, f1score, support = precision_recall_fscore_support(y_test, dt_pred, beta=1, average='binary')\n",
        "  print(f'Precision: {round(precision*100,2)}%')\n",
        "  print(f'Recall: {round(recall*100,2)}%')\n",
        "  print(f'F1-Score: {round(f1score*100,2)}%')\n",
        "\n",
        "  dt_cm = confusion_matrix(y_test,dt_pred)\n",
        "\n",
        "  dt_cm_display = ConfusionMatrixDisplay(dt_cm).plot()\n",
        "  return dt_clf"
      ],
      "metadata": {
        "id": "gQ4w0gHnGUHT"
      },
      "execution_count": 113,
      "outputs": []
    },
    {
      "cell_type": "markdown",
      "source": [
        "#### BPE + TFIDF"
      ],
      "metadata": {
        "id": "QtsMSgwmYMRt"
      }
    },
    {
      "cell_type": "code",
      "source": [
        "\n",
        "dt_clf_BPE = findDT(tfidf_train_BPE, y_train_BPE, tfidf_test_BPE, y_test_BPE)"
      ],
      "metadata": {
        "colab": {
          "base_uri": "https://localhost:8080/",
          "height": 364
        },
        "id": "ysmlbCNvGWuI",
        "outputId": "0b05430d-d1de-44a4-b809-458d27276743"
      },
      "execution_count": 114,
      "outputs": [
        {
          "output_type": "stream",
          "name": "stdout",
          "text": [
            "SGD Accuracy: 87.21%\n",
            "Precision: 85.2%\n",
            "Recall: 89.68%\n",
            "F1-Score: 87.38%\n"
          ]
        },
        {
          "output_type": "display_data",
          "data": {
            "text/plain": [
              "<Figure size 432x288 with 2 Axes>"
            ],
            "image/png": "[encoded data removed]"
          },
          "metadata": {
            "needs_background": "light"
          }
        }
      ]
    },
    {
      "cell_type": "markdown",
      "source": [
        "#### stemming + TFIDF"
      ],
      "metadata": {
        "id": "cNz_LoR1YQ1k"
      }
    },
    {
      "cell_type": "code",
      "source": [
        "dt_clf_stemmed = findDT(tfidf_train_stemmed, y_train_stemmed, tfidf_test_stemmed, y_test_stemmed)"
      ],
      "metadata": {
        "colab": {
          "base_uri": "https://localhost:8080/",
          "height": 364
        },
        "id": "_ImR-tc4YQoc",
        "outputId": "e58a305b-76dc-43f3-959b-193043d42800"
      },
      "execution_count": 115,
      "outputs": [
        {
          "output_type": "stream",
          "name": "stdout",
          "text": [
            "SGD Accuracy: 90.54%\n",
            "Precision: 90.17%\n",
            "Recall: 90.74%\n",
            "F1-Score: 90.45%\n"
          ]
        },
        {
          "output_type": "display_data",
          "data": {
            "text/plain": [
              "<Figure size 432x288 with 2 Axes>"
            ],
            "image/png": "[encoded data removed]"
          },
          "metadata": {
            "needs_background": "light"
          }
        }
      ]
    },
    {
      "cell_type": "markdown",
      "source": [
        "#### XGBoost"
      ],
      "metadata": {
        "id": "nYrbtctqGYmc"
      }
    },
    {
      "cell_type": "code",
      "source": [
        "def findXGB(tfidf_train, y_train, tfidf_test, y_test):\n",
        "  xgb_clf = xgb.XGBClassifier()\n",
        "  xgb_clf.fit(tfidf_train,y_train)\n",
        "  xgb_pred = xgb_clf.predict(tfidf_test)\n",
        "\n",
        "  XGBscore=accuracy_score(y_test,xgb_pred)\n",
        "  print(f'XGBoost Accuracy: {round(XGBscore*100,2)}%')\n",
        "\n",
        "  precision, recall, f1score, support = precision_recall_fscore_support(y_test, xgb_pred, beta=1, average='binary')\n",
        "  print(f'Precision: {round(precision*100,2)}%')\n",
        "  print(f'Recall: {round(recall*100,2)}%')\n",
        "  print(f'F1-Score: {round(f1score*100,2)}%')\n",
        "\n",
        "  xgb_cm = confusion_matrix(y_test,xgb_pred)\n",
        "\n",
        "  xgb_cm_display = ConfusionMatrixDisplay(xgb_cm).plot()\n",
        "\n",
        "  return xgb_clf"
      ],
      "metadata": {
        "id": "k-hzTMfXGVbU"
      },
      "execution_count": 116,
      "outputs": []
    },
    {
      "cell_type": "markdown",
      "source": [
        "#### BPE + TFIDF"
      ],
      "metadata": {
        "id": "wjCiOYHlYewk"
      }
    },
    {
      "cell_type": "code",
      "source": [
        "xgb_BPE = findXGB(tfidf_train_BPE, y_train_BPE, tfidf_test_BPE, y_test_BPE)"
      ],
      "metadata": {
        "colab": {
          "base_uri": "https://localhost:8080/",
          "height": 364
        },
        "id": "577LuwJ9GU7U",
        "outputId": "2dd2ec1f-4df6-41a2-d95d-49b5fe564e71"
      },
      "execution_count": 117,
      "outputs": [
        {
          "output_type": "stream",
          "name": "stdout",
          "text": [
            "XGBoost Accuracy: 92.31%\n",
            "Precision: 94.85%\n",
            "Recall: 89.26%\n",
            "F1-Score: 91.97%\n"
          ]
        },
        {
          "output_type": "display_data",
          "data": {
            "text/plain": [
              "<Figure size 432x288 with 2 Axes>"
            ],
            "image/png": "[encoded data removed]"
          },
          "metadata": {
            "needs_background": "light"
          }
        }
      ]
    },
    {
      "cell_type": "markdown",
      "source": [
        "#### stemming + TFIDF"
      ],
      "metadata": {
        "id": "1Q44dhb2YihU"
      }
    },
    {
      "cell_type": "code",
      "source": [
        "xgb_stemmed = findXGB(tfidf_train_stemmed, y_train_stemmed, tfidf_test_stemmed, y_test_stemmed)"
      ],
      "metadata": {
        "colab": {
          "base_uri": "https://localhost:8080/",
          "height": 364
        },
        "id": "JGXYxarjYiOk",
        "outputId": "eea380cc-bf2d-456d-c8a7-921e81743c33"
      },
      "execution_count": 118,
      "outputs": [
        {
          "output_type": "stream",
          "name": "stdout",
          "text": [
            "XGBoost Accuracy: 93.76%\n",
            "Precision: 95.81%\n",
            "Recall: 91.37%\n",
            "F1-Score: 93.53%\n"
          ]
        },
        {
          "output_type": "display_data",
          "data": {
            "text/plain": [
              "<Figure size 432x288 with 2 Axes>"
            ],
            "image/png": "[encoded data removed]"
          },
          "metadata": {
            "needs_background": "light"
          }
        }
      ]
    },
    {
      "cell_type": "markdown",
      "source": [
        "#### Extra Trees"
      ],
      "metadata": {
        "id": "x7ma83WDOYNY"
      }
    },
    {
      "cell_type": "code",
      "source": [
        "def findET(tfidf_train, y_train, tfidf_test, y_test):\n",
        "  et = ExtraTreesClassifier()\n",
        "  et.fit(tfidf_train,y_train)\n",
        "  et_pred = et.predict(tfidf_test)\n",
        "\n",
        "  ETscore=accuracy_score(y_test,et_pred)\n",
        "  print(f'Extra Trees Accuracy: {round(ETscore*100,2)}%')\n",
        "\n",
        "  precision, recall, f1score, support = precision_recall_fscore_support(y_test, et_pred, beta=1, average='binary')\n",
        "  print(f'Precision: {round(precision*100,2)}%')\n",
        "  print(f'Recall: {round(recall*100,2)}%')\n",
        "  print(f'F1-Score: {round(f1score*100,2)}%')\n",
        "\n",
        "  et_cm = confusion_matrix(y_test,et_pred)\n",
        "\n",
        "  et_cm_display = ConfusionMatrixDisplay(et_cm).plot()\n",
        "  return et"
      ],
      "metadata": {
        "id": "0-iHeATtOZF3"
      },
      "execution_count": 119,
      "outputs": []
    },
    {
      "cell_type": "markdown",
      "source": [
        "#### BPE + TFIDF"
      ],
      "metadata": {
        "id": "nykQ9UJOZAtV"
      }
    },
    {
      "cell_type": "code",
      "source": [
        "et_BPE = findET(tfidf_train_BPE, y_train_BPE, tfidf_test_BPE, y_test_BPE)"
      ],
      "metadata": {
        "colab": {
          "base_uri": "https://localhost:8080/",
          "height": 367
        },
        "id": "-DW0GXBFOajq",
        "outputId": "06289103-3a8c-403d-f3db-b667416acf80"
      },
      "execution_count": 120,
      "outputs": [
        {
          "output_type": "stream",
          "name": "stdout",
          "text": [
            "Extra Trees Accuracy: 90.85%\n",
            "Precision: 87.43%\n",
            "Recall: 95.16%\n",
            "F1-Score: 91.13%\n"
          ]
        },
        {
          "output_type": "display_data",
          "data": {
            "text/plain": [
              "<Figure size 432x288 with 2 Axes>"
            ],
            "image/png": "[encoded data removed]"
          },
          "metadata": {
            "needs_background": "light"
          }
        }
      ]
    },
    {
      "cell_type": "markdown",
      "source": [
        "#### stemming + TFIDF"
      ],
      "metadata": {
        "id": "c7EgpsxzZDOV"
      }
    },
    {
      "cell_type": "code",
      "source": [
        "et_stemmed = findET(tfidf_train_stemmed, y_train_stemmed, tfidf_test_stemmed, y_test_stemmed)"
      ],
      "metadata": {
        "colab": {
          "base_uri": "https://localhost:8080/",
          "height": 368
        },
        "id": "Guu3sE86ZCrM",
        "outputId": "db72d192-b8ee-4154-a30a-238e00a0785a"
      },
      "execution_count": 121,
      "outputs": [
        {
          "output_type": "stream",
          "name": "stdout",
          "text": [
            "Extra Trees Accuracy: 92.41%\n",
            "Precision: 90.2%\n",
            "Recall: 94.95%\n",
            "F1-Score: 92.51%\n"
          ]
        },
        {
          "output_type": "display_data",
          "data": {
            "text/plain": [
              "<Figure size 432x288 with 2 Axes>"
            ],
            "image/png": "[encoded data removed]"
          },
          "metadata": {
            "needs_background": "light"
          }
        }
      ]
    },
    {
      "cell_type": "markdown",
      "source": [
        "#### AdaBoost"
      ],
      "metadata": {
        "id": "qAIo6XTbQkaG"
      }
    },
    {
      "cell_type": "code",
      "source": [
        "def findABC(tfidf_train, y_train, tfidf_test, y_test):\n",
        "  abc = AdaBoostClassifier()\n",
        "  abc.fit(tfidf_train,y_train)\n",
        "  abc_pred = abc.predict(tfidf_test)\n",
        "\n",
        "  ABCscore=accuracy_score(y_test,abc_pred)\n",
        "  print(f'adaBoost Accuracy: {round(ABCscore*100,2)}%')\n",
        "\n",
        "  precision, recall, f1score, support = precision_recall_fscore_support(y_test, abc_pred, beta=1, average='binary')\n",
        "  print(f'Precision: {round(precision*100,2)}%')\n",
        "  print(f'Recall: {round(recall*100,2)}%')\n",
        "  print(f'F1-Score: {round(f1score*100,2)}%')\n",
        "\n",
        "  abc_cm = confusion_matrix(y_test,abc_pred)\n",
        "\n",
        "  abc_cm_display = ConfusionMatrixDisplay(abc_cm).plot()\n",
        "  return abc"
      ],
      "metadata": {
        "id": "tUqrEgCcOaCX"
      },
      "execution_count": 122,
      "outputs": []
    },
    {
      "cell_type": "markdown",
      "source": [
        "#### BPE + TFIDF"
      ],
      "metadata": {
        "id": "KnQkVAoZZzYG"
      }
    },
    {
      "cell_type": "code",
      "source": [
        "abc_BPE = findABC(tfidf_train_BPE, y_train_BPE, tfidf_test_BPE, y_test_BPE)"
      ],
      "metadata": {
        "colab": {
          "base_uri": "https://localhost:8080/",
          "height": 366
        },
        "id": "Rg2KAiNTQluI",
        "outputId": "eb86d7e1-9834-4d37-9704-d0435c00a3f5"
      },
      "execution_count": 123,
      "outputs": [
        {
          "output_type": "stream",
          "name": "stdout",
          "text": [
            "adaBoost Accuracy: 91.89%\n",
            "Precision: 93.06%\n",
            "Recall: 90.32%\n",
            "F1-Score: 91.67%\n"
          ]
        },
        {
          "output_type": "display_data",
          "data": {
            "text/plain": [
              "<Figure size 432x288 with 2 Axes>"
            ],
            "image/png": "[encoded data removed]"
          },
          "metadata": {
            "needs_background": "light"
          }
        }
      ]
    },
    {
      "cell_type": "markdown",
      "source": [
        "#### stemming + TFIDF"
      ],
      "metadata": {
        "id": "F8Uu_JvuZ7ak"
      }
    },
    {
      "cell_type": "code",
      "source": [
        "abc_stemmed = findABC(tfidf_train_stemmed, y_train_stemmed, tfidf_test_stemmed, y_test_stemmed)"
      ],
      "metadata": {
        "colab": {
          "base_uri": "https://localhost:8080/",
          "height": 365
        },
        "id": "R3lqT9eRZ69P",
        "outputId": "c74771ac-f956-4cdb-d2c6-9b6ea4fe5d4c"
      },
      "execution_count": 124,
      "outputs": [
        {
          "output_type": "stream",
          "name": "stdout",
          "text": [
            "adaBoost Accuracy: 92.2%\n",
            "Precision: 93.29%\n",
            "Recall: 90.74%\n",
            "F1-Score: 92.0%\n"
          ]
        },
        {
          "output_type": "display_data",
          "data": {
            "text/plain": [
              "<Figure size 432x288 with 2 Axes>"
            ],
            "image/png": "[encoded data removed]"
          },
          "metadata": {
            "needs_background": "light"
          }
        }
      ]
    },
    {
      "cell_type": "markdown",
      "source": [
        "# Voting Classifier"
      ],
      "metadata": {
        "id": "uLSwLZKV_hvP"
      }
    },
    {
      "cell_type": "code",
      "source": [
        "def findVoting(pac, MultNB,rfc, svc, LogReg, sgd_clf, dt_clf, xgb, et, abc, tfidf_train,y_train, tfidf_test):\n",
        "  estimatorList = [('pac',pac),('MultNB',MultNB),('rfc',rfc),('svc',svc),('LogReg',LogReg),\n",
        "                  ('sgd_clf',sgd_clf),('dt_clf',dt_clf),('xgb',xgb),('et',et),('abc',abc)]\n",
        "\n",
        "\n",
        "  Ensemb = VotingClassifier(estimators = estimatorList, voting = 'hard')\n",
        "  Ensemb.fit(tfidf_train,y_train)\n",
        "  Ensemb_pred=Ensemb.predict(tfidf_test)\n",
        "\n",
        "  #filename = 'finalized_model.sav'\n",
        "  #pickle.dump(Ensemb, open(filename, 'wb'))\n",
        "\n",
        "  score4=accuracy_score(y_test,Ensemb_pred)\n",
        "  print(f'Ensemble Learning Accuracy: {round(score4*100,2)}%')\n",
        "\n",
        "  precision, recall, f1score, support = precision_recall_fscore_support(y_test, Ensemb_pred, beta=1, average='binary')\n",
        "  print(f'Precision: {round(precision*100,2)}%')\n",
        "  print(f'Recall: {round(recall*100,2)}%')\n",
        "  print(f'F1-Score: {round(f1score*100,2)}%')\n",
        "\n",
        "  Ensemb_cm = confusion_matrix(y_test,Ensemb_pred)\n",
        "\n",
        "  Encemb_cm_display = ConfusionMatrixDisplay(Ensemb_cm).plot()\n",
        "\n",
        "  return Ensemb"
      ],
      "metadata": {
        "id": "GV6dWOin_opj"
      },
      "execution_count": 126,
      "outputs": []
    },
    {
      "cell_type": "markdown",
      "source": [
        "###### BPE + TFIDF"
      ],
      "metadata": {
        "id": "4h2ZOtzgn3RK"
      }
    },
    {
      "cell_type": "code",
      "source": [
        "Ensemb_BPE = findVoting(pac_BPE, MultNB_BPE, rfc_BPE, svc_BPE, LogReg_BPE, sgd_clf_BPE, dt_clf_BPE, xgb_BPE, et_BPE, abc_BPE, tfidf_train_BPE, y_train_BPE, tfidf_test_BPE)"
      ],
      "metadata": {
        "colab": {
          "base_uri": "https://localhost:8080/",
          "height": 364
        },
        "id": "slnfaTDlA2Q5",
        "outputId": "68a45d53-7e0a-4081-fdab-ef6042bb0036"
      },
      "execution_count": 127,
      "outputs": [
        {
          "output_type": "stream",
          "name": "stdout",
          "text": [
            "Ensemble Learning Accuracy: 94.7%\n",
            "Precision: 95.69%\n",
            "Recall: 93.47%\n",
            "F1-Score: 94.57%\n"
          ]
        },
        {
          "output_type": "display_data",
          "data": {
            "text/plain": [
              "<Figure size 432x288 with 2 Axes>"
            ],
            "image/png": "[encoded data removed]"
          },
          "metadata": {
            "needs_background": "light"
          }
        }
      ]
    },
    {
      "cell_type": "markdown",
      "source": [
        "#### stemming + TFIDF"
      ],
      "metadata": {
        "id": "SrA0aR8ImKpF"
      }
    },
    {
      "cell_type": "code",
      "source": [
        "Ensemb_stemmed = findVoting(pac_stemmed, MultNB_stemmed, rfc_stemmed, svc_stemmed, LogReg_stemmed, sgd_clf_stemmed, dt_clf_stemmed, xgb_stemmed, et_stemmed, abc_stemmed, tfidf_train_stemmed, y_train_stemmed, tfidf_test_stemmed)"
      ],
      "metadata": {
        "colab": {
          "base_uri": "https://localhost:8080/",
          "height": 364
        },
        "id": "6EgLat68mKS2",
        "outputId": "1ac8a8ff-89a0-4e40-8d2d-96e2fd030e04"
      },
      "execution_count": 128,
      "outputs": [
        {
          "output_type": "stream",
          "name": "stdout",
          "text": [
            "Ensemble Learning Accuracy: 95.01%\n",
            "Precision: 95.72%\n",
            "Recall: 94.11%\n",
            "F1-Score: 94.9%\n"
          ]
        },
        {
          "output_type": "display_data",
          "data": {
            "text/plain": [
              "<Figure size 432x288 with 2 Axes>"
            ],
            "image/png": "[encoded data removed]"
          },
          "metadata": {
            "needs_background": "light"
          }
        }
      ]
    },
    {
      "cell_type": "markdown",
      "source": [
        "## Predicting External Data"
      ],
      "metadata": {
        "id": "vt2n9gsuxFNY"
      }
    },
    {
      "cell_type": "markdown",
      "source": [
        "#### Sample Real News\n",
        "https://news.abs-cbn.com/entertainment/12/11/22/john-denver-trending-kauna-unahang-pinoy-film-na-naipalabas-sa-mga-sinehan-sa-sokor"
      ],
      "metadata": {
        "id": "rqTs1QKO0tGG"
      }
    },
    {
      "cell_type": "code",
      "source": [
        "#inputText = str(input(\"enter news content\"))\n",
        "inputReal = \"SOUTH KOREA - Sa kauna-unahang pagkakataon, napanood ang pelikulang Pinoy sa mga sinehan sa South Korea gaya ng CGV, Lotte Cinema at Megabox. Gumawa ng kasaysayan ang pelikulang 'John Denver Trending' bilang ang pinakaunang Pinoy film na ipinalabas sa mga wide screen cinemas sa South Korea. “John Denver Trending is an award-winning and critically-acclaimed film from the Philippines. It won best picture at the Philippine Cinemalaya Independent Film Festival. This film was screened at the 24th Busan International Film Festival...you are all part of the history because it is the first Philippine film to be shown commercially in wide release in Korea,” pahayag ni Ambasador Ma. Theresa B. Dizon-De Vega. Isinulat at idinirek ni Arden Rod Condez ang pelikula na pinagbidahan nina Jansen Magpusao at Meryll Soriano.  “It is a story about issues that many young people in different countries, not just in the Philippines, but also in Korea, face every day. Themes of alienation, the use and influence of social media and online bullying are all exhibited and seen in this beautiful film. It has many lessons for everyone; for parents, for young people, for teachers and for the whole of the society,” dagdag ni Amb. Dizon-De Vega.  Sa mga katulad ni Silvia Kim na isang social media influencer, relatable and pelikula lalo na sa mga negatibo at batikos mula sa mga komento.   “This is so realistic. And it was like a documentary...more relatable,” ani Sylvia. Natuwa ang mga manonood maging ang mga Korean.   “It was an honor for me to watch this movie. For me, frankly speaking, I visited the Philippines several times, so when I watched the movie, the sceneries the views of the movie, was [were] familiar to me. And it was [like], Oh I saw the schools, I saw the roads. It was so interesting and was amazing, especially the topic… it was so touching, it was heavy. It was good and educational,” sabi ni Hoseung Jung, isang aktor sa South Korea. Hindi man ito Korean film, pinanood pa rin ito ng mga Korean at maging ng mga Pinoy dahil sa mensaheng dala ng pelikula na angkop sa makabagong panahon.\"\n",
        "#inputText = [inputText]"
      ],
      "metadata": {
        "id": "_N8aqfHzy5WG"
      },
      "execution_count": 146,
      "outputs": []
    },
    {
      "cell_type": "markdown",
      "source": [
        "#### Sample Fake News\n",
        "\n",
        "1 = from dataset\n",
        "\n",
        "2 = translated multile times\n",
        "\n",
        "3 = https://www.factrakers.org/post/robredo-didn-t-concede-in-may-10-speech"
      ],
      "metadata": {
        "id": "xMIAMPqhBCHU"
      }
    },
    {
      "cell_type": "code",
      "source": [
        "#inputFake = \"May bagong paandar ang mga anti-DU30, at ito ay pag-po-post ng mga black ang white videos ng mga peronalidad sa mundo ng showbiz at sining kung saan pinahahapyawan nila ang Duterte Administration. Ngunit sa serye ng mga videos na kanilang inilathala sa kanilang Facebook page, ang video ni Director Joel Lamangan ang pinagpiyestahan ng husto ng mga netizens. Ayon kasi kay lamangan, walang respeto daw ang kasalukuyang gobyerno at iboto daw ang mga tagaoposisyon para mapatunayan ang pagiging tunay na Pilipino.\"\n",
        "#inputFake2 = \"Ang lahat -colea -cgv, lotte cinema, mega box, atbp, ang unang nakakita sa Pinoy sa isang teatro sa pelikula ng Korea. Ang pelikulang 'John Denver' ay may kwento bilang unang broadcast ng pelikula ng Pinoy sa isang malaking screen ng sinehan sa Korea. 'Si John Denver ay isang pelikula na nagsakripisyo sa kritiko ng Pilipinas. Nanalo siya ng pinakamahusay na larawan sa Filipino Cinemulaya Independent Film Festival. Ang pelikulang ito ay ginanap sa ika -24 na International Film Festival sa Busan. Delined ... Lahat ay isang bahagi ng kuwentong ito. Ito ang unang pelikula ng Pilipinas, na isang komersyal na form sa isang malawak na hanay ng mga paglabas sa Korea. Teresa B. Dizon -So Vega. Ang pelikulang Yanssen Mug Pass at Marilla Soriano ay sumulat at pinangunahan ang mga capaces ng Arden. 'Ito ay isang kwento tungkol sa marami Ang mga kabataan sa iba't ibang bansa, hindi lamang sa Pilipinas kundi pati na rin sa Korea. Ang magandang pelikula na ito ay sumasalamin sa problema ng pag -ihiwalay, paggamit, at paggamit at epekto ng mga social network. Sinabi ni Amb na marami siyang aralin para sa lahat, para sa mga magulang, kabataan, guro, at lipunan. 'Vega Dizon. Para sa mga nagmamahal kay Sylvia Kim, na nakakaapekto sa mga social network, lalo silang pinupuna at binatikos sa kanilang mga opinyon, pagkilala at pagbaril sa mga pelikula.' Ito ay tunay na totoo, at ito ay tulad ng isang dokumentaryo ... mas kinikilala, 'Sinabi ni Sylvia. Masaya ang madla na maging Korean.' Ang panonood ng pelikulang ito ay isang malaking karangalan para sa akin. Para sa akin, lantaran, binisita ko ang Pilipinas nang maraming beses, kaya nang makita ko ang pelikula, ang tanawin na alam ko ay tungkol sa pagtingin sa pelikula. Iyon ay. At ito ay [yo], oh, nakita ko ang paaralan, nakita ko ang kalsada. Ito ay napaka -kagiliw -giliw at hindi kapani -paniwala, lalo na isang problema ... napakaganda. Mahirap iyon. Sinabi ng aktor ng Korea na si Hoseen Jung, ngunit hindi ito isang pelikulang Koreano, ngunit nakita ko pa rin siya mula sa mensahe na kahit na ang mga Koreano at Pilipinas ay angkop para sa bagong panahon. 。\"\n",
        "inputFakeGossip = \"#NationalNews Lamang na ng mahigit 16M ang BBM/SARA tandem sa kalabang Leni/Kiko sa pinakahuling update ng partial unofficial counts ng COMELEC. Aabot sa halos 30M mahigit ang botong nakuna ni presidential candidate Bong bong Marcos habang nasa mahigit 14M lamang ang nakuhang boto ni presidential candidate Leni Robredo. Gayun din si vice presidential candidate Sara Duterte na nakakuha ng mahigit 30M na boto habang nasa mahigit 8M na boto naman ang nakuha ni vice presidential candidate Kiko Pangilinan. Kanina ang nag-concede na si Leni Robredo at tinanggap na nito ang kaniyang pagkatalo kay BBM ngayong #halalan2022, habang nagpasalamat naman kapwa si BBM at Sara sa kanilang mga taga suporta. | #palawanstar\"\n",
        "\n"
      ],
      "metadata": {
        "id": "BlgGFthmBB2_"
      },
      "execution_count": 177,
      "outputs": []
    },
    {
      "cell_type": "markdown",
      "source": [
        "#### BPE + TFIDF"
      ],
      "metadata": {
        "id": "VwybfSDIyCs_"
      }
    },
    {
      "cell_type": "code",
      "source": [
        "def BPE_TFIDF_Prediction(inputText):  \n",
        "  inputText_cleaned = removeCharactersAndLowercase(inputText)\n",
        "  inputText_BPE = findBPE(inputText_cleaned)\n",
        "  inputText_BPE = [inputText_BPE]\n",
        "  inputText_tfidf_BPE = tfidf_vectorizer_BPE.transform(inputText_BPE)\n",
        "  prediction_tfidf_BPE = Ensemb_BPE.predict(inputText_tfidf_BPE)\n",
        "  if prediction_tfidf_BPE[0] == 0:\n",
        "    prediction = \"Real\"\n",
        "  else:\n",
        "    prediction = \"Fake\"\n",
        "  print(prediction)"
      ],
      "metadata": {
        "id": "2fUFQHMCxE-i"
      },
      "execution_count": 159,
      "outputs": []
    },
    {
      "cell_type": "code",
      "source": [
        "BPE_TFIDF_Prediction(inputReal)\n",
        "#BPE_TFIDF_Prediction(inputFake)\n",
        "BPE_TFIDF_Prediction(inputFakeGossip)"
      ],
      "metadata": {
        "colab": {
          "base_uri": "https://localhost:8080/"
        },
        "id": "-lRxGIwn5pnK",
        "outputId": "668b8d2a-6453-41a9-c3a4-9c6f9b1306a2"
      },
      "execution_count": 178,
      "outputs": [
        {
          "output_type": "stream",
          "name": "stdout",
          "text": [
            "Real\n",
            "Fake\n"
          ]
        }
      ]
    },
    {
      "cell_type": "markdown",
      "source": [
        "#### stemming + TFIDF"
      ],
      "metadata": {
        "id": "oyeM6Y135FH1"
      }
    },
    {
      "cell_type": "code",
      "source": [
        "def stemming_TFIDF_Prediction(inputText):  \n",
        "  inputText_cleaned = removeCharactersAndLowercase(inputText)\n",
        "  inputText_stemmed = findStemmed(inputText_cleaned)\n",
        "  inputText_stemmed = [inputText_stemmed]\n",
        "  inputText_tfidf_stemmed = tfidf_vectorizer_stemmed.transform(inputText_stemmed)\n",
        "  prediction_tfidf_stemmed = Ensemb_stemmed.predict(inputText_tfidf_stemmed)\n",
        "  if prediction_tfidf_stemmed[0] == 0:\n",
        "    prediction = \"Real\"\n",
        "  else:\n",
        "    prediction = \"Fake\"\n",
        "  print(prediction)"
      ],
      "metadata": {
        "id": "bzeD4HMF5Fc2"
      },
      "execution_count": 168,
      "outputs": []
    },
    {
      "cell_type": "code",
      "source": [
        "stemming_TFIDF_Prediction(inputReal)\n",
        "#stemming_TFIDF_Prediction(inputFake)\n",
        "stemming_TFIDF_Prediction(inputFakeGossip)"
      ],
      "metadata": {
        "colab": {
          "base_uri": "https://localhost:8080/"
        },
        "id": "dnqKHQAP6Tce",
        "outputId": "4dd93b20-af4c-41fa-a2c8-44da89b78b3c"
      },
      "execution_count": 179,
      "outputs": [
        {
          "output_type": "stream",
          "name": "stdout",
          "text": [
            "Real\n",
            "Fake\n"
          ]
        }
      ]
    },
    {
      "cell_type": "markdown",
      "source": [
        "# References\n",
        "\n",
        "[1] https://data-flair.training/blogs/advanced-python-project-detecting-fake-news/\n",
        "\n",
        "[2] https://github.com/nabi-hassan/Fake-news-Detection-using-Ensemble-Learning-/blob/master/newnote.ipynb\n",
        "\n",
        "[3] https://towardsdatascience.com/fake-news-detection-with-machine-learning-using-python-3347d9899ad1\n",
        "\n",
        "[4] https://jovian.ai/piero-paialunga/notebook\n",
        "\n",
        "[5] https://youtu.be/5X27excCyXk\n",
        "\n",
        "[6] https://medium.com/@yashj302/text-cleaning-using-regex-python-f1dded1ac5bd\n",
        "\n",
        "[7] https://stackoverflow.com/questions/32705962/removing-any-single-letter-on-a-string-in-python?answertab=scoredesc#tab-top"
      ],
      "metadata": {
        "id": "4vw5CxWdox8E"
      }
    }
  ]
}